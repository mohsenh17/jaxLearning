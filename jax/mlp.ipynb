{
  "cells": [
    {
      "cell_type": "code",
      "execution_count": 2,
      "metadata": {
        "id": "9GIT8LkAzNun"
      },
      "outputs": [],
      "source": [
        "import jax\n",
        "import jax.numpy as jnp\n",
        "import numpy as np\n",
        "\n",
        "from jax import grad, jit, vmap, pmap\n",
        "\n",
        "from jax import random\n",
        "import matplotlib.pyplot as plt\n",
        "from copy import deepcopy\n",
        "from typing import Tuple, NamedTuple\n",
        "import functools"
      ]
    },
    {
      "cell_type": "code",
      "execution_count": 3,
      "metadata": {
        "id": "-lgxAqpHzNup",
        "outputId": "c28be304-adf6-450f-9671-40efb8e95f33",
        "colab": {
          "base_uri": "https://localhost:8080/"
        }
      },
      "outputs": [
        {
          "output_type": "execute_result",
          "data": {
            "text/plain": [
              "[{'biases': (32,), 'weights': (1, 32)},\n",
              " {'biases': (128,), 'weights': (32, 128)},\n",
              " {'biases': (32,), 'weights': (128, 32)},\n",
              " {'biases': (1,), 'weights': (32, 1)}]"
            ]
          },
          "metadata": {},
          "execution_count": 3
        }
      ],
      "source": [
        "def params_initalization(layer_widths):\n",
        "    params = []\n",
        "    for n_in, n_out in zip(layer_widths[:-1], layer_widths[1:]):\n",
        "        params.append(\n",
        "            dict(weights=np.random.normal(size=(n_in, n_out)) * np.sqrt(2/n_in),\n",
        "                biases=np.ones(shape=(n_out,))\n",
        "        )\n",
        "    )\n",
        "\n",
        "    return params\n",
        "\n",
        "params = params_initalization([1,32,128,32,1])\n",
        "jax.tree.map(lambda x: x.shape, params)\n",
        "#jax.tree.leaves(params)"
      ]
    },
    {
      "cell_type": "code",
      "execution_count": 4,
      "metadata": {
        "id": "tVwwN2_XzNur"
      },
      "outputs": [],
      "source": [
        "def forward(params, x):\n",
        "    *hidden, last = params\n",
        "    for layer in hidden:\n",
        "        x = jax.nn.relu(jnp.dot(x, layer['weights'])+layer['biases'])\n",
        "\n",
        "    return jnp.dot(x,last['weights'])+last['biases']\n",
        "\n",
        "def loss_fn(params, x, y):\n",
        "    return jnp.sqrt(jnp.mean((forward(params, x) - y) ** 2))  # RMSE loss\n",
        "\n",
        "lr = 0.0001\n",
        "\n",
        "@jit\n",
        "def update(params, x, y):\n",
        "    grads = jax.grad(loss_fn)(params, x, y)\n",
        "\n",
        "    return jax.tree.map(\n",
        "        lambda p, g: p - lr * g, params, grads\n",
        "    )"
      ]
    },
    {
      "cell_type": "code",
      "execution_count": 5,
      "metadata": {
        "id": "Bk7MIr95zNus",
        "outputId": "cdd617fe-c79c-429e-c825-befe35e057e7",
        "colab": {
          "base_uri": "https://localhost:8080/",
          "height": 447
        }
      },
      "outputs": [
        {
          "output_type": "execute_result",
          "data": {
            "text/plain": [
              "<matplotlib.legend.Legend at 0x7e6f9025a4d0>"
            ]
          },
          "metadata": {},
          "execution_count": 5
        },
        {
          "output_type": "display_data",
          "data": {
            "text/plain": [
              "<Figure size 640x480 with 1 Axes>"
            ],
            "image/png": "[encoded data removed]"
          },
          "metadata": {}
        }
      ],
      "source": [
        "xs = np.random.normal(size=(128, 1))\n",
        "ys = xs ** 2\n",
        "num_epochs = 5000\n",
        "for _ in range(num_epochs):\n",
        "    params = update(params, xs, ys)\n",
        "\n",
        "plt.scatter(xs, ys)\n",
        "plt.scatter(xs, forward(params, xs), label='Model prediction')\n",
        "plt.legend()"
      ]
    }
  ],
  "metadata": {
    "kernelspec": {
      "display_name": "jaxENV",
      "language": "python",
      "name": "python3"
    },
    "language_info": {
      "codemirror_mode": {
        "name": "ipython",
        "version": 3
      },
      "file_extension": ".py",
      "mimetype": "text/x-python",
      "name": "python",
      "nbconvert_exporter": "python",
      "pygments_lexer": "ipython3",
      "version": "3.12.4"
    },
    "colab": {
      "provenance": []
    }
  },
  "nbformat": 4,
  "nbformat_minor": 0
}