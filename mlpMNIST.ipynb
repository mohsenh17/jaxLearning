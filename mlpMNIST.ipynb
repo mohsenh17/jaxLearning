{
  "nbformat": 4,
  "nbformat_minor": 0,
  "metadata": {
    "colab": {
      "provenance": [],
      "authorship_tag": "ABX9TyPw2f1QbEZxxVvfzUu7GaAe",
      "include_colab_link": true
    },
    "kernelspec": {
      "name": "python3",
      "display_name": "Python 3"
    },
    "language_info": {
      "name": "python"
    }
  },
  "cells": [
    {
      "cell_type": "markdown",
      "metadata": {
        "id": "view-in-github",
        "colab_type": "text"
      },
      "source": [
        "<a href=\"https://colab.research.google.com/github/mohsenh17/jaxLearning/blob/main/mlpMNIST.ipynb\" target=\"_parent\"><img src=\"https://colab.research.google.com/assets/colab-badge.svg\" alt=\"Open In Colab\"/></a>"
      ]
    },
    {
      "cell_type": "code",
      "execution_count": 7,
      "metadata": {
        "id": "OBZVTh4I_ZuW"
      },
      "outputs": [],
      "source": [
        "import numpy as np\n",
        "import jax.numpy as jnp\n",
        "from jax.scipy.special import logsumexp\n",
        "import jax\n",
        "from jax import jit, vmap, pmap, grad, value_and_grad\n",
        "\n",
        "from torchvision.datasets import MNIST\n",
        "from torch.utils.data import DataLoader"
      ]
    },
    {
      "cell_type": "code",
      "source": [
        "mnist_img_size = (28, 28)\n",
        "def mlp_model_initialization(parent_key, layer_widths):\n",
        "    params =[]\n",
        "    keys = jax.random.split(parent_key, num=len(layer_widths)-1)\n",
        "\n",
        "    for n_in, n_out, key in zip(layer_widths[:-1], layer_widths[1:], keys):\n",
        "        weights_key, bias_key = jax.random.split(key)\n",
        "        weights = jax.random.normal(weights_key, (n_in, n_out))* jnp.sqrt(2 / n_in)\n",
        "        biases = jax.random.normal(bias_key, (n_out,))\n",
        "        params.append(dict(weights=weights, biases=biases))\n",
        "    return params\n",
        "\n",
        "# test\n",
        "key = jax.random.PRNGKey(0)\n",
        "mlp_params = mlp_model_initialization(key, [784, 512, 512, 10])\n",
        "print(jax.tree.map(lambda x: x.shape, mlp_params))"
      ],
      "metadata": {
        "colab": {
          "base_uri": "https://localhost:8080/"
        },
        "id": "U66SyG1p_ty_",
        "outputId": "18c4de8e-9504-4f4a-868c-6107c3869344"
      },
      "execution_count": 18,
      "outputs": [
        {
          "output_type": "stream",
          "name": "stdout",
          "text": [
            "[{'biases': (512,), 'weights': (784, 512)}, {'biases': (512,), 'weights': (512, 512)}, {'biases': (10,), 'weights': (512, 10)}]\n"
          ]
        }
      ]
    },
    {
      "cell_type": "code",
      "source": [
        "def mlp_forward(params, x):\n",
        "    *hidden_layers, last_layer = params\n",
        "    for layer in hidden_layers:\n",
        "        x = jax.nn.relu(jnp.dot(x, layer['weights']) + layer['biases'])\n",
        "    logits = jax.nn.softmax(jnp.dot(x, last_layer['weights']) + last_layer['biases'])\n",
        "    return logits\n",
        "\n",
        "# tests\n",
        "\n",
        "# test single example\n",
        "\n",
        "dummy_img_flat = np.random.randn(np.prod(mnist_img_size))\n",
        "print(dummy_img_flat.shape)\n",
        "\n",
        "prediction = mlp_forward(mlp_params, dummy_img_flat)\n",
        "print(prediction.shape)\n",
        "\n",
        "# test batched function\n",
        "batched_MLP_predict = vmap(mlp_forward, in_axes=(None, 0))\n",
        "\n",
        "dummy_imgs_flat = np.random.randn(16, np.prod(mnist_img_size))\n",
        "print(dummy_imgs_flat.shape)\n",
        "predictions = batched_MLP_predict(mlp_params, dummy_imgs_flat)\n",
        "print(predictions.shape)"
      ],
      "metadata": {
        "colab": {
          "base_uri": "https://localhost:8080/"
        },
        "id": "9SpAXLUcB_ww",
        "outputId": "038f00fc-afa9-43bb-f1e5-882c1fe53ff2"
      },
      "execution_count": 23,
      "outputs": [
        {
          "output_type": "stream",
          "name": "stdout",
          "text": [
            "(784,)\n",
            "(10,)\n",
            "(16, 784)\n",
            "(16, 10)\n"
          ]
        }
      ]
    }
  ]
}