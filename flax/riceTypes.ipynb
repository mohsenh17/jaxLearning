{
  "nbformat": 4,
  "nbformat_minor": 0,
  "metadata": {
    "colab": {
      "provenance": [],
      "authorship_tag": "ABX9TyNjOBAV31viJhENSR9TdBPF",
      "include_colab_link": true
    },
    "kernelspec": {
      "name": "python3",
      "display_name": "Python 3"
    },
    "language_info": {
      "name": "python"
    }
  },
  "cells": [
    {
      "cell_type": "markdown",
      "metadata": {
        "id": "view-in-github",
        "colab_type": "text"
      },
      "source": [
        "<a href=\"https://colab.research.google.com/github/mohsenh17/jaxLearning/blob/main/flax/riceTypes.ipynb\" target=\"_parent\"><img src=\"https://colab.research.google.com/assets/colab-badge.svg\" alt=\"Open In Colab\"/></a>"
      ]
    },
    {
      "cell_type": "code",
      "source": [
        "pip install --upgrade flax"
      ],
      "metadata": {
        "colab": {
          "base_uri": "https://localhost:8080/"
        },
        "id": "bA1Vtf1i4gNT",
        "outputId": "9b7e504d-7b93-4631-dd0b-b069f34c7bad"
      },
      "execution_count": 131,
      "outputs": [
        {
          "output_type": "stream",
          "name": "stdout",
          "text": [
            "Requirement already satisfied: flax in /usr/local/lib/python3.10/dist-packages (0.10.1)\n",
            "Requirement already satisfied: jax>=0.4.27 in /usr/local/lib/python3.10/dist-packages (from flax) (0.4.33)\n",
            "Requirement already satisfied: msgpack in /usr/local/lib/python3.10/dist-packages (from flax) (1.1.0)\n",
            "Requirement already satisfied: optax in /usr/local/lib/python3.10/dist-packages (from flax) (0.2.3)\n",
            "Requirement already satisfied: orbax-checkpoint in /usr/local/lib/python3.10/dist-packages (from flax) (0.6.4)\n",
            "Requirement already satisfied: tensorstore in /usr/local/lib/python3.10/dist-packages (from flax) (0.1.67)\n",
            "Requirement already satisfied: rich>=11.1 in /usr/local/lib/python3.10/dist-packages (from flax) (13.9.4)\n",
            "Requirement already satisfied: typing-extensions>=4.2 in /usr/local/lib/python3.10/dist-packages (from flax) (4.12.2)\n",
            "Requirement already satisfied: PyYAML>=5.4.1 in /usr/local/lib/python3.10/dist-packages (from flax) (6.0.2)\n",
            "Requirement already satisfied: jaxlib<=0.4.33,>=0.4.33 in /usr/local/lib/python3.10/dist-packages (from jax>=0.4.27->flax) (0.4.33)\n",
            "Requirement already satisfied: ml-dtypes>=0.2.0 in /usr/local/lib/python3.10/dist-packages (from jax>=0.4.27->flax) (0.4.1)\n",
            "Requirement already satisfied: numpy>=1.24 in /usr/local/lib/python3.10/dist-packages (from jax>=0.4.27->flax) (1.26.4)\n",
            "Requirement already satisfied: opt-einsum in /usr/local/lib/python3.10/dist-packages (from jax>=0.4.27->flax) (3.4.0)\n",
            "Requirement already satisfied: scipy>=1.10 in /usr/local/lib/python3.10/dist-packages (from jax>=0.4.27->flax) (1.13.1)\n",
            "Requirement already satisfied: markdown-it-py>=2.2.0 in /usr/local/lib/python3.10/dist-packages (from rich>=11.1->flax) (3.0.0)\n",
            "Requirement already satisfied: pygments<3.0.0,>=2.13.0 in /usr/local/lib/python3.10/dist-packages (from rich>=11.1->flax) (2.18.0)\n",
            "Requirement already satisfied: absl-py>=0.7.1 in /usr/local/lib/python3.10/dist-packages (from optax->flax) (1.4.0)\n",
            "Requirement already satisfied: chex>=0.1.86 in /usr/local/lib/python3.10/dist-packages (from optax->flax) (0.1.87)\n",
            "Requirement already satisfied: etils[epy] in /usr/local/lib/python3.10/dist-packages (from optax->flax) (1.10.0)\n",
            "Requirement already satisfied: nest_asyncio in /usr/local/lib/python3.10/dist-packages (from orbax-checkpoint->flax) (1.6.0)\n",
            "Requirement already satisfied: protobuf in /usr/local/lib/python3.10/dist-packages (from orbax-checkpoint->flax) (3.20.3)\n",
            "Requirement already satisfied: humanize in /usr/local/lib/python3.10/dist-packages (from orbax-checkpoint->flax) (4.11.0)\n",
            "Requirement already satisfied: toolz>=0.9.0 in /usr/local/lib/python3.10/dist-packages (from chex>=0.1.86->optax->flax) (0.12.1)\n",
            "Requirement already satisfied: mdurl~=0.1 in /usr/local/lib/python3.10/dist-packages (from markdown-it-py>=2.2.0->rich>=11.1->flax) (0.1.2)\n",
            "Requirement already satisfied: fsspec in /usr/local/lib/python3.10/dist-packages (from etils[epath,epy]->orbax-checkpoint->flax) (2024.10.0)\n",
            "Requirement already satisfied: importlib_resources in /usr/local/lib/python3.10/dist-packages (from etils[epath,epy]->orbax-checkpoint->flax) (6.4.5)\n",
            "Requirement already satisfied: zipp in /usr/local/lib/python3.10/dist-packages (from etils[epath,epy]->orbax-checkpoint->flax) (3.20.2)\n"
          ]
        }
      ]
    },
    {
      "cell_type": "code",
      "source": [
        "import kagglehub\n",
        "path = kagglehub.dataset_download(\"mssmartypants/rice-type-classification\")\n",
        "print(path)"
      ],
      "metadata": {
        "colab": {
          "base_uri": "https://localhost:8080/"
        },
        "id": "fwbKFxj7pI57",
        "outputId": "ca0f9702-74ca-438c-b9f9-cdd91fed96f2"
      },
      "execution_count": 6,
      "outputs": [
        {
          "output_type": "stream",
          "name": "stdout",
          "text": [
            "Warning: Looks like you're using an outdated `kagglehub` version, please consider updating (latest version: 0.3.4)\n",
            "/root/.cache/kagglehub/datasets/mssmartypants/rice-type-classification/versions/2\n"
          ]
        }
      ]
    },
    {
      "cell_type": "code",
      "source": [
        "! mv /root/.cache/kagglehub/datasets/mssmartypants/rice-type-classification/versions/2/riceClassification.csv dataset"
      ],
      "metadata": {
        "id": "KcERX2r92lzz"
      },
      "execution_count": 8,
      "outputs": []
    },
    {
      "cell_type": "code",
      "execution_count": 2,
      "metadata": {
        "id": "EtE2iM_6vHdq"
      },
      "outputs": [],
      "source": [
        "import os\n",
        "import pandas as pd\n",
        "import torch\n",
        "from torch.utils.data import Dataset\n",
        "from torch.utils.data import DataLoader\n",
        "import numpy as np\n",
        "\n",
        "from flax import nnx\n",
        "import jax.numpy as jnp\n",
        "\n",
        "from sklearn.preprocessing import MinMaxScaler\n"
      ]
    },
    {
      "cell_type": "code",
      "source": [
        "df = pd.read_csv(\"dataset/riceClassification.csv\")\n",
        "df.head()"
      ],
      "metadata": {
        "colab": {
          "base_uri": "https://localhost:8080/",
          "height": 226
        },
        "id": "LlWssIU66u0h",
        "outputId": "76642456-5fc3-4937-816b-cd2c24b2995a"
      },
      "execution_count": 3,
      "outputs": [
        {
          "output_type": "execute_result",
          "data": {
            "text/plain": [
              "   id  Area  MajorAxisLength  MinorAxisLength  Eccentricity  ConvexArea  \\\n",
              "0   1  4537        92.229316        64.012769      0.719916        4677   \n",
              "1   2  2872        74.691881        51.400454      0.725553        3015   \n",
              "2   3  3048        76.293164        52.043491      0.731211        3132   \n",
              "3   4  3073        77.033628        51.928487      0.738639        3157   \n",
              "4   5  3693        85.124785        56.374021      0.749282        3802   \n",
              "\n",
              "   EquivDiameter    Extent  Perimeter  Roundness  AspectRation  Class  \n",
              "0      76.004525  0.657536    273.085   0.764510      1.440796      1  \n",
              "1      60.471018  0.713009    208.317   0.831658      1.453137      1  \n",
              "2      62.296341  0.759153    210.012   0.868434      1.465950      1  \n",
              "3      62.551300  0.783529    210.657   0.870203      1.483456      1  \n",
              "4      68.571668  0.769375    230.332   0.874743      1.510000      1  "
            ],
            "text/html": [
              "\n",
              "  <div id=\"df-b9e36604-8672-424c-840f-48825f864c32\" class=\"colab-df-container\">\n",
              "    <div>\n",
              "<style scoped>\n",
              "    .dataframe tbody tr th:only-of-type {\n",
              "        vertical-align: middle;\n",
              "    }\n",
              "\n",
              "    .dataframe tbody tr th {\n",
              "        vertical-align: top;\n",
              "    }\n",
              "\n",
              "    .dataframe thead th {\n",
              "        text-align: right;\n",
              "    }\n",
              "</style>\n",
              "<table border=\"1\" class=\"dataframe\">\n",
              "  <thead>\n",
              "    <tr style=\"text-align: right;\">\n",
              "      <th></th>\n",
              "      <th>id</th>\n",
              "      <th>Area</th>\n",
              "      <th>MajorAxisLength</th>\n",
              "      <th>MinorAxisLength</th>\n",
              "      <th>Eccentricity</th>\n",
              "      <th>ConvexArea</th>\n",
              "      <th>EquivDiameter</th>\n",
              "      <th>Extent</th>\n",
              "      <th>Perimeter</th>\n",
              "      <th>Roundness</th>\n",
              "      <th>AspectRation</th>\n",
              "      <th>Class</th>\n",
              "    </tr>\n",
              "  </thead>\n",
              "  <tbody>\n",
              "    <tr>\n",
              "      <th>0</th>\n",
              "      <td>1</td>\n",
              "      <td>4537</td>\n",
              "      <td>92.229316</td>\n",
              "      <td>64.012769</td>\n",
              "      <td>0.719916</td>\n",
              "      <td>4677</td>\n",
              "      <td>76.004525</td>\n",
              "      <td>0.657536</td>\n",
              "      <td>273.085</td>\n",
              "      <td>0.764510</td>\n",
              "      <td>1.440796</td>\n",
              "      <td>1</td>\n",
              "    </tr>\n",
              "    <tr>\n",
              "      <th>1</th>\n",
              "      <td>2</td>\n",
              "      <td>2872</td>\n",
              "      <td>74.691881</td>\n",
              "      <td>51.400454</td>\n",
              "      <td>0.725553</td>\n",
              "      <td>3015</td>\n",
              "      <td>60.471018</td>\n",
              "      <td>0.713009</td>\n",
              "      <td>208.317</td>\n",
              "      <td>0.831658</td>\n",
              "      <td>1.453137</td>\n",
              "      <td>1</td>\n",
              "    </tr>\n",
              "    <tr>\n",
              "      <th>2</th>\n",
              "      <td>3</td>\n",
              "      <td>3048</td>\n",
              "      <td>76.293164</td>\n",
              "      <td>52.043491</td>\n",
              "      <td>0.731211</td>\n",
              "      <td>3132</td>\n",
              "      <td>62.296341</td>\n",
              "      <td>0.759153</td>\n",
              "      <td>210.012</td>\n",
              "      <td>0.868434</td>\n",
              "      <td>1.465950</td>\n",
              "      <td>1</td>\n",
              "    </tr>\n",
              "    <tr>\n",
              "      <th>3</th>\n",
              "      <td>4</td>\n",
              "      <td>3073</td>\n",
              "      <td>77.033628</td>\n",
              "      <td>51.928487</td>\n",
              "      <td>0.738639</td>\n",
              "      <td>3157</td>\n",
              "      <td>62.551300</td>\n",
              "      <td>0.783529</td>\n",
              "      <td>210.657</td>\n",
              "      <td>0.870203</td>\n",
              "      <td>1.483456</td>\n",
              "      <td>1</td>\n",
              "    </tr>\n",
              "    <tr>\n",
              "      <th>4</th>\n",
              "      <td>5</td>\n",
              "      <td>3693</td>\n",
              "      <td>85.124785</td>\n",
              "      <td>56.374021</td>\n",
              "      <td>0.749282</td>\n",
              "      <td>3802</td>\n",
              "      <td>68.571668</td>\n",
              "      <td>0.769375</td>\n",
              "      <td>230.332</td>\n",
              "      <td>0.874743</td>\n",
              "      <td>1.510000</td>\n",
              "      <td>1</td>\n",
              "    </tr>\n",
              "  </tbody>\n",
              "</table>\n",
              "</div>\n",
              "    <div class=\"colab-df-buttons\">\n",
              "\n",
              "  <div class=\"colab-df-container\">\n",
              "    <button class=\"colab-df-convert\" onclick=\"convertToInteractive('df-b9e36604-8672-424c-840f-48825f864c32')\"\n",
              "            title=\"Convert this dataframe to an interactive table.\"\n",
              "            style=\"display:none;\">\n",
              "\n",
              "  <svg xmlns=\"http://www.w3.org/2000/svg\" height=\"24px\" viewBox=\"0 -960 960 960\">\n",
              "    <path d=\"M120-120v-720h720v720H120Zm60-500h600v-160H180v160Zm220 220h160v-160H400v160Zm0 220h160v-160H400v160ZM180-400h160v-160H180v160Zm440 0h160v-160H620v160ZM180-180h160v-160H180v160Zm440 0h160v-160H620v160Z\"/>\n",
              "  </svg>\n",
              "    </button>\n",
              "\n",
              "  <style>\n",
              "    .colab-df-container {\n",
              "      display:flex;\n",
              "      gap: 12px;\n",
              "    }\n",
              "\n",
              "    .colab-df-convert {\n",
              "      background-color: #E8F0FE;\n",
              "      border: none;\n",
              "      border-radius: 50%;\n",
              "      cursor: pointer;\n",
              "      display: none;\n",
              "      fill: #1967D2;\n",
              "      height: 32px;\n",
              "      padding: 0 0 0 0;\n",
              "      width: 32px;\n",
              "    }\n",
              "\n",
              "    .colab-df-convert:hover {\n",
              "      background-color: #E2EBFA;\n",
              "      box-shadow: 0px 1px 2px rgba(60, 64, 67, 0.3), 0px 1px 3px 1px rgba(60, 64, 67, 0.15);\n",
              "      fill: #174EA6;\n",
              "    }\n",
              "\n",
              "    .colab-df-buttons div {\n",
              "      margin-bottom: 4px;\n",
              "    }\n",
              "\n",
              "    [theme=dark] .colab-df-convert {\n",
              "      background-color: #3B4455;\n",
              "      fill: #D2E3FC;\n",
              "    }\n",
              "\n",
              "    [theme=dark] .colab-df-convert:hover {\n",
              "      background-color: #434B5C;\n",
              "      box-shadow: 0px 1px 3px 1px rgba(0, 0, 0, 0.15);\n",
              "      filter: drop-shadow(0px 1px 2px rgba(0, 0, 0, 0.3));\n",
              "      fill: #FFFFFF;\n",
              "    }\n",
              "  </style>\n",
              "\n",
              "    <script>\n",
              "      const buttonEl =\n",
              "        document.querySelector('#df-b9e36604-8672-424c-840f-48825f864c32 button.colab-df-convert');\n",
              "      buttonEl.style.display =\n",
              "        google.colab.kernel.accessAllowed ? 'block' : 'none';\n",
              "\n",
              "      async function convertToInteractive(key) {\n",
              "        const element = document.querySelector('#df-b9e36604-8672-424c-840f-48825f864c32');\n",
              "        const dataTable =\n",
              "          await google.colab.kernel.invokeFunction('convertToInteractive',\n",
              "                                                    [key], {});\n",
              "        if (!dataTable) return;\n",
              "\n",
              "        const docLinkHtml = 'Like what you see? Visit the ' +\n",
              "          '<a target=\"_blank\" href=https://colab.research.google.com/notebooks/data_table.ipynb>data table notebook</a>'\n",
              "          + ' to learn more about interactive tables.';\n",
              "        element.innerHTML = '';\n",
              "        dataTable['output_type'] = 'display_data';\n",
              "        await google.colab.output.renderOutput(dataTable, element);\n",
              "        const docLink = document.createElement('div');\n",
              "        docLink.innerHTML = docLinkHtml;\n",
              "        element.appendChild(docLink);\n",
              "      }\n",
              "    </script>\n",
              "  </div>\n",
              "\n",
              "\n",
              "<div id=\"df-8c1a706a-45db-454e-943c-bf37a21ea32e\">\n",
              "  <button class=\"colab-df-quickchart\" onclick=\"quickchart('df-8c1a706a-45db-454e-943c-bf37a21ea32e')\"\n",
              "            title=\"Suggest charts\"\n",
              "            style=\"display:none;\">\n",
              "\n",
              "<svg xmlns=\"http://www.w3.org/2000/svg\" height=\"24px\"viewBox=\"0 0 24 24\"\n",
              "     width=\"24px\">\n",
              "    <g>\n",
              "        <path d=\"M19 3H5c-1.1 0-2 .9-2 2v14c0 1.1.9 2 2 2h14c1.1 0 2-.9 2-2V5c0-1.1-.9-2-2-2zM9 17H7v-7h2v7zm4 0h-2V7h2v10zm4 0h-2v-4h2v4z\"/>\n",
              "    </g>\n",
              "</svg>\n",
              "  </button>\n",
              "\n",
              "<style>\n",
              "  .colab-df-quickchart {\n",
              "      --bg-color: #E8F0FE;\n",
              "      --fill-color: #1967D2;\n",
              "      --hover-bg-color: #E2EBFA;\n",
              "      --hover-fill-color: #174EA6;\n",
              "      --disabled-fill-color: #AAA;\n",
              "      --disabled-bg-color: #DDD;\n",
              "  }\n",
              "\n",
              "  [theme=dark] .colab-df-quickchart {\n",
              "      --bg-color: #3B4455;\n",
              "      --fill-color: #D2E3FC;\n",
              "      --hover-bg-color: #434B5C;\n",
              "      --hover-fill-color: #FFFFFF;\n",
              "      --disabled-bg-color: #3B4455;\n",
              "      --disabled-fill-color: #666;\n",
              "  }\n",
              "\n",
              "  .colab-df-quickchart {\n",
              "    background-color: var(--bg-color);\n",
              "    border: none;\n",
              "    border-radius: 50%;\n",
              "    cursor: pointer;\n",
              "    display: none;\n",
              "    fill: var(--fill-color);\n",
              "    height: 32px;\n",
              "    padding: 0;\n",
              "    width: 32px;\n",
              "  }\n",
              "\n",
              "  .colab-df-quickchart:hover {\n",
              "    background-color: var(--hover-bg-color);\n",
              "    box-shadow: 0 1px 2px rgba(60, 64, 67, 0.3), 0 1px 3px 1px rgba(60, 64, 67, 0.15);\n",
              "    fill: var(--button-hover-fill-color);\n",
              "  }\n",
              "\n",
              "  .colab-df-quickchart-complete:disabled,\n",
              "  .colab-df-quickchart-complete:disabled:hover {\n",
              "    background-color: var(--disabled-bg-color);\n",
              "    fill: var(--disabled-fill-color);\n",
              "    box-shadow: none;\n",
              "  }\n",
              "\n",
              "  .colab-df-spinner {\n",
              "    border: 2px solid var(--fill-color);\n",
              "    border-color: transparent;\n",
              "    border-bottom-color: var(--fill-color);\n",
              "    animation:\n",
              "      spin 1s steps(1) infinite;\n",
              "  }\n",
              "\n",
              "  @keyframes spin {\n",
              "    0% {\n",
              "      border-color: transparent;\n",
              "      border-bottom-color: var(--fill-color);\n",
              "      border-left-color: var(--fill-color);\n",
              "    }\n",
              "    20% {\n",
              "      border-color: transparent;\n",
              "      border-left-color: var(--fill-color);\n",
              "      border-top-color: var(--fill-color);\n",
              "    }\n",
              "    30% {\n",
              "      border-color: transparent;\n",
              "      border-left-color: var(--fill-color);\n",
              "      border-top-color: var(--fill-color);\n",
              "      border-right-color: var(--fill-color);\n",
              "    }\n",
              "    40% {\n",
              "      border-color: transparent;\n",
              "      border-right-color: var(--fill-color);\n",
              "      border-top-color: var(--fill-color);\n",
              "    }\n",
              "    60% {\n",
              "      border-color: transparent;\n",
              "      border-right-color: var(--fill-color);\n",
              "    }\n",
              "    80% {\n",
              "      border-color: transparent;\n",
              "      border-right-color: var(--fill-color);\n",
              "      border-bottom-color: var(--fill-color);\n",
              "    }\n",
              "    90% {\n",
              "      border-color: transparent;\n",
              "      border-bottom-color: var(--fill-color);\n",
              "    }\n",
              "  }\n",
              "</style>\n",
              "\n",
              "  <script>\n",
              "    async function quickchart(key) {\n",
              "      const quickchartButtonEl =\n",
              "        document.querySelector('#' + key + ' button');\n",
              "      quickchartButtonEl.disabled = true;  // To prevent multiple clicks.\n",
              "      quickchartButtonEl.classList.add('colab-df-spinner');\n",
              "      try {\n",
              "        const charts = await google.colab.kernel.invokeFunction(\n",
              "            'suggestCharts', [key], {});\n",
              "      } catch (error) {\n",
              "        console.error('Error during call to suggestCharts:', error);\n",
              "      }\n",
              "      quickchartButtonEl.classList.remove('colab-df-spinner');\n",
              "      quickchartButtonEl.classList.add('colab-df-quickchart-complete');\n",
              "    }\n",
              "    (() => {\n",
              "      let quickchartButtonEl =\n",
              "        document.querySelector('#df-8c1a706a-45db-454e-943c-bf37a21ea32e button');\n",
              "      quickchartButtonEl.style.display =\n",
              "        google.colab.kernel.accessAllowed ? 'block' : 'none';\n",
              "    })();\n",
              "  </script>\n",
              "</div>\n",
              "\n",
              "    </div>\n",
              "  </div>\n"
            ],
            "application/vnd.google.colaboratory.intrinsic+json": {
              "type": "dataframe",
              "variable_name": "df",
              "summary": "{\n  \"name\": \"df\",\n  \"rows\": 18185,\n  \"fields\": [\n    {\n      \"column\": \"id\",\n      \"properties\": {\n        \"dtype\": \"number\",\n        \"std\": 5249,\n        \"min\": 1,\n        \"max\": 18185,\n        \"num_unique_values\": 18185,\n        \"samples\": [\n          18057,\n          3257,\n          17107\n        ],\n        \"semantic_type\": \"\",\n        \"description\": \"\"\n      }\n    },\n    {\n      \"column\": \"Area\",\n      \"properties\": {\n        \"dtype\": \"number\",\n        \"std\": 1467,\n        \"min\": 2522,\n        \"max\": 10210,\n        \"num_unique_values\": 5343,\n        \"samples\": [\n          6932,\n          7847,\n          7428\n        ],\n        \"semantic_type\": \"\",\n        \"description\": \"\"\n      }\n    },\n    {\n      \"column\": \"MajorAxisLength\",\n      \"properties\": {\n        \"dtype\": \"number\",\n        \"std\": 12.376402475210195,\n        \"min\": 74.13311404,\n        \"max\": 183.2114344,\n        \"num_unique_values\": 18185,\n        \"samples\": [\n          174.6713776,\n          145.8075716,\n          158.0124457\n        ],\n        \"semantic_type\": \"\",\n        \"description\": \"\"\n      }\n    },\n    {\n      \"column\": \"MinorAxisLength\",\n      \"properties\": {\n        \"dtype\": \"number\",\n        \"std\": 10.061652559362898,\n        \"min\": 34.40989421,\n        \"max\": 82.55076212,\n        \"num_unique_values\": 18185,\n        \"samples\": [\n          69.66136016,\n          51.67327984,\n          67.8482643\n        ],\n        \"semantic_type\": \"\",\n        \"description\": \"\"\n      }\n    },\n    {\n      \"column\": \"Eccentricity\",\n      \"properties\": {\n        \"dtype\": \"number\",\n        \"std\": 0.030575132488673995,\n        \"min\": 0.6766470565,\n        \"max\": 0.9667736672,\n        \"num_unique_values\": 18185,\n        \"samples\": [\n          0.9170319151,\n          0.935096321,\n          0.9031212715\n        ],\n        \"semantic_type\": \"\",\n        \"description\": \"\"\n      }\n    },\n    {\n      \"column\": \"ConvexArea\",\n      \"properties\": {\n        \"dtype\": \"number\",\n        \"std\": 1502,\n        \"min\": 2579,\n        \"max\": 11008,\n        \"num_unique_values\": 5450,\n        \"samples\": [\n          9985,\n          4647,\n          7443\n        ],\n        \"semantic_type\": \"\",\n        \"description\": \"\"\n      }\n    },\n    {\n      \"column\": \"EquivDiameter\",\n      \"properties\": {\n        \"dtype\": \"number\",\n        \"std\": 9.90625046973775,\n        \"min\": 56.66665803,\n        \"max\": 114.0165591,\n        \"num_unique_values\": 5343,\n        \"samples\": [\n          93.94730717,\n          99.95554366,\n          97.25031279\n        ],\n        \"semantic_type\": \"\",\n        \"description\": \"\"\n      }\n    },\n    {\n      \"column\": \"Extent\",\n      \"properties\": {\n        \"dtype\": \"number\",\n        \"std\": 0.10438942430267766,\n        \"min\": 0.3832391714,\n        \"max\": 0.8865730584,\n        \"num_unique_values\": 18007,\n        \"samples\": [\n          0.4601652893,\n          0.5858939017,\n          0.5505580357\n        ],\n        \"semantic_type\": \"\",\n        \"description\": \"\"\n      }\n    },\n    {\n      \"column\": \"Perimeter\",\n      \"properties\": {\n        \"dtype\": \"number\",\n        \"std\": 29.5006198759396,\n        \"min\": 197.015,\n        \"max\": 508.511,\n        \"num_unique_values\": 16246,\n        \"samples\": [\n          356.973,\n          374.084,\n          388.049\n        ],\n        \"semantic_type\": \"\",\n        \"description\": \"\"\n      }\n    },\n    {\n      \"column\": \"Roundness\",\n      \"properties\": {\n        \"dtype\": \"number\",\n        \"std\": 0.06731016002659161,\n        \"min\": 0.1745901779,\n        \"max\": 0.9047483132,\n        \"num_unique_values\": 18184,\n        \"samples\": [\n          0.6384175711,\n          0.6501997504,\n          0.6459622092\n        ],\n        \"semantic_type\": \"\",\n        \"description\": \"\"\n      }\n    },\n    {\n      \"column\": \"AspectRation\",\n      \"properties\": {\n        \"dtype\": \"number\",\n        \"std\": 0.4348364637403803,\n        \"min\": 1.358128195,\n        \"max\": 3.911844673,\n        \"num_unique_values\": 18185,\n        \"samples\": [\n          2.507435646,\n          2.82172086,\n          2.328909182\n        ],\n        \"semantic_type\": \"\",\n        \"description\": \"\"\n      }\n    },\n    {\n      \"column\": \"Class\",\n      \"properties\": {\n        \"dtype\": \"number\",\n        \"std\": 0,\n        \"min\": 0,\n        \"max\": 1,\n        \"num_unique_values\": 2,\n        \"samples\": [\n          0,\n          1\n        ],\n        \"semantic_type\": \"\",\n        \"description\": \"\"\n      }\n    }\n  ]\n}"
            }
          },
          "metadata": {},
          "execution_count": 3
        }
      ]
    },
    {
      "cell_type": "markdown",
      "source": [
        "# Load Dataset"
      ],
      "metadata": {
        "id": "YZ0Xvnyp0fJY"
      }
    },
    {
      "cell_type": "code",
      "source": [
        "class CustomImageDataset(Dataset):\n",
        "    def __init__(self, dataset, transform=None, target_transform=None):\n",
        "        completeDF = pd.read_csv(dataset, index_col=0)\n",
        "        self.labels = pd.DataFrame(completeDF['Class'])\n",
        "        features_raw = pd.DataFrame(completeDF.drop('Class', axis=1))\n",
        "        #self.features = pd.DataFrame(completeDF.drop('Class', axis=1))\n",
        "        scaler = MinMaxScaler()\n",
        "        self.features = pd.DataFrame(scaler.fit_transform(features_raw))\n",
        "        self.transform = transform\n",
        "        self.target_transform = target_transform\n",
        "\n",
        "    def __len__(self):\n",
        "        return len(self.labels)\n",
        "\n",
        "    def __getitem__(self, idx):\n",
        "        features = np.array(self.features.iloc[idx, :])\n",
        "        label = self.labels.iloc[idx, 0]\n",
        "        if self.transform:\n",
        "            features = self.transform(features)\n",
        "        if self.target_transform:\n",
        "            label = self.target_transform(label)\n",
        "        return features, label"
      ],
      "metadata": {
        "id": "Jx4Q65jcycyE"
      },
      "execution_count": 4,
      "outputs": []
    },
    {
      "cell_type": "code",
      "source": [
        "dataset = CustomImageDataset(dataset=\"dataset/classification_dataset.csv\")\n",
        "#dataset = CustomImageDataset(dataset=\"dataset/riceClassification.csv\")\n",
        "train_set, val_set, test_set = torch.utils.data.random_split(dataset, [.7, 0.1,0.2])\n",
        "data_loader = DataLoader(train_set, batch_size=4, shuffle=True)\n",
        "\n",
        "for features, labels in data_loader:\n",
        "    print(\"Batch of features has shape: \",features.shape)\n",
        "    print(\"Batch of labels has shape: \", labels.shape)\n",
        "    print(features)\n",
        "    print(labels)\n",
        "    break"
      ],
      "metadata": {
        "colab": {
          "base_uri": "https://localhost:8080/"
        },
        "id": "fo5GSp5Z3L07",
        "outputId": "240253cf-5410-4307-c776-aa65030e796c"
      },
      "execution_count": 18,
      "outputs": [
        {
          "output_type": "stream",
          "name": "stdout",
          "text": [
            "Batch of features has shape:  torch.Size([4, 10])\n",
            "Batch of labels has shape:  torch.Size([4])\n",
            "tensor([[0.4127, 0.3476, 0.2428, 0.5258, 0.3201, 0.3007, 0.4489, 0.6791, 0.6110,\n",
            "         0.7804],\n",
            "        [0.5114, 0.2991, 0.3795, 0.7041, 0.4306, 0.3606, 0.5095, 0.6207, 0.2086,\n",
            "         0.5082],\n",
            "        [0.4826, 0.7206, 0.5078, 0.4966, 0.7598, 0.4393, 0.8265, 0.3862, 0.6264,\n",
            "         0.4440],\n",
            "        [0.1707, 0.1989, 0.4746, 0.3370, 0.4702, 0.2779, 0.4934, 0.9108, 0.3687,\n",
            "         0.3172]], dtype=torch.float64)\n",
            "tensor([1, 0, 0, 1])\n"
          ]
        }
      ]
    },
    {
      "cell_type": "markdown",
      "source": [
        "# MLP model"
      ],
      "metadata": {
        "id": "3iAl6VP60ld4"
      }
    },
    {
      "cell_type": "code",
      "source": [
        "class MLP(nnx.Module):\n",
        "    def __init__(self, hidden_dims: list[int], num_classes: int, rngs: nnx.Rngs):\n",
        "        self.layers = []\n",
        "        for din, dout in zip(hidden_dims[:-1], hidden_dims[1:]):\n",
        "            self.layers.append({\n",
        "                'dropout': nnx.Dropout(rate=0.4, rngs=rngs),\n",
        "                'linear': nnx.Linear(din, dout, rngs=rngs),\n",
        "                'batch_norm': nnx.BatchNorm(dout, rngs=rngs)\n",
        "            })\n",
        "        # Add the final classification layer\n",
        "        self.output_layer = nnx.Linear(hidden_dims[-1], num_classes, rngs=rngs)\n",
        "\n",
        "    def __call__(self, x):\n",
        "        for layer in self.layers:\n",
        "            x = layer['dropout'](x)\n",
        "            x = layer['linear'](x)\n",
        "            x = nnx.gelu(x)\n",
        "            x = layer['batch_norm'](x)\n",
        "        x = self.output_layer(x)\n",
        "        return nnx.sigmoid(x)\n",
        "\n",
        "# Instantiate and test the model\n",
        "#model = MLP([10, 16, 32, 16], 1, rngs=nnx.Rngs(0))\n",
        "#y = model(x=jnp.ones((3, 10)))\n",
        "\n",
        "#nnx.display(model)\n",
        "\n",
        "model = MLP([10, 16, 32, 16], 1, rngs=nnx.Rngs(0))\n",
        "y = model(x=jnp.ones((3, 10)))\n",
        "\n",
        "nnx.display(y)\n",
        "\n"
      ],
      "metadata": {
        "colab": {
          "base_uri": "https://localhost:8080/"
        },
        "collapsed": true,
        "id": "EIR7K97rmXvw",
        "outputId": "7ef149e7-1839-45df-f363-f85897ce7f3d"
      },
      "execution_count": 7,
      "outputs": [
        {
          "output_type": "stream",
          "name": "stdout",
          "text": [
            "[[0.57413197]\n",
            " [0.49904767]\n",
            " [0.42679968]]\n"
          ]
        }
      ]
    },
    {
      "cell_type": "markdown",
      "source": [
        "# Optimizer and metrics"
      ],
      "metadata": {
        "id": "TPc7KPls0_vx"
      }
    },
    {
      "cell_type": "code",
      "source": [
        "class customMetrics(nnx.metrics.Metric):\n",
        "    def __init__(self):\n",
        "        self.true_positives = jnp.array(0)\n",
        "        self.false_positives = jnp.array(0)\n",
        "        self.false_negatives = jnp.array(0)\n",
        "\n",
        "    def update(self, loss, logits, labels):\n",
        "        logits = jnp.argmax(logits, axis=-1)  # Assuming y_pred are probabilities\n",
        "        tp = jnp.sum((labels == 1) & (logits == 1))\n",
        "        fp = jnp.sum((labels == 0) & (logits == 1))\n",
        "        fn = jnp.sum((labels == 1) & (logits == 0))\n",
        "\n",
        "        self.true_positives += tp\n",
        "        self.false_positives += fp\n",
        "        self.false_negatives += fn\n",
        "\n",
        "    def result(self):\n",
        "        precision = self.true_positives / (self.true_positives + self.false_positives + 1e-7)\n",
        "        recall = self.true_positives / (self.true_positives + self.false_negatives + 1e-7)\n",
        "        f1_score = 2 * (precision * recall) / (precision + recall + 1e-7)\n",
        "        return {\"f1_score\": f1_score, \"precision\": precision, \"recall\": recall}\n",
        "\n",
        "    def reset(self):\n",
        "        self.true_positives = jnp.array(0)\n",
        "        self.false_positives = jnp.array(0)\n",
        "        self.false_negatives = jnp.array(0)"
      ],
      "metadata": {
        "id": "6o4c7B494BGP"
      },
      "execution_count": 51,
      "outputs": []
    },
    {
      "cell_type": "code",
      "source": [
        "class CustomAccuracy(nnx.metrics.Metric):\n",
        "    def __init__(self):\n",
        "        self.correct_count = 0\n",
        "        self.total_count = 0\n",
        "\n",
        "    def update(self, loss, logits, labels):\n",
        "        # Convert logits to binary predictions (0 or 1) based on a 0.5 threshold\n",
        "        predictions = jnp.where(jnp.array(logits) > 0.5, 1, 0)\n",
        "        # Flatten if necessary\n",
        "        predictions = predictions.ravel()\n",
        "        labels = jnp.array(labels).ravel()\n",
        "\n",
        "        # Calculate number of correct predictions in the current batch\n",
        "        self.correct_count += jnp.sum(predictions == labels)\n",
        "        self.total_count += len(labels)\n",
        "\n",
        "    def compute(self):\n",
        "        # Calculate accuracy over all batches seen so far\n",
        "        if self.total_count == 0:\n",
        "            return 0  # Avoid division by zero if no samples are seen\n",
        "        return self.correct_count / self.total_count\n",
        "    def reset(self):\n",
        "        # Reset counters\n",
        "        self.correct_count = 0\n",
        "        self.total_count = 0\n",
        "\n",
        ""
      ],
      "metadata": {
        "id": "m12DaxiMTey5"
      },
      "execution_count": 8,
      "outputs": []
    },
    {
      "cell_type": "code",
      "source": [
        "import optax\n",
        "model = MLP([10, 16], 1, rngs=nnx.Rngs(0))\n",
        "learning_rate = 0.001\n",
        "momentum = 0.9\n",
        "\n",
        "optimizer = nnx.Optimizer(model, optax.adam(learning_rate))\n",
        "metrics = nnx.MultiMetric(\n",
        "  accuracy=CustomAccuracy(),\n",
        "  loss=nnx.metrics.Average('loss'),\n",
        ")\n",
        "  #precision_recall_f1=customMetrics(),\n",
        "\n",
        "\n",
        "#nnx.display(optimizer)"
      ],
      "metadata": {
        "collapsed": true,
        "id": "XwZnfJdgz7Eq"
      },
      "execution_count": 19,
      "outputs": []
    },
    {
      "cell_type": "markdown",
      "source": [
        "# Train steps"
      ],
      "metadata": {
        "id": "uA1TZX5-EeNa"
      }
    },
    {
      "cell_type": "code",
      "source": [
        "import jax.numpy as jnp\n",
        "def loss_fn(model: MLP, batch):\n",
        "  logits = model(batch['features'])\n",
        "  loss = optax.sigmoid_binary_cross_entropy(\n",
        "    logits=logits, labels=batch['labels'].reshape(-1, 1)\n",
        "  ).mean()\n",
        "  #loss = (logits - batch['labels'])**2\n",
        "  #print(logits.pval)\n",
        "  return loss, logits\n",
        "\n",
        "@nnx.jit\n",
        "def train_step(model: MLP, optimizer: nnx.Optimizer, metrics: nnx.MultiMetric, batch):\n",
        "  \"\"\"Train for a single step.\"\"\"\n",
        "  grad_fn = nnx.value_and_grad(loss_fn, has_aux=True)\n",
        "  (loss, logits), grads = grad_fn(model, batch)\n",
        "\n",
        "  metrics.update(loss=loss, logits=logits, labels=batch['labels'])  # In-place updates.\n",
        "  optimizer.update(grads)  # In-place updates.\n",
        "  return loss, logits\n",
        "\n",
        "@nnx.jit\n",
        "def eval_step(model: MLP, metrics: nnx.MultiMetric, batch):\n",
        "  loss, logits = loss_fn(model, batch)\n",
        "  metrics.update(loss=loss, logits=logits, labels=batch['labels'])  # In-place updates.\n"
      ],
      "metadata": {
        "id": "rQcgIDVnEdYk"
      },
      "execution_count": 23,
      "outputs": []
    },
    {
      "cell_type": "markdown",
      "source": [
        "# Train and Eval"
      ],
      "metadata": {
        "id": "bRAM9vinIoHr"
      }
    },
    {
      "cell_type": "code",
      "source": [
        "def custom_collate_fn(batch):\n",
        "    transposed_data = list(zip(*batch))\n",
        "\n",
        "    labels =  np.array(transposed_data[1])\n",
        "    features = np.array(transposed_data[0])\n",
        "\n",
        "    return {\"features\":features, \"labels\":labels}\n",
        "\n",
        "train_set, val_set, test_set = torch.utils.data.random_split(dataset, [.7, 0.1,0.2])\n",
        "\n",
        "train_ds = DataLoader(train_set, batch_size=64, shuffle=True, drop_last=True, collate_fn=custom_collate_fn)\n",
        "val_set = DataLoader(val_set, batch_size=4, shuffle=True, drop_last=True, collate_fn=custom_collate_fn)\n",
        "test_ds = DataLoader(test_set, batch_size=4, shuffle=True, drop_last=True, collate_fn=custom_collate_fn)\n",
        "\n",
        "# test\n",
        "batch_data = next(iter(train_ds))\n",
        "imgs = batch_data['features']\n",
        "lbls = batch_data['labels']\n",
        "print(imgs.shape, imgs[0].dtype, lbls.shape, lbls[0].dtype)\n",
        "print(lbls)\n",
        "\n",
        "#loss = train_step(model, optimizer, metrics, batch_data)\n",
        "loss, logits = loss_fn(model, batch_data)\n",
        "print(loss.shape, logits.shape)\n",
        "print(f'{loss = }')\n",
        "#print(f'{logits = }')\n",
        "print(f'{optimizer.step.value = }')\n"
      ],
      "metadata": {
        "colab": {
          "base_uri": "https://localhost:8080/"
        },
        "id": "RWkf_m-uymSD",
        "outputId": "62caaa49-8717-4deb-9775-61a92cc0f798"
      },
      "execution_count": 20,
      "outputs": [
        {
          "output_type": "stream",
          "name": "stdout",
          "text": [
            "(64, 10) float64 (64,) int64\n",
            "[1 0 0 1 1 0 0 1 1 1 0 1 0 0 0 1 1 1 0 0 1 0 0 0 1 1 0 0 1 0 0 1 1 0 1 1 1\n",
            " 0 0 1 1 1 0 0 1 0 1 0 0 1 1 1 1 0 1 1 1 1 0 1 1 0 1 1]\n",
            "() (64, 1)\n",
            "loss = Array(0.68516624, dtype=float32)\n",
            "optimizer.step.value = Array(0, dtype=uint32)\n"
          ]
        }
      ]
    },
    {
      "cell_type": "code",
      "source": [
        "import jax\n",
        "metrics_history = {\n",
        "  'train_loss': [],\n",
        "  'train_accuracy': [],\n",
        "  'train_precision': [],\n",
        "  'train_recall': [],\n",
        "  'train_f1': [],\n",
        "  'val_loss': [],\n",
        "  'val_accuracy': [],\n",
        "  'val_precision': [],\n",
        "  'val_recall': [],\n",
        "  'val_f1': [],\n",
        "  'test_loss': [],\n",
        "  'test_accuracy': [],\n",
        "  'test_precision': [],\n",
        "  'test_recall': [],\n",
        "  'test_f1': [],\n",
        "}\n",
        "\n",
        "num_epochs = 20\n",
        "for epoch in range(num_epochs):\n",
        "    for batch in train_ds:\n",
        "      loss, logits = train_step(model, optimizer, metrics, batch)\n",
        "\n",
        "    for metric, value in metrics.compute().items():\n",
        "      metrics_history[f'train_{metric}'].append(value)\n",
        "\n",
        "    metrics.reset()\n",
        "    for val_batch in val_set:\n",
        "      eval_step(model, metrics, val_batch)\n",
        "    for metric, value in metrics.compute().items():\n",
        "      metrics_history[f'val_{metric}'].append(value)\n",
        "    metrics.reset()\n",
        "    print(\n",
        "      f\"[train] epoch: {epoch}, \"\n",
        "      f\"loss: {metrics_history['train_loss'][-1]}, \"\n",
        "      f\"accuracy: {metrics_history['train_accuracy'][-1] * 100}\"\n",
        "      #f\"accuracy: {metrics_history['train_precision'][-1] * 100}\"\n",
        "      #f\"accuracy: {metrics_history['train_recall'][-1] * 100}\"\n",
        "      #f\"accuracy: {metrics_history['train_f1'][-1] * 100}\"\n",
        "\n",
        "    )\n",
        "    \"\"\"print(\n",
        "      f\"[test] epoch: {epoch}, \"\n",
        "      f\"loss: {metrics_history['val_loss'][-1]}, \"\n",
        "      f\"accuracy: {metrics_history['val_accuracy'][-1] * 100}\"\n",
        "      #f\"accuracy: {metrics_history['val_precision'][-1] * 100}\"\n",
        "      #f\"accuracy: {metrics_history['val_recall'][-1] * 100}\"\n",
        "      #f\"accuracy: {metrics_history['val_f1'][-1] * 100}\"\n",
        "    )\"\"\"\n",
        "\"\"\"for test_batch in test_ds:\n",
        "      eval_step(model, metrics, test_batch)\n",
        "\"\"\""
      ],
      "metadata": {
        "colab": {
          "base_uri": "https://localhost:8080/",
          "height": 383
        },
        "id": "gHjxyHU7Ilqb",
        "outputId": "adc99e9b-98ab-4f38-e361-fc5b4e555c6a"
      },
      "execution_count": 21,
      "outputs": [
        {
          "output_type": "stream",
          "name": "stdout",
          "text": [
            "[train] epoch: 0, loss: 0.713580846786499, accuracy: 57.8125\n",
            "[train] epoch: 1, loss: 0.7034299373626709, accuracy: 54.6875\n",
            "[train] epoch: 2, loss: 0.737416684627533, accuracy: 54.6875\n",
            "[train] epoch: 3, loss: 0.7496273517608643, accuracy: 57.03125\n",
            "[train] epoch: 4, loss: 0.7125489711761475, accuracy: 69.53125\n",
            "[train] epoch: 5, loss: 0.7265267372131348, accuracy: 53.125\n",
            "[train] epoch: 6, loss: 0.7226094007492065, accuracy: 53.125\n",
            "[train] epoch: 7, loss: 0.7251901626586914, accuracy: 54.6875\n",
            "[train] epoch: 8, loss: 0.7349185943603516, accuracy: 49.21875\n",
            "[train] epoch: 9, loss: 0.7223374247550964, accuracy: 46.09375\n",
            "[train] epoch: 10, loss: 0.7486499547958374, accuracy: 57.8125\n",
            "[train] epoch: 11, loss: 0.7377750873565674, accuracy: 55.46875\n",
            "[train] epoch: 12, loss: 0.7167431116104126, accuracy: 53.90625\n",
            "[train] epoch: 13, loss: 0.7198973298072815, accuracy: 50.78125\n",
            "[train] epoch: 14, loss: 0.7022953629493713, accuracy: 58.59375\n",
            "[train] epoch: 15, loss: 0.7176570892333984, accuracy: 54.6875\n",
            "[train] epoch: 16, loss: 0.7093724012374878, accuracy: 57.03125\n",
            "[train] epoch: 17, loss: 0.6880877017974854, accuracy: 64.0625\n",
            "[train] epoch: 18, loss: 0.6922986507415771, accuracy: 55.46875\n",
            "[train] epoch: 19, loss: 0.6960593461990356, accuracy: 64.84375\n"
          ]
        },
        {
          "output_type": "execute_result",
          "data": {
            "text/plain": [
              "'for test_batch in test_ds:\\n      eval_step(model, metrics, test_batch)\\n'"
            ],
            "application/vnd.google.colaboratory.intrinsic+json": {
              "type": "string"
            }
          },
          "metadata": {},
          "execution_count": 21
        }
      ]
    },
    {
      "cell_type": "code",
      "source": [
        "print(metrics_history['train_accuracy'])"
      ],
      "metadata": {
        "colab": {
          "base_uri": "https://localhost:8080/"
        },
        "id": "iC2HbytCSFSq",
        "outputId": "63753974-8808-45df-de2d-7e868240ee4f"
      },
      "execution_count": 13,
      "outputs": [
        {
          "output_type": "stream",
          "name": "stdout",
          "text": [
            "[Array(0.71898675, dtype=float32), Array(0.79506, dtype=float32), Array(0.8662405, dtype=float32), Array(0.91035354, dtype=float32), Array(0.92889833, dtype=float32), Array(0.94278723, dtype=float32), Array(0.947601, dtype=float32), Array(0.94996846, dtype=float32), Array(0.9566761, dtype=float32), Array(0.9551768, dtype=float32), Array(0.9579388, dtype=float32), Array(0.96030617, dtype=float32), Array(0.962279, dtype=float32), Array(0.96417296, dtype=float32), Array(0.9656724, dtype=float32), Array(0.9661458, dtype=float32), Array(0.96953917, dtype=float32), Array(0.97159094, dtype=float32), Array(0.9699337, dtype=float32), Array(0.96859217, dtype=float32)]\n"
          ]
        }
      ]
    },
    {
      "cell_type": "code",
      "source": [
        "model.eval() # Switch to evaluation mode.\n",
        "\n",
        "@nnx.jit\n",
        "def pred_step(model: MLP, batch):\n",
        "  logits = model(batch['features'])\n",
        "  return logits\n",
        "\n",
        "test_ds = DataLoader(test_set, batch_size=32, shuffle=False, drop_last=True, collate_fn=custom_collate_fn)\n",
        "\n",
        "ypred = []\n",
        "label = []\n",
        "for test_batch in test_ds:\n",
        "  logits = pred_step(model, test_batch)\n",
        "  #print(np.ravel(logits))\n",
        "  #print(np.ravel(logits))\n",
        "  #break\n",
        "  ypred.extend(np.ravel(logits))\n",
        "  label.extend(np.ravel(test_batch[\"labels\"]))\n",
        "  #print(logits, test_batch[\"labels\"])\n",
        "  #break\n",
        "binary_ypred = np.where(np.array(ypred) > 0.5, 1, 0)\n",
        "print(len(label), sum(label))\n",
        "accuracy = sum([1 for pred, true in zip(binary_ypred, label) if pred == true]) / len(label)\n",
        "print(f\"Accuracy: {accuracy:.4f}\")"
      ],
      "metadata": {
        "colab": {
          "base_uri": "https://localhost:8080/"
        },
        "id": "DjEYAb10sige",
        "outputId": "6a981eaf-91ca-4e95-c357-179b5aed2a5e"
      },
      "execution_count": 14,
      "outputs": [
        {
          "output_type": "stream",
          "name": "stdout",
          "text": [
            "3616 1992\n",
            "Accuracy: 0.8999\n"
          ]
        }
      ]
    },
    {
      "cell_type": "code",
      "source": [
        "import pandas as pd\n",
        "from sklearn.datasets import make_classification\n",
        "from sklearn.model_selection import train_test_split\n",
        "from sklearn.linear_model import LogisticRegression\n",
        "from sklearn.metrics import accuracy_score\n",
        "from sklearn.neural_network import MLPClassifier\n",
        "from sklearn.metrics import accuracy_score\n",
        "# Generate a dataset with 100 samples, 10 features, 5 informative, 5 redundant, and 2 classes\n",
        "X, y = make_classification(n_samples=256, n_features=10, n_informative=8,\n",
        "                          n_classes=2, random_state=42)\n",
        "df = pd.DataFrame(X, columns=[f\"feature_{i}\" for i in range(X.shape[1])])\n",
        "df['Class'] = y\n",
        "\n",
        "# Save the DataFrame to a CSV file\n",
        "mlp = MLPClassifier(hidden_layer_sizes=(64,), max_iter=500, random_state=42)\n",
        "X_train, X_test, y_train, y_test = train_test_split(X, y, test_size=0.2, random_state=42)\n",
        "\n",
        "# Train the MLP on the data\n",
        "mlp.fit(X_train, y_train)\n",
        "\n",
        "# Predict on the test set\n",
        "y_pred = mlp.predict(X_test)\n",
        "\n",
        "# Evaluate the model\n",
        "accuracy = accuracy_score(y_test, y_pred)\n",
        "print(f\"Accuracy: {accuracy:.4f}\")\n",
        "df.to_csv('dataset/classification_dataset.csv', index=True)"
      ],
      "metadata": {
        "colab": {
          "base_uri": "https://localhost:8080/"
        },
        "id": "p7hM5RPuYxRh",
        "outputId": "c97a0d17-fc4c-4118-c6c4-0bef869e4218"
      },
      "execution_count": 16,
      "outputs": [
        {
          "output_type": "stream",
          "name": "stdout",
          "text": [
            "Accuracy: 0.8654\n"
          ]
        }
      ]
    },
    {
      "cell_type": "code",
      "source": [
        "logits = jax.random.normal(jax.random.key(0), (5, 2))\n",
        "logits"
      ],
      "metadata": {
        "colab": {
          "base_uri": "https://localhost:8080/"
        },
        "id": "HMmDAOUn2XEZ",
        "outputId": "2d8554b7-0ff4-44b1-fb3f-3e49980f1719"
      },
      "execution_count": 122,
      "outputs": [
        {
          "output_type": "execute_result",
          "data": {
            "text/plain": [
              "Array([[-0.3721109 ,  0.26423115],\n",
              "       [-0.18252768, -0.7368197 ],\n",
              "       [-0.44030377, -0.1521442 ],\n",
              "       [-0.67135346, -0.5908641 ],\n",
              "       [ 0.73168886,  0.5673026 ]], dtype=float32)"
            ]
          },
          "metadata": {},
          "execution_count": 122
        }
      ]
    }
  ]
}