{
  "nbformat": 4,
  "nbformat_minor": 0,
  "metadata": {
    "colab": {
      "provenance": [],
      "authorship_tag": "ABX9TyPzU/QgkKK1JU/h+WFC3Bbo",
      "include_colab_link": true
    },
    "kernelspec": {
      "name": "python3",
      "display_name": "Python 3"
    },
    "language_info": {
      "name": "python"
    }
  },
  "cells": [
    {
      "cell_type": "markdown",
      "metadata": {
        "id": "view-in-github",
        "colab_type": "text"
      },
      "source": [
        "<a href=\"https://colab.research.google.com/github/mohsenh17/jaxLearning/blob/main/flax/basics.ipynb\" target=\"_parent\"><img src=\"https://colab.research.google.com/assets/colab-badge.svg\" alt=\"Open In Colab\"/></a>"
      ]
    },
    {
      "cell_type": "code",
      "execution_count": 1,
      "metadata": {
        "id": "9MOy-0bocn-v"
      },
      "outputs": [],
      "source": [
        "from flax import nnx\n",
        "import jax\n",
        "from jax import numpy as jnp\n"
      ]
    },
    {
      "cell_type": "markdown",
      "source": [
        "# Simple Linear"
      ],
      "metadata": {
        "id": "SS_jLDPumYlW"
      }
    },
    {
      "cell_type": "code",
      "source": [
        "class Linear(nnx.Module):\n",
        "\n",
        "  def __init__(self, din:int, dout:int, *, rngs:nnx.Rngs): # * force the succeeding variables must be provided with keyword arg\n",
        "    key = rngs.params()\n",
        "    self.w = nnx.Param(jax.random.uniform(key, (din, dout)))\n",
        "    self.b = nnx.Param(jnp.zeros((dout,)))\n",
        "    self.din, self.dout = din, dout\n",
        "\n",
        "  def __call__(self, x:jnp.ndarray):\n",
        "    return jnp.dot(x, self.w) + self.b\n",
        "\n",
        "model = Linear(3, 5, rngs=nnx.Rngs(params=0))\n",
        "x = jnp.ones((6, 3))\n",
        "y = model(x)\n",
        "print(y)\n",
        "nnx.display(model)\n"
      ],
      "metadata": {
        "colab": {
          "base_uri": "https://localhost:8080/"
        },
        "id": "vzukX309jO5E",
        "outputId": "3c6c235a-2e69-4749-9434-7cf05cfe4da3"
      },
      "execution_count": 3,
      "outputs": [
        {
          "output_type": "stream",
          "name": "stdout",
          "text": [
            "[[1.4492468 1.6527531 1.1650311 1.6205449 1.5738977]\n",
            " [1.4492468 1.6527531 1.1650311 1.6205449 1.5738977]\n",
            " [1.4492468 1.6527531 1.1650311 1.6205449 1.5738977]\n",
            " [1.4492468 1.6527531 1.1650311 1.6205449 1.5738977]\n",
            " [1.4492468 1.6527531 1.1650311 1.6205449 1.5738977]\n",
            " [1.4492468 1.6527531 1.1650311 1.6205449 1.5738977]]\n",
            "Linear(\n",
            "  w=Param(\n",
            "    value=Array(shape=(3, 5), dtype=float32)\n",
            "  ),\n",
            "  b=Param(\n",
            "    value=Array(shape=(5,), dtype=float32)\n",
            "  ),\n",
            "  din=3,\n",
            "  dout=5\n",
            ")\n"
          ]
        }
      ]
    }
  ]
}