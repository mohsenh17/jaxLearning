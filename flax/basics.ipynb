{
  "nbformat": 4,
  "nbformat_minor": 0,
  "metadata": {
    "colab": {
      "provenance": [],
      "authorship_tag": "ABX9TyOhdHu0vXMWgOGICdpiRY6t",
      "include_colab_link": true
    },
    "kernelspec": {
      "name": "python3",
      "display_name": "Python 3"
    },
    "language_info": {
      "name": "python"
    }
  },
  "cells": [
    {
      "cell_type": "markdown",
      "metadata": {
        "id": "view-in-github",
        "colab_type": "text"
      },
      "source": [
        "<a href=\"https://colab.research.google.com/github/mohsenh17/jaxLearning/blob/main/flax/basics.ipynb\" target=\"_parent\"><img src=\"https://colab.research.google.com/assets/colab-badge.svg\" alt=\"Open In Colab\"/></a>"
      ]
    },
    {
      "cell_type": "code",
      "source": [
        "# ! pip install -U flax treescope"
      ],
      "metadata": {
        "id": "ER3gq75kqVE3"
      },
      "execution_count": null,
      "outputs": []
    },
    {
      "cell_type": "code",
      "execution_count": null,
      "metadata": {
        "id": "9MOy-0bocn-v"
      },
      "outputs": [],
      "source": [
        "from flax import nnx\n",
        "import jax\n",
        "from jax import numpy as jnp\n"
      ]
    },
    {
      "cell_type": "markdown",
      "source": [
        "# Simple Linear"
      ],
      "metadata": {
        "id": "SS_jLDPumYlW"
      }
    },
    {
      "cell_type": "code",
      "source": [
        "class Linear(nnx.Module):\n",
        "\n",
        "  def __init__(self, din:int, dout:int, *, rngs:nnx.Rngs): # * force the succeeding variables must be provided with keyword arg\n",
        "    key = rngs.params()\n",
        "    self.w = nnx.Param(jax.random.uniform(key, (din, dout)))\n",
        "    self.b = nnx.Param(jnp.zeros((dout,)))\n",
        "    self.din, self.dout = din, dout\n",
        "\n",
        "  def __call__(self, x:jnp.ndarray):\n",
        "    return jnp.dot(x, self.w) + self.b\n",
        "\n",
        "model = Linear(3, 5, rngs=nnx.Rngs(params=0))\n",
        "x = jnp.ones((6, 3))\n",
        "y = model(x)\n",
        "print(y)\n",
        "nnx.display(model)\n"
      ],
      "metadata": {
        "colab": {
          "base_uri": "https://localhost:8080/"
        },
        "id": "vzukX309jO5E",
        "outputId": "3c6c235a-2e69-4749-9434-7cf05cfe4da3"
      },
      "execution_count": null,
      "outputs": [
        {
          "output_type": "stream",
          "name": "stdout",
          "text": [
            "[[1.4492468 1.6527531 1.1650311 1.6205449 1.5738977]\n",
            " [1.4492468 1.6527531 1.1650311 1.6205449 1.5738977]\n",
            " [1.4492468 1.6527531 1.1650311 1.6205449 1.5738977]\n",
            " [1.4492468 1.6527531 1.1650311 1.6205449 1.5738977]\n",
            " [1.4492468 1.6527531 1.1650311 1.6205449 1.5738977]\n",
            " [1.4492468 1.6527531 1.1650311 1.6205449 1.5738977]]\n",
            "Linear(\n",
            "  w=Param(\n",
            "    value=Array(shape=(3, 5), dtype=float32)\n",
            "  ),\n",
            "  b=Param(\n",
            "    value=Array(shape=(5,), dtype=float32)\n",
            "  ),\n",
            "  din=3,\n",
            "  dout=5\n",
            ")\n"
          ]
        }
      ]
    },
    {
      "cell_type": "markdown",
      "source": [
        "# Stateful computation\n",
        "How to update states during forward pass (batchNorm etc)"
      ],
      "metadata": {
        "id": "mTSxvE0voUDy"
      }
    },
    {
      "cell_type": "code",
      "source": [
        "class Count(nnx.Variable): pass\n",
        "\n",
        "class Counter(nnx.Module):\n",
        "  def __init__(self):\n",
        "    self.count = Count(jnp.array(0))\n",
        "\n",
        "  def __call__(self):\n",
        "    self.count.value += 1\n",
        "\n",
        "counter = Counter()\n",
        "print(f'{counter.count.value = }')\n",
        "counter()\n",
        "print(f'{counter.count.value = }')"
      ],
      "metadata": {
        "colab": {
          "base_uri": "https://localhost:8080/"
        },
        "id": "2DRGpjXkmr0U",
        "outputId": "b35e33e6-f7b7-4a49-e5e7-32cf49a69ba7"
      },
      "execution_count": null,
      "outputs": [
        {
          "output_type": "stream",
          "name": "stdout",
          "text": [
            "counter.count.value = Array(0, dtype=int32, weak_type=True)\n",
            "counter.count.value = Array(1, dtype=int32, weak_type=True)\n"
          ]
        }
      ]
    },
    {
      "cell_type": "markdown",
      "source": [
        "# Nested Modules"
      ],
      "metadata": {
        "id": "dFuPcAgH3klg"
      }
    },
    {
      "cell_type": "code",
      "source": [
        "class MLP(nnx.Module):\n",
        "  def __init__(self, din:int, dmid:int, dout:int, *, rngs:nnx.Rngs):\n",
        "    self.lin1 = Linear(din, dmid, rngs=rngs)\n",
        "    self.dropout = nnx.Dropout(rate=0.5, rngs=rngs)\n",
        "    self.bn = nnx.BatchNorm(dmid, rngs=rngs)\n",
        "    self.lin2 = Linear(dmid, dout, rngs=rngs)\n",
        "  def __call__(self, x:jnp.ndarray):\n",
        "    x = self.lin1(x)\n",
        "    x = self.bn(x)\n",
        "    x = self.dropout(x)\n",
        "    x = nnx.gelu(x)\n",
        "    x = self.lin2(x)\n",
        "    return x\n",
        "\n",
        "model = MLP(2, 16, 5, rngs=nnx.Rngs(0))\n",
        "\n",
        "y = model(x=jnp.ones((3, 2)))\n",
        "\n",
        "nnx.display(model)\n",
        "print(y)"
      ],
      "metadata": {
        "colab": {
          "base_uri": "https://localhost:8080/"
        },
        "id": "ShUKO2d83ogG",
        "outputId": "f403e3de-31da-4989-8909-16c2827f0400"
      },
      "execution_count": 21,
      "outputs": [
        {
          "output_type": "stream",
          "name": "stdout",
          "text": [
            "MLP(\n",
            "  lin1=Linear(\n",
            "    w=Param(\n",
            "      value=Array(shape=(2, 16), dtype=float32)\n",
            "    ),\n",
            "    b=Param(\n",
            "      value=Array(shape=(16,), dtype=float32)\n",
            "    ),\n",
            "    din=2,\n",
            "    dout=16\n",
            "  ),\n",
            "  dropout=Dropout(rate=0.5, broadcast_dims=(), deterministic=False, rng_collection='dropout', rngs=Rngs(\n",
            "    default=RngStream(\n",
            "      key=RngKey(\n",
            "        value=Array((), dtype=key<fry>) overlaying:\n",
            "        [0 0],\n",
            "        tag='default'\n",
            "      ),\n",
            "      count=RngCount(\n",
            "        value=Array(5, dtype=uint32),\n",
            "        tag='default'\n",
            "      )\n",
            "    )\n",
            "  )),\n",
            "  bn=BatchNorm(\n",
            "    mean=BatchStat(\n",
            "      value=Array(shape=(16,), dtype=float32)\n",
            "    ),\n",
            "    var=BatchStat(\n",
            "      value=Array(shape=(16,), dtype=float32)\n",
            "    ),\n",
            "    scale=Param(\n",
            "      value=Array(shape=(16,), dtype=float32)\n",
            "    ),\n",
            "    bias=Param(\n",
            "      value=Array(shape=(16,), dtype=float32)\n",
            "    ),\n",
            "    num_features=16,\n",
            "    use_running_average=False,\n",
            "    axis=-1,\n",
            "    momentum=0.99,\n",
            "    epsilon=1e-05,\n",
            "    dtype=None,\n",
            "    param_dtype=<class 'jax.numpy.float32'>,\n",
            "    use_bias=True,\n",
            "    use_scale=True,\n",
            "    bias_init=<function zeros at 0x79495804b130>,\n",
            "    scale_init=<function ones at 0x79495804b2e0>,\n",
            "    axis_name=None,\n",
            "    axis_index_groups=None,\n",
            "    use_fast_variance=True\n",
            "  ),\n",
            "  lin2=Linear(\n",
            "    w=Param(\n",
            "      value=Array(shape=(16, 5), dtype=float32)\n",
            "    ),\n",
            "    b=Param(\n",
            "      value=Array(shape=(5,), dtype=float32)\n",
            "    ),\n",
            "    din=16,\n",
            "    dout=5\n",
            "  )\n",
            ")\n",
            "[[-2.7780436e-05 -6.8867835e-06 -1.0870218e-05 -2.9896506e-05\n",
            "  -3.1776264e-05]\n",
            " [-5.7540608e-05 -3.7017355e-05 -3.6808469e-05 -3.4902241e-05\n",
            "  -3.6264100e-05]\n",
            " [-7.0575690e-05 -5.5801316e-05 -3.9498918e-05 -6.3470325e-05\n",
            "  -7.0038870e-05]]\n"
          ]
        }
      ]
    }
  ]
}