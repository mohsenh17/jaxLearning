{
  "nbformat": 4,
  "nbformat_minor": 0,
  "metadata": {
    "colab": {
      "provenance": [],
      "authorship_tag": "ABX9TyM792SH+0bAJAgbOa5ycv18",
      "include_colab_link": true
    },
    "kernelspec": {
      "name": "python3",
      "display_name": "Python 3"
    },
    "language_info": {
      "name": "python"
    }
  },
  "cells": [
    {
      "cell_type": "markdown",
      "metadata": {
        "id": "view-in-github",
        "colab_type": "text"
      },
      "source": [
        "<a href=\"https://colab.research.google.com/github/mohsenh17/jaxLearning/blob/main/flax/basics.ipynb\" target=\"_parent\"><img src=\"https://colab.research.google.com/assets/colab-badge.svg\" alt=\"Open In Colab\"/></a>"
      ]
    },
    {
      "cell_type": "code",
      "source": [
        "!pip install --upgrade treescope"
      ],
      "metadata": {
        "id": "ER3gq75kqVE3",
        "colab": {
          "base_uri": "https://localhost:8080/"
        },
        "outputId": "84517185-bcb4-46b2-9b87-5782d0e9a0cc"
      },
      "execution_count": 9,
      "outputs": [
        {
          "output_type": "stream",
          "name": "stdout",
          "text": [
            "Collecting treescope\n",
            "  Downloading treescope-0.1.5-py3-none-any.whl.metadata (5.9 kB)\n",
            "Requirement already satisfied: numpy>=1.25.2 in /usr/local/lib/python3.10/dist-packages (from treescope) (1.26.4)\n",
            "Downloading treescope-0.1.5-py3-none-any.whl (174 kB)\n",
            "\u001b[?25l   \u001b[90m━━━━━━━━━━━━━━━━━━━━━━━━━━━━━━━━━━━━━━━━\u001b[0m \u001b[32m0.0/174.2 kB\u001b[0m \u001b[31m?\u001b[0m eta \u001b[36m-:--:--\u001b[0m\r\u001b[2K   \u001b[90m━━━━━━━━━━━━━━━━━━━━━━━━━━━━━━━━━━━━━━━━\u001b[0m \u001b[32m174.2/174.2 kB\u001b[0m \u001b[31m5.4 MB/s\u001b[0m eta \u001b[36m0:00:00\u001b[0m\n",
            "\u001b[?25hInstalling collected packages: treescope\n",
            "Successfully installed treescope-0.1.5\n"
          ]
        }
      ]
    },
    {
      "cell_type": "code",
      "execution_count": 1,
      "metadata": {
        "id": "9MOy-0bocn-v"
      },
      "outputs": [],
      "source": [
        "from flax import nnx\n",
        "import jax\n",
        "from jax import numpy as jnp\n"
      ]
    },
    {
      "cell_type": "markdown",
      "source": [
        "# Simple Linear"
      ],
      "metadata": {
        "id": "SS_jLDPumYlW"
      }
    },
    {
      "cell_type": "code",
      "source": [
        "class Linear(nnx.Module):\n",
        "\n",
        "  def __init__(self, din:int, dout:int, *, rngs:nnx.Rngs): # * force the succeeding variables must be provided with keyword arg\n",
        "    key = rngs.params()\n",
        "    self.w = nnx.Param(jax.random.uniform(key, (din, dout)))\n",
        "    self.b = nnx.Param(jnp.zeros((dout,)))\n",
        "    self.din, self.dout = din, dout\n",
        "\n",
        "  def __call__(self, x:jnp.ndarray):\n",
        "    return x @ self.w + self.b\n",
        "\n",
        "model = Linear(3, 5, rngs=nnx.Rngs(params=0))\n",
        "x = jnp.ones((6, 3))\n",
        "y = model(x)\n",
        "print(y)\n",
        "nnx.display(model)\n"
      ],
      "metadata": {
        "colab": {
          "base_uri": "https://localhost:8080/"
        },
        "id": "vzukX309jO5E",
        "outputId": "2fad7f19-dbfb-479e-87c6-ec39a4e94c3f"
      },
      "execution_count": 2,
      "outputs": [
        {
          "output_type": "stream",
          "name": "stdout",
          "text": [
            "[[1.4492468 1.6527531 1.1650311 1.6205449 1.5738977]\n",
            " [1.4492468 1.6527531 1.1650311 1.6205449 1.5738977]\n",
            " [1.4492468 1.6527531 1.1650311 1.6205449 1.5738977]\n",
            " [1.4492468 1.6527531 1.1650311 1.6205449 1.5738977]\n",
            " [1.4492468 1.6527531 1.1650311 1.6205449 1.5738977]\n",
            " [1.4492468 1.6527531 1.1650311 1.6205449 1.5738977]]\n",
            "Linear(\n",
            "  w=Param(\n",
            "    value=Array(shape=(3, 5), dtype=float32)\n",
            "  ),\n",
            "  b=Param(\n",
            "    value=Array(shape=(5,), dtype=float32)\n",
            "  ),\n",
            "  din=3,\n",
            "  dout=5\n",
            ")\n"
          ]
        }
      ]
    },
    {
      "cell_type": "markdown",
      "source": [
        "# Stateful computation\n",
        "How to update states during forward pass (batchNorm etc)"
      ],
      "metadata": {
        "id": "mTSxvE0voUDy"
      }
    },
    {
      "cell_type": "code",
      "source": [
        "class Count(nnx.Variable): pass\n",
        "\n",
        "class Counter(nnx.Module):\n",
        "  def __init__(self):\n",
        "    self.count = Count(jnp.array(0))\n",
        "\n",
        "  def __call__(self):\n",
        "    self.count += 1\n",
        "\n",
        "counter = Counter()\n",
        "print(f'{counter.count.value = }')\n",
        "counter()\n",
        "print(f'{counter.count.value = }')"
      ],
      "metadata": {
        "colab": {
          "base_uri": "https://localhost:8080/"
        },
        "id": "2DRGpjXkmr0U",
        "outputId": "157b0951-6db4-4ef1-d5c0-bc526c977151"
      },
      "execution_count": 4,
      "outputs": [
        {
          "output_type": "stream",
          "name": "stdout",
          "text": [
            "counter.count.value = Array(0, dtype=int32, weak_type=True)\n",
            "counter.count.value = Array(1, dtype=int32, weak_type=True)\n"
          ]
        }
      ]
    },
    {
      "cell_type": "markdown",
      "source": [
        "# Nested Modules"
      ],
      "metadata": {
        "id": "dFuPcAgH3klg"
      }
    },
    {
      "cell_type": "code",
      "source": [
        "class MLP(nnx.Module):\n",
        "  def __init__(self, din:int, dmid:int, dout:int, *, rngs:nnx.Rngs):\n",
        "    self.lin1 = Linear(din, dmid, rngs=rngs)\n",
        "    self.dropout = nnx.Dropout(rate=0.5, rngs=rngs)\n",
        "    self.bn = nnx.BatchNorm(dmid, rngs=rngs)\n",
        "    self.lin2 = Linear(dmid, dout, rngs=rngs)\n",
        "  def __call__(self, x:jnp.ndarray):\n",
        "    x = self.lin1(x)\n",
        "    x = self.bn(x)\n",
        "    x = self.dropout(x)\n",
        "    x = nnx.gelu(x)\n",
        "    x = self.lin2(x)\n",
        "    return x\n",
        "\n",
        "model = MLP(2, 16, 5, rngs=nnx.Rngs(0))\n",
        "\n",
        "y = model(x=jnp.ones((3, 2)))\n",
        "\n",
        "nnx.display(model)\n",
        "print(y)"
      ],
      "metadata": {
        "colab": {
          "base_uri": "https://localhost:8080/"
        },
        "id": "ShUKO2d83ogG",
        "outputId": "0965f903-a3a4-4fff-fbc5-1a192c80dfff"
      },
      "execution_count": 10,
      "outputs": [
        {
          "output_type": "stream",
          "name": "stdout",
          "text": [
            "MLP(\n",
            "  lin1=Linear(\n",
            "    w=Param(\n",
            "      value=Array(shape=(2, 16), dtype=float32)\n",
            "    ),\n",
            "    b=Param(\n",
            "      value=Array(shape=(16,), dtype=float32)\n",
            "    ),\n",
            "    din=2,\n",
            "    dout=16\n",
            "  ),\n",
            "  dropout=Dropout(rate=0.5, broadcast_dims=(), deterministic=False, rng_collection='dropout', rngs=Rngs(\n",
            "    default=RngStream(\n",
            "      key=RngKey(\n",
            "        value=Array((), dtype=key<fry>) overlaying:\n",
            "        [0 0],\n",
            "        tag='default'\n",
            "      ),\n",
            "      count=RngCount(\n",
            "        value=Array(5, dtype=uint32),\n",
            "        tag='default'\n",
            "      )\n",
            "    )\n",
            "  )),\n",
            "  bn=BatchNorm(\n",
            "    mean=BatchStat(\n",
            "      value=Array(shape=(16,), dtype=float32)\n",
            "    ),\n",
            "    var=BatchStat(\n",
            "      value=Array(shape=(16,), dtype=float32)\n",
            "    ),\n",
            "    scale=Param(\n",
            "      value=Array(shape=(16,), dtype=float32)\n",
            "    ),\n",
            "    bias=Param(\n",
            "      value=Array(shape=(16,), dtype=float32)\n",
            "    ),\n",
            "    num_features=16,\n",
            "    use_running_average=False,\n",
            "    axis=-1,\n",
            "    momentum=0.99,\n",
            "    epsilon=1e-05,\n",
            "    dtype=None,\n",
            "    param_dtype=<class 'jax.numpy.float32'>,\n",
            "    use_bias=True,\n",
            "    use_scale=True,\n",
            "    bias_init=<function zeros at 0x7cbe3bd120e0>,\n",
            "    scale_init=<function ones at 0x7cbe3bd12290>,\n",
            "    axis_name=None,\n",
            "    axis_index_groups=None,\n",
            "    use_fast_variance=True\n",
            "  ),\n",
            "  lin2=Linear(\n",
            "    w=Param(\n",
            "      value=Array(shape=(16, 5), dtype=float32)\n",
            "    ),\n",
            "    b=Param(\n",
            "      value=Array(shape=(5,), dtype=float32)\n",
            "    ),\n",
            "    din=16,\n",
            "    dout=5\n",
            "  )\n",
            ")\n",
            "[[-2.7780436e-05 -6.8867835e-06 -1.0870218e-05 -2.9896506e-05\n",
            "  -3.1776264e-05]\n",
            " [-5.7540608e-05 -3.7017355e-05 -3.6808469e-05 -3.4902241e-05\n",
            "  -3.6264100e-05]\n",
            " [-7.0575690e-05 -5.5801316e-05 -3.9498918e-05 -6.3470325e-05\n",
            "  -7.0038870e-05]]\n"
          ]
        }
      ]
    },
    {
      "cell_type": "markdown",
      "source": [
        "# Model surgery"
      ],
      "metadata": {
        "id": "g7B5fjdpBNAp"
      }
    },
    {
      "cell_type": "code",
      "source": [
        "class LoraParam(nnx.Param): pass\n",
        "\n",
        "class LoraLinear(nnx.Module):\n",
        "  def __init__(self, linear: Linear, rank: int, rngs: nnx.Rngs):\n",
        "    self.linear = linear\n",
        "    self.A = LoraParam(jax.random.normal(rngs(), (linear.din, rank)))\n",
        "    self.B = LoraParam(jax.random.normal(rngs(), (rank, linear.dout)))\n",
        "\n",
        "  def __call__(self, x: jax.Array):\n",
        "    return self.linear(x) + x @ self.A @ self.B\n",
        "\n",
        "rngs = nnx.Rngs(0)\n",
        "model = MLP(2, 32, 5, rngs=rngs)\n",
        "\n",
        "# Model surgery.\n",
        "model.lin1 = LoraLinear(model.lin1, 4, rngs=rngs)\n",
        "model.lin2 = LoraLinear(model.lin2, 4, rngs=rngs)\n",
        "\n",
        "y = model(x=jnp.ones((3, 2)))\n",
        "\n",
        "nnx.display(model)"
      ],
      "metadata": {
        "colab": {
          "base_uri": "https://localhost:8080/"
        },
        "id": "gDiI7uD8_qoR",
        "outputId": "69f2bd9a-8362-43ba-90ad-e2b2bd550681"
      },
      "execution_count": 6,
      "outputs": [
        {
          "output_type": "stream",
          "name": "stdout",
          "text": [
            "MLP(\n",
            "  lin1=LoraLinear(\n",
            "    linear=Linear(\n",
            "      w=Param(\n",
            "        value=Array(shape=(2, 32), dtype=float32)\n",
            "      ),\n",
            "      b=Param(\n",
            "        value=Array(shape=(32,), dtype=float32)\n",
            "      ),\n",
            "      din=2,\n",
            "      dout=32\n",
            "    ),\n",
            "    A=LoraParam(\n",
            "      value=Array(shape=(2, 4), dtype=float32)\n",
            "    ),\n",
            "    B=LoraParam(\n",
            "      value=Array(shape=(4, 32), dtype=float32)\n",
            "    )\n",
            "  ),\n",
            "  dropout=Dropout(rate=0.5, broadcast_dims=(), deterministic=False, rng_collection='dropout', rngs=Rngs(\n",
            "    default=RngStream(\n",
            "      key=RngKey(\n",
            "        value=Array((), dtype=key<fry>) overlaying:\n",
            "        [0 0],\n",
            "        tag='default'\n",
            "      ),\n",
            "      count=RngCount(\n",
            "        value=Array(9, dtype=uint32),\n",
            "        tag='default'\n",
            "      )\n",
            "    )\n",
            "  )),\n",
            "  bn=BatchNorm(\n",
            "    mean=BatchStat(\n",
            "      value=Array(shape=(32,), dtype=float32)\n",
            "    ),\n",
            "    var=BatchStat(\n",
            "      value=Array(shape=(32,), dtype=float32)\n",
            "    ),\n",
            "    scale=Param(\n",
            "      value=Array(shape=(32,), dtype=float32)\n",
            "    ),\n",
            "    bias=Param(\n",
            "      value=Array(shape=(32,), dtype=float32)\n",
            "    ),\n",
            "    num_features=32,\n",
            "    use_running_average=False,\n",
            "    axis=-1,\n",
            "    momentum=0.99,\n",
            "    epsilon=1e-05,\n",
            "    dtype=None,\n",
            "    param_dtype=<class 'jax.numpy.float32'>,\n",
            "    use_bias=True,\n",
            "    use_scale=True,\n",
            "    bias_init=<function zeros at 0x7cbe3bd120e0>,\n",
            "    scale_init=<function ones at 0x7cbe3bd12290>,\n",
            "    axis_name=None,\n",
            "    axis_index_groups=None,\n",
            "    use_fast_variance=True\n",
            "  ),\n",
            "  lin2=LoraLinear(\n",
            "    linear=Linear(\n",
            "      w=Param(\n",
            "        value=Array(shape=(32, 5), dtype=float32)\n",
            "      ),\n",
            "      b=Param(\n",
            "        value=Array(shape=(5,), dtype=float32)\n",
            "      ),\n",
            "      din=32,\n",
            "      dout=5\n",
            "    ),\n",
            "    A=LoraParam(\n",
            "      value=Array(shape=(32, 4), dtype=float32)\n",
            "    ),\n",
            "    B=LoraParam(\n",
            "      value=Array(shape=(4, 5), dtype=float32)\n",
            "    )\n",
            "  )\n",
            ")\n"
          ]
        }
      ]
    },
    {
      "cell_type": "markdown",
      "source": [
        "# train simple MLP"
      ],
      "metadata": {
        "id": "1kXTuRu8F51E"
      }
    },
    {
      "cell_type": "code",
      "source": [
        "import optax\n",
        "\n",
        "model = MLP(2, 16, 10, rngs=nnx.Rngs(0))\n",
        "opt = optax.adam(1e-3)\n",
        "optimizer = nnx.Optimizer(model, opt)\n",
        "\n",
        "@nnx.jit\n",
        "def train_step(model, optimizer, x, y):\n",
        "  def loss_fn(model):\n",
        "    y_pred = model(x)\n",
        "    return jnp.mean((y_pred - y)**2)\n",
        "\n",
        "  loss, grads = nnx.value_and_grad(loss_fn)(model)\n",
        "  optimizer.update(grads)\n",
        "\n",
        "  return loss\n",
        "\n",
        "x, y = jnp.ones((5, 2)), jnp.ones((5, 10))\n",
        "loss = train_step(model, optimizer, x, y)\n",
        "\n",
        "print(f'{loss = }')\n",
        "print(f'{optimizer.step.value = }')"
      ],
      "metadata": {
        "colab": {
          "base_uri": "https://localhost:8080/"
        },
        "id": "w8-GsNsiF4tv",
        "outputId": "d4d62b61-4db4-4cc5-c0eb-66e2de3dafab"
      },
      "execution_count": 7,
      "outputs": [
        {
          "output_type": "stream",
          "name": "stdout",
          "text": [
            "loss = Array(1.0000308, dtype=float32)\n",
            "optimizer.step.value = Array(1, dtype=uint32)\n"
          ]
        }
      ]
    },
    {
      "cell_type": "markdown",
      "source": [
        "# vmap"
      ],
      "metadata": {
        "id": "yXaVMVj3TpMF"
      }
    },
    {
      "cell_type": "code",
      "source": [
        "@nnx.vmap(in_axes=0, out_axes=0)\n",
        "def create_model(key: jax.Array):\n",
        "  return MLP(10, 32, 10, rngs=nnx.Rngs(key))\n",
        "\n",
        "keys = jax.random.split(jax.random.key(0), 5)\n",
        "model = create_model(keys)\n",
        "\n",
        "@nnx.scan(in_axes=(0, nnx.Carry), out_axes=nnx.Carry)\n",
        "def forward(model: MLP, x):\n",
        "  x = model(x)\n",
        "  return x\n",
        "\n",
        "x = jnp.ones((3, 10))\n",
        "y = forward(model, x)\n",
        "\n",
        "print(f'{y.shape = }')\n",
        "nnx.display(model)"
      ],
      "metadata": {
        "colab": {
          "base_uri": "https://localhost:8080/"
        },
        "id": "fTUr6mSTTzhI",
        "outputId": "97726207-0e8b-4ad7-dbdd-c185bb7f5840"
      },
      "execution_count": 11,
      "outputs": [
        {
          "output_type": "stream",
          "name": "stdout",
          "text": [
            "y.shape = (3, 10)\n",
            "MLP(\n",
            "  bn=BatchNorm(\n",
            "    axis=-1,\n",
            "    axis_index_groups=None,\n",
            "    axis_name=None,\n",
            "    bias=Param(\n",
            "      value=Array(shape=(5, 32), dtype=float32)\n",
            "    ),\n",
            "    bias_init=<function zeros at 0x7cbe3bd120e0>,\n",
            "    dtype=None,\n",
            "    epsilon=1e-05,\n",
            "    mean=BatchStat(\n",
            "      value=Array(shape=(5, 32), dtype=float32)\n",
            "    ),\n",
            "    momentum=0.99,\n",
            "    num_features=32,\n",
            "    param_dtype=<class 'jax.numpy.float32'>,\n",
            "    scale=Param(\n",
            "      value=Array(shape=(5, 32), dtype=float32)\n",
            "    ),\n",
            "    scale_init=<function ones at 0x7cbe3bd12290>,\n",
            "    use_bias=True,\n",
            "    use_fast_variance=True,\n",
            "    use_running_average=False,\n",
            "    use_scale=True,\n",
            "    var=BatchStat(\n",
            "      value=Array(shape=(5, 32), dtype=float32)\n",
            "    )\n",
            "  ),\n",
            "  dropout=Dropout(rate=0.5, broadcast_dims=(), deterministic=False, rng_collection='dropout', rngs=Rngs(\n",
            "    default=RngStream(\n",
            "      count=RngCount(\n",
            "        tag='default',\n",
            "        value=Array(shape=(5,), dtype=uint32)\n",
            "      ),\n",
            "      key=RngKey(\n",
            "        tag='default',\n",
            "        value=Array(shape=(5,), dtype=key<fry>)\n",
            "      )\n",
            "    )\n",
            "  )),\n",
            "  lin1=Linear(\n",
            "    b=Param(\n",
            "      value=Array(shape=(5, 32), dtype=float32)\n",
            "    ),\n",
            "    din=10,\n",
            "    dout=32,\n",
            "    w=Param(\n",
            "      value=Array(shape=(5, 10, 32), dtype=float32)\n",
            "    )\n",
            "  ),\n",
            "  lin2=Linear(\n",
            "    b=Param(\n",
            "      value=Array(shape=(5, 10), dtype=float32)\n",
            "    ),\n",
            "    din=32,\n",
            "    dout=10,\n",
            "    w=Param(\n",
            "      value=Array(shape=(5, 32, 10), dtype=float32)\n",
            "    )\n",
            "  )\n",
            ")\n"
          ]
        }
      ]
    }
  ]
}