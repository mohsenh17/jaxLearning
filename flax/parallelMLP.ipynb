{
  "nbformat": 4,
  "nbformat_minor": 0,
  "metadata": {
    "colab": {
      "provenance": [],
      "gpuType": "V28",
      "authorship_tag": "ABX9TyPrSVUqd9VBu17HHq0oXM9Z",
      "include_colab_link": true
    },
    "kernelspec": {
      "name": "python3",
      "display_name": "Python 3"
    },
    "language_info": {
      "name": "python"
    },
    "accelerator": "TPU"
  },
  "cells": [
    {
      "cell_type": "markdown",
      "metadata": {
        "id": "view-in-github",
        "colab_type": "text"
      },
      "source": [
        "<a href=\"https://colab.research.google.com/github/mohsenh17/jaxLearning/blob/main/flax/parallelMLP.ipynb\" target=\"_parent\"><img src=\"https://colab.research.google.com/assets/colab-badge.svg\" alt=\"Open In Colab\"/></a>"
      ]
    },
    {
      "cell_type": "code",
      "execution_count": 4,
      "metadata": {
        "colab": {
          "base_uri": "https://localhost:8080/",
          "height": 1000
        },
        "id": "15V1aitKAWdW",
        "outputId": "ee3f3b05-ff64-4840-dc26-4efb85dd180a"
      },
      "outputs": [
        {
          "output_type": "stream",
          "name": "stdout",
          "text": [
            "Requirement already satisfied: flax in /usr/local/lib/python3.10/dist-packages (0.8.5)\n",
            "Collecting flax\n",
            "  Downloading flax-0.10.2-py3-none-any.whl.metadata (11 kB)\n",
            "Collecting orbax\n",
            "  Downloading orbax-0.1.9.tar.gz (1.6 kB)\n",
            "  Preparing metadata (setup.py) ... \u001b[?25l\u001b[?25hdone\n",
            "Requirement already satisfied: jax in /usr/local/lib/python3.10/dist-packages (0.4.33)\n",
            "Collecting jax\n",
            "  Downloading jax-0.4.35-py3-none-any.whl.metadata (22 kB)\n",
            "Collecting treescope\n",
            "  Downloading treescope-0.1.6-py3-none-any.whl.metadata (6.0 kB)\n",
            "Requirement already satisfied: msgpack in /usr/local/lib/python3.10/dist-packages (from flax) (1.1.0)\n",
            "Requirement already satisfied: optax in /usr/local/lib/python3.10/dist-packages (from flax) (0.1.9)\n",
            "Requirement already satisfied: orbax-checkpoint in /usr/local/lib/python3.10/dist-packages (from flax) (0.4.4)\n",
            "Requirement already satisfied: tensorstore in /usr/local/lib/python3.10/dist-packages (from flax) (0.1.45)\n",
            "Requirement already satisfied: rich>=11.1 in /usr/local/lib/python3.10/dist-packages (from flax) (13.9.4)\n",
            "Requirement already satisfied: typing-extensions>=4.2 in /usr/local/lib/python3.10/dist-packages (from flax) (4.12.2)\n",
            "Requirement already satisfied: PyYAML>=5.4.1 in /usr/local/lib/python3.10/dist-packages (from flax) (6.0.2)\n",
            "Collecting jaxlib<=0.4.35,>=0.4.34 (from jax)\n",
            "  Downloading jaxlib-0.4.35-cp310-cp310-manylinux2014_x86_64.whl.metadata (983 bytes)\n",
            "Collecting ml-dtypes>=0.4.0 (from jax)\n",
            "  Downloading ml_dtypes-0.5.0-cp310-cp310-manylinux_2_17_x86_64.manylinux2014_x86_64.whl.metadata (21 kB)\n",
            "Requirement already satisfied: numpy>=1.24 in /usr/local/lib/python3.10/dist-packages (from jax) (1.26.4)\n",
            "Requirement already satisfied: opt-einsum in /usr/local/lib/python3.10/dist-packages (from jax) (3.4.0)\n",
            "Requirement already satisfied: scipy>=1.10 in /usr/local/lib/python3.10/dist-packages (from jax) (1.13.1)\n",
            "Requirement already satisfied: absl-py in /usr/local/lib/python3.10/dist-packages (from orbax-checkpoint->flax) (1.4.0)\n",
            "Requirement already satisfied: etils[epath,epy] in /usr/local/lib/python3.10/dist-packages (from orbax-checkpoint->flax) (1.10.0)\n",
            "Requirement already satisfied: nest_asyncio in /usr/local/lib/python3.10/dist-packages (from orbax-checkpoint->flax) (1.6.0)\n",
            "Requirement already satisfied: protobuf in /usr/local/lib/python3.10/dist-packages (from orbax-checkpoint->flax) (4.25.5)\n",
            "Requirement already satisfied: markdown-it-py>=2.2.0 in /usr/local/lib/python3.10/dist-packages (from rich>=11.1->flax) (3.0.0)\n",
            "Requirement already satisfied: pygments<3.0.0,>=2.13.0 in /usr/local/lib/python3.10/dist-packages (from rich>=11.1->flax) (2.18.0)\n",
            "Requirement already satisfied: chex>=0.1.7 in /usr/local/lib/python3.10/dist-packages (from optax->flax) (0.1.87)\n",
            "Requirement already satisfied: toolz>=0.9.0 in /usr/local/lib/python3.10/dist-packages (from chex>=0.1.7->optax->flax) (1.0.0)\n",
            "Requirement already satisfied: mdurl~=0.1 in /usr/local/lib/python3.10/dist-packages (from markdown-it-py>=2.2.0->rich>=11.1->flax) (0.1.2)\n",
            "Requirement already satisfied: fsspec in /usr/local/lib/python3.10/dist-packages (from etils[epath,epy]->orbax-checkpoint->flax) (2024.10.0)\n",
            "Requirement already satisfied: importlib_resources in /usr/local/lib/python3.10/dist-packages (from etils[epath,epy]->orbax-checkpoint->flax) (6.4.5)\n",
            "Requirement already satisfied: zipp in /usr/local/lib/python3.10/dist-packages (from etils[epath,epy]->orbax-checkpoint->flax) (3.21.0)\n",
            "Downloading flax-0.10.2-py3-none-any.whl (424 kB)\n",
            "\u001b[2K   \u001b[90m━━━━━━━━━━━━━━━━━━━━━━━━━━━━━━━━━━━━━━━━\u001b[0m \u001b[32m424.2/424.2 kB\u001b[0m \u001b[31m9.0 MB/s\u001b[0m eta \u001b[36m0:00:00\u001b[0m\n",
            "\u001b[?25hDownloading jax-0.4.35-py3-none-any.whl (2.2 MB)\n",
            "\u001b[2K   \u001b[90m━━━━━━━━━━━━━━━━━━━━━━━━━━━━━━━━━━━━━━━━\u001b[0m \u001b[32m2.2/2.2 MB\u001b[0m \u001b[31m50.0 MB/s\u001b[0m eta \u001b[36m0:00:00\u001b[0m\n",
            "\u001b[?25hDownloading treescope-0.1.6-py3-none-any.whl (174 kB)\n",
            "\u001b[2K   \u001b[90m━━━━━━━━━━━━━━━━━━━━━━━━━━━━━━━━━━━━━━━━\u001b[0m \u001b[32m174.8/174.8 kB\u001b[0m \u001b[31m13.2 MB/s\u001b[0m eta \u001b[36m0:00:00\u001b[0m\n",
            "\u001b[?25hDownloading jaxlib-0.4.35-cp310-cp310-manylinux2014_x86_64.whl (87.3 MB)\n",
            "\u001b[2K   \u001b[90m━━━━━━━━━━━━━━━━━━━━━━━━━━━━━━━━━━━━━━━━\u001b[0m \u001b[32m87.3/87.3 MB\u001b[0m \u001b[31m13.0 MB/s\u001b[0m eta \u001b[36m0:00:00\u001b[0m\n",
            "\u001b[?25hDownloading ml_dtypes-0.5.0-cp310-cp310-manylinux_2_17_x86_64.manylinux2014_x86_64.whl (4.5 MB)\n",
            "\u001b[2K   \u001b[90m━━━━━━━━━━━━━━━━━━━━━━━━━━━━━━━━━━━━━━━━\u001b[0m \u001b[32m4.5/4.5 MB\u001b[0m \u001b[31m89.1 MB/s\u001b[0m eta \u001b[36m0:00:00\u001b[0m\n",
            "\u001b[?25hBuilding wheels for collected packages: orbax\n",
            "  Building wheel for orbax (setup.py) ... \u001b[?25l\u001b[?25hdone\n",
            "  Created wheel for orbax: filename=orbax-0.1.9-py3-none-any.whl size=1493 sha256=f320cf8bcc1ce41e4be03acad7b7f445d386475a8150f3374f6e993c1e63a6df\n",
            "  Stored in directory: /root/.cache/pip/wheels/14/7a/98/b955a4db98b54317c311ee32367994ca530721c62a87ec56a7\n",
            "Successfully built orbax\n",
            "Installing collected packages: treescope, ml-dtypes, jaxlib, jax, orbax, flax\n",
            "  Attempting uninstall: ml-dtypes\n",
            "    Found existing installation: ml-dtypes 0.2.0\n",
            "    Uninstalling ml-dtypes-0.2.0:\n",
            "      Successfully uninstalled ml-dtypes-0.2.0\n",
            "  Attempting uninstall: jaxlib\n",
            "    Found existing installation: jaxlib 0.4.33\n",
            "    Uninstalling jaxlib-0.4.33:\n",
            "      Successfully uninstalled jaxlib-0.4.33\n",
            "  Attempting uninstall: jax\n",
            "    Found existing installation: jax 0.4.33\n",
            "    Uninstalling jax-0.4.33:\n",
            "      Successfully uninstalled jax-0.4.33\n",
            "  Attempting uninstall: flax\n",
            "    Found existing installation: flax 0.8.5\n",
            "    Uninstalling flax-0.8.5:\n",
            "      Successfully uninstalled flax-0.8.5\n",
            "\u001b[31mERROR: pip's dependency resolver does not currently take into account all the packages that are installed. This behaviour is the source of the following dependency conflicts.\n",
            "tensorflow 2.15.0 requires ml-dtypes~=0.2.0, but you have ml-dtypes 0.5.0 which is incompatible.\u001b[0m\u001b[31m\n",
            "\u001b[0mSuccessfully installed flax-0.10.2 jax-0.4.35 jaxlib-0.4.35 ml-dtypes-0.5.0 orbax-0.1.9 treescope-0.1.6\n"
          ]
        },
        {
          "output_type": "display_data",
          "data": {
            "application/vnd.colab-display-data+json": {
              "pip_warning": {
                "packages": [
                  "flax",
                  "jax",
                  "jaxlib",
                  "ml_dtypes"
                ]
              },
              "id": "81ecc635abc34f99827a9a5be55ba227"
            }
          },
          "metadata": {}
        }
      ],
      "source": [
        "! pip install --upgrade flax orbax jax treescope"
      ]
    },
    {
      "cell_type": "code",
      "source": [
        "import os\n",
        "import jax\n",
        "import jax.numpy as jnp\n",
        "from jax.sharding import PartitionSpec as P, Mesh\n",
        "from jax.experimental.shard_map import shard_map\n",
        "from jax.experimental import mesh_utils\n",
        "\n",
        "import optax\n",
        "from flax import nnx\n",
        "import matplotlib.pyplot as plt\n",
        "\n",
        "from functools import partial\n",
        "import numpy as np"
      ],
      "metadata": {
        "id": "ZxaAm7ssAkxl"
      },
      "execution_count": 1,
      "outputs": []
    },
    {
      "cell_type": "code",
      "source": [
        "USE_CPU_ONLY = True\n",
        "\n",
        "flags = os.environ.get(\"XLA_FLAGS\", \"\")\n",
        "if USE_CPU_ONLY:\n",
        "    flags += \" --xla_force_host_platform_device_count=8\"  # Simulate 8 devices\n",
        "    # Enforce CPU-only execution\n",
        "    os.environ[\"CUDA_VISIBLE_DEVICES\"] = \"\"\n",
        "else:\n",
        "    # GPU flags\n",
        "    flags += (\n",
        "        \"--xla_gpu_enable_triton_softmax_fusion=true \"\n",
        "        \"--xla_gpu_triton_gemm_any=false \"\n",
        "        \"--xla_gpu_enable_async_collectives=true \"\n",
        "        \"--xla_gpu_enable_latency_hiding_scheduler=true \"\n",
        "        \"--xla_gpu_enable_highest_priority_async_stream=true \"\n",
        "    )\n",
        "os.environ[\"XLA_FLAGS\"] = flags\n",
        "\n",
        "print(f'You have 8 “fake” JAX devices now: {jax.devices()}')"
      ],
      "metadata": {
        "colab": {
          "base_uri": "https://localhost:8080/"
        },
        "id": "tF3hCgFaAoJs",
        "outputId": "445a3f2f-4a7e-4369-aef3-defb2cf91ddd"
      },
      "execution_count": 3,
      "outputs": [
        {
          "output_type": "stream",
          "name": "stdout",
          "text": [
            "You have 8 “fake” JAX devices now: [CpuDevice(id=0), CpuDevice(id=1), CpuDevice(id=2), CpuDevice(id=3), CpuDevice(id=4), CpuDevice(id=5), CpuDevice(id=6), CpuDevice(id=7)]\n"
          ]
        }
      ]
    },
    {
      "cell_type": "code",
      "source": [
        "jax.devices()"
      ],
      "metadata": {
        "colab": {
          "base_uri": "https://localhost:8080/"
        },
        "id": "Z7khiWviM_2S",
        "outputId": "6049e750-b9a0-4246-a549-f0adf72e426a"
      },
      "execution_count": 2,
      "outputs": [
        {
          "output_type": "execute_result",
          "data": {
            "text/plain": [
              "[TpuDevice(id=0, process_index=0, coords=(0,0,0), core_on_chip=0),\n",
              " TpuDevice(id=1, process_index=0, coords=(0,0,0), core_on_chip=1),\n",
              " TpuDevice(id=2, process_index=0, coords=(1,0,0), core_on_chip=0),\n",
              " TpuDevice(id=3, process_index=0, coords=(1,0,0), core_on_chip=1),\n",
              " TpuDevice(id=4, process_index=0, coords=(0,1,0), core_on_chip=0),\n",
              " TpuDevice(id=5, process_index=0, coords=(0,1,0), core_on_chip=1),\n",
              " TpuDevice(id=6, process_index=0, coords=(1,1,0), core_on_chip=0),\n",
              " TpuDevice(id=7, process_index=0, coords=(1,1,0), core_on_chip=1)]"
            ]
          },
          "metadata": {},
          "execution_count": 2
        }
      ]
    },
    {
      "cell_type": "code",
      "source": [
        "from flax.nnx.nn import dtypes, initializers\n",
        "class MLP(nnx.Module):\n",
        "  def __init__(self, din, dmid, dout, *, rngs: nnx.Rngs):\n",
        "    self.linear1 = nnx.Linear(din, dmid,\n",
        "                              kernel_init=nnx.with_partitioning(initializers.lecun_normal(),(None, 'model')),\n",
        "                              bias_init=nnx.with_partitioning(initializers.zeros_init(),('model',)),\n",
        "                              #use_bias=False,\n",
        "                              rngs=rngs)\n",
        "    self.linear2 = nnx.Linear(dmid, dout,\n",
        "                              kernel_init=nnx.with_partitioning(initializers.lecun_normal(),(None, 'model')),\n",
        "                              bias_init=nnx.with_partitioning(initializers.zeros_init(),('model',)),\n",
        "                              #use_bias=False,\n",
        "                              rngs=rngs)\n",
        "  def __call__(self, x):\n",
        "    return self.linear2(nnx.relu(self.linear1(x)))\n",
        "# Instantiate the MLP model\n",
        "model = MLP(1, 64, 1, rngs=nnx.Rngs(0))\n"
      ],
      "metadata": {
        "id": "22dV3PrGAsjJ"
      },
      "execution_count": 3,
      "outputs": []
    },
    {
      "cell_type": "code",
      "source": [
        "mesh = Mesh(devices=np.array(jax.devices()).reshape(2, 4),\n",
        "            axis_names=('data', 'model'))\n",
        "print(mesh)"
      ],
      "metadata": {
        "colab": {
          "base_uri": "https://localhost:8080/"
        },
        "id": "XJ9DwlUVBkKj",
        "outputId": "782857d5-0b2f-4e1a-c5db-2eb1d6fe47c5"
      },
      "execution_count": 4,
      "outputs": [
        {
          "output_type": "stream",
          "name": "stdout",
          "text": [
            "Mesh('data': 2, 'model': 4)\n"
          ]
        }
      ]
    },
    {
      "cell_type": "code",
      "source": [
        "@nnx.jit\n",
        "def create_sharded_model(model):\n",
        "  state = nnx.state(model)                   # The model's state, a pure pytree.\n",
        "  pspecs = nnx.get_partition_spec(state)     # Strip out the annotations from state.\n",
        "  #print(state)\n",
        "  sharded_state = jax.lax.with_sharding_constraint(state, pspecs)\n",
        "  nnx.update(model, sharded_state)           # The model is sharded now!\n",
        "  return model\n",
        "with mesh:\n",
        "  sharded_model = create_sharded_model(model)"
      ],
      "metadata": {
        "id": "2DAcw465Bnek"
      },
      "execution_count": 5,
      "outputs": []
    },
    {
      "cell_type": "code",
      "source": [
        "# Learning rate and momentum for the optimizer\n",
        "learning_rate = 0.005\n",
        "momentum = 0.9\n",
        "\n",
        "\n",
        "# Set up the optimizer using Adam with the specified learning rate\n",
        "optimizer = nnx.Optimizer(sharded_model, optax.adam(learning_rate))\n",
        "\n",
        "# Initialize metrics for tracking training performance\n",
        "metrics = nnx.MultiMetric(\n",
        "    loss=nnx.metrics.Average('loss'),  # Tracks the average loss\n",
        ")"
      ],
      "metadata": {
        "id": "dDU2yddxA07v"
      },
      "execution_count": 6,
      "outputs": []
    },
    {
      "cell_type": "code",
      "source": [
        "print(\"sharded_model.linear1.kernel (None, 'model') :\")\n",
        "jax.debug.visualize_array_sharding(sharded_model.linear1.kernel.value)"
      ],
      "metadata": {
        "colab": {
          "base_uri": "https://localhost:8080/",
          "height": 199
        },
        "id": "OteymbYMEOpo",
        "outputId": "dac05d25-a016-4b99-cff9-0700efd8919f"
      },
      "execution_count": 7,
      "outputs": [
        {
          "output_type": "stream",
          "name": "stdout",
          "text": [
            "sharded_model.linear1.kernel (None, 'model') :\n"
          ]
        },
        {
          "output_type": "display_data",
          "data": {
            "text/plain": [
              "\u001b[38;2;255;255;255;48;2;57;59;121m                    \u001b[0m\u001b[38;2;255;255;255;48;2;222;158;214m                    \u001b[0m\u001b[38;2;255;255;255;48;2;173;73;74m                    \u001b[0m\u001b[38;2;0;0;0;48;2;181;207;107m                    \u001b[0m\n",
              "\u001b[38;2;255;255;255;48;2;57;59;121m                    \u001b[0m\u001b[38;2;255;255;255;48;2;222;158;214m                    \u001b[0m\u001b[38;2;255;255;255;48;2;173;73;74m                    \u001b[0m\u001b[38;2;0;0;0;48;2;181;207;107m                    \u001b[0m\n",
              "\u001b[38;2;255;255;255;48;2;57;59;121m                    \u001b[0m\u001b[38;2;255;255;255;48;2;222;158;214m                    \u001b[0m\u001b[38;2;255;255;255;48;2;173;73;74m                    \u001b[0m\u001b[38;2;0;0;0;48;2;181;207;107m                    \u001b[0m\n",
              "\u001b[38;2;255;255;255;48;2;57;59;121m                    \u001b[0m\u001b[38;2;255;255;255;48;2;222;158;214m                    \u001b[0m\u001b[38;2;255;255;255;48;2;173;73;74m                    \u001b[0m\u001b[38;2;0;0;0;48;2;181;207;107m                    \u001b[0m\n",
              "\u001b[38;2;255;255;255;48;2;57;59;121m                    \u001b[0m\u001b[38;2;255;255;255;48;2;222;158;214m                    \u001b[0m\u001b[38;2;255;255;255;48;2;173;73;74m                    \u001b[0m\u001b[38;2;0;0;0;48;2;181;207;107m                    \u001b[0m\n",
              "\u001b[38;2;255;255;255;48;2;57;59;121m                    \u001b[0m\u001b[38;2;255;255;255;48;2;222;158;214m                    \u001b[0m\u001b[38;2;255;255;255;48;2;173;73;74m                    \u001b[0m\u001b[38;2;0;0;0;48;2;181;207;107m                    \u001b[0m\n",
              "\u001b[38;2;255;255;255;48;2;57;59;121m                    \u001b[0m\u001b[38;2;255;255;255;48;2;222;158;214m                    \u001b[0m\u001b[38;2;255;255;255;48;2;173;73;74m                    \u001b[0m\u001b[38;2;0;0;0;48;2;181;207;107m                    \u001b[0m\n",
              "\u001b[38;2;255;255;255;48;2;57;59;121m                    \u001b[0m\u001b[38;2;255;255;255;48;2;222;158;214m                    \u001b[0m\u001b[38;2;255;255;255;48;2;173;73;74m                    \u001b[0m\u001b[38;2;0;0;0;48;2;181;207;107m                    \u001b[0m\n",
              "\u001b[38;2;255;255;255;48;2;57;59;121m                    \u001b[0m\u001b[38;2;255;255;255;48;2;222;158;214m                    \u001b[0m\u001b[38;2;255;255;255;48;2;173;73;74m                    \u001b[0m\u001b[38;2;0;0;0;48;2;181;207;107m                    \u001b[0m\n",
              "\u001b[38;2;255;255;255;48;2;57;59;121m                    \u001b[0m\u001b[38;2;255;255;255;48;2;222;158;214m                    \u001b[0m\u001b[38;2;255;255;255;48;2;173;73;74m                    \u001b[0m\u001b[38;2;0;0;0;48;2;181;207;107m                    \u001b[0m\n"
            ],
            "text/html": [
              "<pre style=\"white-space:pre;overflow-x:auto;line-height:normal;font-family:Menlo,'DejaVu Sans Mono',consolas,'Courier New',monospace\"><span style=\"color: #ffffff; text-decoration-color: #ffffff; background-color: #393b79\">                    </span><span style=\"color: #ffffff; text-decoration-color: #ffffff; background-color: #de9ed6\">                    </span><span style=\"color: #ffffff; text-decoration-color: #ffffff; background-color: #ad494a\">                    </span><span style=\"color: #000000; text-decoration-color: #000000; background-color: #b5cf6b\">                    </span>\n",
              "<span style=\"color: #ffffff; text-decoration-color: #ffffff; background-color: #393b79\">                    </span><span style=\"color: #ffffff; text-decoration-color: #ffffff; background-color: #de9ed6\">                    </span><span style=\"color: #ffffff; text-decoration-color: #ffffff; background-color: #ad494a\">                    </span><span style=\"color: #000000; text-decoration-color: #000000; background-color: #b5cf6b\">                    </span>\n",
              "<span style=\"color: #ffffff; text-decoration-color: #ffffff; background-color: #393b79\">                    </span><span style=\"color: #ffffff; text-decoration-color: #ffffff; background-color: #de9ed6\">                    </span><span style=\"color: #ffffff; text-decoration-color: #ffffff; background-color: #ad494a\">                    </span><span style=\"color: #000000; text-decoration-color: #000000; background-color: #b5cf6b\">                    </span>\n",
              "<span style=\"color: #ffffff; text-decoration-color: #ffffff; background-color: #393b79\">                    </span><span style=\"color: #ffffff; text-decoration-color: #ffffff; background-color: #de9ed6\">                    </span><span style=\"color: #ffffff; text-decoration-color: #ffffff; background-color: #ad494a\">                    </span><span style=\"color: #000000; text-decoration-color: #000000; background-color: #b5cf6b\">                    </span>\n",
              "<span style=\"color: #ffffff; text-decoration-color: #ffffff; background-color: #393b79\">                    </span><span style=\"color: #ffffff; text-decoration-color: #ffffff; background-color: #de9ed6\">                    </span><span style=\"color: #ffffff; text-decoration-color: #ffffff; background-color: #ad494a\">                    </span><span style=\"color: #000000; text-decoration-color: #000000; background-color: #b5cf6b\">                    </span>\n",
              "<span style=\"color: #ffffff; text-decoration-color: #ffffff; background-color: #393b79\">                    </span><span style=\"color: #ffffff; text-decoration-color: #ffffff; background-color: #de9ed6\">                    </span><span style=\"color: #ffffff; text-decoration-color: #ffffff; background-color: #ad494a\">                    </span><span style=\"color: #000000; text-decoration-color: #000000; background-color: #b5cf6b\">                    </span>\n",
              "<span style=\"color: #ffffff; text-decoration-color: #ffffff; background-color: #393b79\">                    </span><span style=\"color: #ffffff; text-decoration-color: #ffffff; background-color: #de9ed6\">                    </span><span style=\"color: #ffffff; text-decoration-color: #ffffff; background-color: #ad494a\">                    </span><span style=\"color: #000000; text-decoration-color: #000000; background-color: #b5cf6b\">                    </span>\n",
              "<span style=\"color: #ffffff; text-decoration-color: #ffffff; background-color: #393b79\">                    </span><span style=\"color: #ffffff; text-decoration-color: #ffffff; background-color: #de9ed6\">                    </span><span style=\"color: #ffffff; text-decoration-color: #ffffff; background-color: #ad494a\">                    </span><span style=\"color: #000000; text-decoration-color: #000000; background-color: #b5cf6b\">                    </span>\n",
              "<span style=\"color: #ffffff; text-decoration-color: #ffffff; background-color: #393b79\">                    </span><span style=\"color: #ffffff; text-decoration-color: #ffffff; background-color: #de9ed6\">                    </span><span style=\"color: #ffffff; text-decoration-color: #ffffff; background-color: #ad494a\">                    </span><span style=\"color: #000000; text-decoration-color: #000000; background-color: #b5cf6b\">                    </span>\n",
              "<span style=\"color: #ffffff; text-decoration-color: #ffffff; background-color: #393b79\">                    </span><span style=\"color: #ffffff; text-decoration-color: #ffffff; background-color: #de9ed6\">                    </span><span style=\"color: #ffffff; text-decoration-color: #ffffff; background-color: #ad494a\">                    </span><span style=\"color: #000000; text-decoration-color: #000000; background-color: #b5cf6b\">                    </span>\n",
              "</pre>\n"
            ]
          },
          "metadata": {}
        }
      ]
    },
    {
      "cell_type": "code",
      "source": [
        "import time\n",
        "\n",
        "\n",
        "@nnx.jit\n",
        "def train_step(model: MLP, optimizer: nnx.Optimizer, x, y):\n",
        "  def loss_fn(model: MLP):\n",
        "    y_pred = model(x)\n",
        "    return jnp.mean((y - y_pred) ** 2)\n",
        "\n",
        "  loss, grads = nnx.value_and_grad(loss_fn)(model)\n",
        "  optimizer.update(grads)\n",
        "  return loss\n",
        "\n",
        "\n",
        "def dataset(steps, batch_size):\n",
        "  for _ in range(steps):\n",
        "    x = np.random.uniform(-2, 2, size=(batch_size, 1))\n",
        "    y = 0.8 * x**2 + 0.1 + np.random.normal(0, 0.1, size=x.shape)\n",
        "    yield x, y\n",
        "\n",
        "# Example: Timing a for loop\n",
        "start_time = time.time()  # Record the start time\n",
        "\n",
        "for step, (x, y) in enumerate(dataset(100000, 128)):\n",
        "  # shard data\n",
        "  x, y = jax.device_put((x, y), jax.NamedSharding(mesh, jax.sharding.PartitionSpec('data')))\n",
        "  # train\n",
        "  loss = train_step(sharded_model, optimizer, x, y)\n",
        "\n",
        "  if step == 0:\n",
        "    print('data sharding')\n",
        "    jax.debug.visualize_array_sharding(jnp.array(x))\n",
        "\n",
        "  if step % 10000 == 0:\n",
        "    print(f'step={step}, loss={loss}')\n",
        "\n",
        "# dereplicate state\n",
        "state = nnx.state((sharded_model, optimizer))\n",
        "state = jax.device_get(state)\n",
        "nnx.update((sharded_model, optimizer), state)\n",
        "\n",
        "X, Y = next(dataset(1, 1000))\n",
        "x_range = np.linspace(X.min(), X.max(), 100)[:, None]\n",
        "y_pred = sharded_model(x_range)\n",
        "\n",
        "# plot\n",
        "plt.scatter(X, Y, label='data')\n",
        "plt.plot(x_range, y_pred, color='black', label='sharded_model')\n",
        "plt.legend()\n",
        "plt.show()\n",
        "\n",
        "end_time = time.time()  # Record the end time\n",
        "\n",
        "# Calculate elapsed time\n",
        "elapsed_time = end_time - start_time\n",
        "print(f\"The for loop took {elapsed_time:.4f} seconds.\")"
      ],
      "metadata": {
        "colab": {
          "base_uri": "https://localhost:8080/",
          "height": 836
        },
        "id": "L-wqezf8BAmK",
        "outputId": "cc339a7f-0751-47ca-b9d1-f59d4b5a3b4a"
      },
      "execution_count": 15,
      "outputs": [
        {
          "output_type": "stream",
          "name": "stdout",
          "text": [
            "data sharding\n"
          ]
        },
        {
          "output_type": "display_data",
          "data": {
            "text/plain": [
              "\u001b[38;2;255;255;255;48;2;57;59;121m           \u001b[0m\n",
              "\u001b[38;2;255;255;255;48;2;57;59;121m           \u001b[0m\n",
              "\u001b[38;2;255;255;255;48;2;57;59;121mTPU 0,1,2,3\u001b[0m\n",
              "\u001b[38;2;255;255;255;48;2;57;59;121m           \u001b[0m\n",
              "\u001b[38;2;255;255;255;48;2;57;59;121m           \u001b[0m\n",
              "\u001b[38;2;255;255;255;48;2;57;59;121m           \u001b[0m\n",
              "\u001b[38;2;255;255;255;48;2;57;59;121m           \u001b[0m\n",
              "\u001b[38;2;255;255;255;48;2;57;59;121m           \u001b[0m\n",
              "\u001b[38;2;255;255;255;48;2;57;59;121mTPU 4,5,6,7\u001b[0m\n",
              "\u001b[38;2;255;255;255;48;2;57;59;121m           \u001b[0m\n",
              "\u001b[38;2;255;255;255;48;2;57;59;121m           \u001b[0m\n",
              "\u001b[38;2;255;255;255;48;2;57;59;121m           \u001b[0m\n"
            ],
            "text/html": [
              "<pre style=\"white-space:pre;overflow-x:auto;line-height:normal;font-family:Menlo,'DejaVu Sans Mono',consolas,'Courier New',monospace\"><span style=\"color: #ffffff; text-decoration-color: #ffffff; background-color: #393b79\">           </span>\n",
              "<span style=\"color: #ffffff; text-decoration-color: #ffffff; background-color: #393b79\">           </span>\n",
              "<span style=\"color: #ffffff; text-decoration-color: #ffffff; background-color: #393b79\">TPU 0,1,2,3</span>\n",
              "<span style=\"color: #ffffff; text-decoration-color: #ffffff; background-color: #393b79\">           </span>\n",
              "<span style=\"color: #ffffff; text-decoration-color: #ffffff; background-color: #393b79\">           </span>\n",
              "<span style=\"color: #ffffff; text-decoration-color: #ffffff; background-color: #393b79\">           </span>\n",
              "<span style=\"color: #ffffff; text-decoration-color: #ffffff; background-color: #393b79\">           </span>\n",
              "<span style=\"color: #ffffff; text-decoration-color: #ffffff; background-color: #393b79\">           </span>\n",
              "<span style=\"color: #ffffff; text-decoration-color: #ffffff; background-color: #393b79\">TPU 4,5,6,7</span>\n",
              "<span style=\"color: #ffffff; text-decoration-color: #ffffff; background-color: #393b79\">           </span>\n",
              "<span style=\"color: #ffffff; text-decoration-color: #ffffff; background-color: #393b79\">           </span>\n",
              "<span style=\"color: #ffffff; text-decoration-color: #ffffff; background-color: #393b79\">           </span>\n",
              "</pre>\n"
            ]
          },
          "metadata": {}
        },
        {
          "output_type": "stream",
          "name": "stdout",
          "text": [
            "step=0, loss=0.008508064784109592\n",
            "step=10000, loss=0.010068489238619804\n",
            "step=20000, loss=0.010501831769943237\n",
            "step=30000, loss=0.010977212339639664\n",
            "step=40000, loss=0.01011670008301735\n",
            "step=50000, loss=0.01337970606982708\n",
            "step=60000, loss=0.009928040206432343\n",
            "step=70000, loss=0.01008741557598114\n",
            "step=80000, loss=0.011006351560354233\n",
            "step=90000, loss=0.009545670822262764\n"
          ]
        },
        {
          "output_type": "display_data",
          "data": {
            "text/plain": [
              "<Figure size 640x480 with 1 Axes>"
            ],
            "image/png": "[encoded data removed]"
          },
          "metadata": {}
        },
        {
          "output_type": "stream",
          "name": "stdout",
          "text": [
            "The for loop took 314.9452 seconds.\n"
          ]
        }
      ]
    },
    {
      "cell_type": "code",
      "source": [
        "class MLP(nnx.Module):\n",
        "  def __init__(self, din, dmid, dout, *, rngs: nnx.Rngs):\n",
        "    self.linear1 = nnx.Linear(din, dmid,\n",
        "                              #use_bias=False,\n",
        "                              rngs=rngs)\n",
        "    self.linear2 = nnx.Linear(dmid, dout,\n",
        "                              #use_bias=False,\n",
        "                              rngs=rngs)\n",
        "  def __call__(self, x):\n",
        "    return self.linear2(nnx.relu(self.linear1(x)))\n",
        "# Instantiate the MLP model\n",
        "model = MLP(1, 64, 1, rngs=nnx.Rngs(0))"
      ],
      "metadata": {
        "id": "34kFpcgjQIij"
      },
      "execution_count": 16,
      "outputs": []
    },
    {
      "cell_type": "code",
      "source": [
        "# Learning rate and momentum for the optimizer\n",
        "learning_rate = 0.005\n",
        "momentum = 0.9\n",
        "\n",
        "\n",
        "# Set up the optimizer using Adam with the specified learning rate\n",
        "optimizer = nnx.Optimizer(model, optax.adam(learning_rate))\n",
        "\n",
        "# Initialize metrics for tracking training performance\n",
        "metrics = nnx.MultiMetric(\n",
        "    loss=nnx.metrics.Average('loss'),  # Tracks the average loss\n",
        ")"
      ],
      "metadata": {
        "id": "E3pnclvdQRKR"
      },
      "execution_count": 18,
      "outputs": []
    },
    {
      "cell_type": "code",
      "source": [
        "import time\n",
        "\n",
        "\n",
        "@nnx.jit\n",
        "def train_step(model: MLP, optimizer: nnx.Optimizer, x, y):\n",
        "  def loss_fn(model: MLP):\n",
        "    y_pred = model(x)\n",
        "    return jnp.mean((y - y_pred) ** 2)\n",
        "\n",
        "  loss, grads = nnx.value_and_grad(loss_fn)(model)\n",
        "  optimizer.update(grads)\n",
        "  return loss\n",
        "\n",
        "\n",
        "def dataset(steps, batch_size):\n",
        "  for _ in range(steps):\n",
        "    x = np.random.uniform(-2, 2, size=(batch_size, 1))\n",
        "    y = 0.8 * x**2 + 0.1 + np.random.normal(0, 0.1, size=x.shape)\n",
        "    yield x, y\n",
        "\n",
        "# Example: Timing a for loop\n",
        "start_time = time.time()  # Record the start time\n",
        "\n",
        "for step, (x, y) in enumerate(dataset(100000, 128)):\n",
        "  # shard data\n",
        "  #x, y = jax.device_put((x, y), jax.NamedSharding(mesh, jax.sharding.PartitionSpec('data')))\n",
        "  # train\n",
        "  loss = train_step(model, optimizer, x, y)\n",
        "\n",
        "  if step == 0:\n",
        "    print('data sharding')\n",
        "    jax.debug.visualize_array_sharding(jnp.array(x))\n",
        "\n",
        "  if step % 10000 == 0:\n",
        "    print(f'step={step}, loss={loss}')\n",
        "\n",
        "# dereplicate state\n",
        "state = nnx.state((model, optimizer))\n",
        "state = jax.device_get(state)\n",
        "nnx.update((model, optimizer), state)\n",
        "\n",
        "X, Y = next(dataset(1, 1000))\n",
        "x_range = np.linspace(X.min(), X.max(), 100)[:, None]\n",
        "y_pred = model(x_range)\n",
        "\n",
        "# plot\n",
        "plt.scatter(X, Y, label='data')\n",
        "plt.plot(x_range, y_pred, color='black', label='sharded_model')\n",
        "plt.legend()\n",
        "plt.show()\n",
        "\n",
        "end_time = time.time()  # Record the end time\n",
        "\n",
        "# Calculate elapsed time\n",
        "elapsed_time = end_time - start_time\n",
        "print(f\"The for loop took {elapsed_time:.4f} seconds.\")"
      ],
      "metadata": {
        "colab": {
          "base_uri": "https://localhost:8080/",
          "height": 821
        },
        "id": "k-3D1dmVOjFi",
        "outputId": "e503d2ae-b63d-4afb-b3f3-d394967bd6e3"
      },
      "execution_count": 19,
      "outputs": [
        {
          "output_type": "stream",
          "name": "stdout",
          "text": [
            "data sharding\n"
          ]
        },
        {
          "output_type": "display_data",
          "data": {
            "text/plain": [
              "\u001b[38;2;255;255;255;48;2;57;59;121m         \u001b[0m\n",
              "\u001b[38;2;255;255;255;48;2;57;59;121m         \u001b[0m\n",
              "\u001b[38;2;255;255;255;48;2;57;59;121m         \u001b[0m\n",
              "\u001b[38;2;255;255;255;48;2;57;59;121m         \u001b[0m\n",
              "\u001b[38;2;255;255;255;48;2;57;59;121m         \u001b[0m\n",
              "\u001b[38;2;255;255;255;48;2;57;59;121m  \u001b[0m\u001b[38;2;255;255;255;48;2;57;59;121mTPU 0\u001b[0m\u001b[38;2;255;255;255;48;2;57;59;121m  \u001b[0m\n",
              "\u001b[38;2;255;255;255;48;2;57;59;121m         \u001b[0m\n",
              "\u001b[38;2;255;255;255;48;2;57;59;121m         \u001b[0m\n",
              "\u001b[38;2;255;255;255;48;2;57;59;121m         \u001b[0m\n",
              "\u001b[38;2;255;255;255;48;2;57;59;121m         \u001b[0m\n",
              "\u001b[38;2;255;255;255;48;2;57;59;121m         \u001b[0m\n"
            ],
            "text/html": [
              "<pre style=\"white-space:pre;overflow-x:auto;line-height:normal;font-family:Menlo,'DejaVu Sans Mono',consolas,'Courier New',monospace\"><span style=\"color: #ffffff; text-decoration-color: #ffffff; background-color: #393b79\">         </span>\n",
              "<span style=\"color: #ffffff; text-decoration-color: #ffffff; background-color: #393b79\">         </span>\n",
              "<span style=\"color: #ffffff; text-decoration-color: #ffffff; background-color: #393b79\">         </span>\n",
              "<span style=\"color: #ffffff; text-decoration-color: #ffffff; background-color: #393b79\">         </span>\n",
              "<span style=\"color: #ffffff; text-decoration-color: #ffffff; background-color: #393b79\">         </span>\n",
              "<span style=\"color: #ffffff; text-decoration-color: #ffffff; background-color: #393b79\">  TPU 0  </span>\n",
              "<span style=\"color: #ffffff; text-decoration-color: #ffffff; background-color: #393b79\">         </span>\n",
              "<span style=\"color: #ffffff; text-decoration-color: #ffffff; background-color: #393b79\">         </span>\n",
              "<span style=\"color: #ffffff; text-decoration-color: #ffffff; background-color: #393b79\">         </span>\n",
              "<span style=\"color: #ffffff; text-decoration-color: #ffffff; background-color: #393b79\">         </span>\n",
              "<span style=\"color: #ffffff; text-decoration-color: #ffffff; background-color: #393b79\">         </span>\n",
              "</pre>\n"
            ]
          },
          "metadata": {}
        },
        {
          "output_type": "stream",
          "name": "stdout",
          "text": [
            "step=0, loss=4.714942932128906\n",
            "step=10000, loss=0.010358420200645924\n",
            "step=20000, loss=0.007744212634861469\n",
            "step=30000, loss=0.01133646909147501\n",
            "step=40000, loss=0.010960434563457966\n",
            "step=50000, loss=0.01103459857404232\n",
            "step=60000, loss=0.011570397764444351\n",
            "step=70000, loss=0.012000220827758312\n",
            "step=80000, loss=0.009146747179329395\n",
            "step=90000, loss=0.012656685896217823\n"
          ]
        },
        {
          "output_type": "display_data",
          "data": {
            "text/plain": [
              "<Figure size 640x480 with 1 Axes>"
            ],
            "image/png": "[encoded data removed]"
          },
          "metadata": {}
        },
        {
          "output_type": "stream",
          "name": "stdout",
          "text": [
            "The for loop took 138.6327 seconds.\n"
          ]
        }
      ]
    }
  ]
}