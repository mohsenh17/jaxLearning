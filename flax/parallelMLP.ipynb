{
  "nbformat": 4,
  "nbformat_minor": 0,
  "metadata": {
    "colab": {
      "provenance": [],
      "authorship_tag": "ABX9TyNqXQhDRIJak6jVr9hio7Pz",
      "include_colab_link": true
    },
    "kernelspec": {
      "name": "python3",
      "display_name": "Python 3"
    },
    "language_info": {
      "name": "python"
    }
  },
  "cells": [
    {
      "cell_type": "markdown",
      "metadata": {
        "id": "view-in-github",
        "colab_type": "text"
      },
      "source": [
        "<a href=\"https://colab.research.google.com/github/mohsenh17/jaxLearning/blob/main/flax/parallelMLP.ipynb\" target=\"_parent\"><img src=\"https://colab.research.google.com/assets/colab-badge.svg\" alt=\"Open In Colab\"/></a>"
      ]
    },
    {
      "cell_type": "code",
      "execution_count": 1,
      "metadata": {
        "colab": {
          "base_uri": "https://localhost:8080/"
        },
        "id": "15V1aitKAWdW",
        "outputId": "33b94165-7135-44e3-c1ea-3366b1e820d0"
      },
      "outputs": [
        {
          "output_type": "stream",
          "name": "stdout",
          "text": [
            "Requirement already satisfied: flax in /usr/local/lib/python3.10/dist-packages (0.8.5)\n",
            "Collecting flax\n",
            "  Downloading flax-0.10.2-py3-none-any.whl.metadata (11 kB)\n",
            "Collecting orbax\n",
            "  Downloading orbax-0.1.9.tar.gz (1.6 kB)\n",
            "  Preparing metadata (setup.py) ... \u001b[?25l\u001b[?25hdone\n",
            "Requirement already satisfied: jax in /usr/local/lib/python3.10/dist-packages (0.4.33)\n",
            "Collecting jax\n",
            "  Downloading jax-0.4.35-py3-none-any.whl.metadata (22 kB)\n",
            "Collecting treescope\n",
            "  Downloading treescope-0.1.6-py3-none-any.whl.metadata (6.0 kB)\n",
            "Requirement already satisfied: msgpack in /usr/local/lib/python3.10/dist-packages (from flax) (1.1.0)\n",
            "Requirement already satisfied: optax in /usr/local/lib/python3.10/dist-packages (from flax) (0.2.4)\n",
            "Requirement already satisfied: orbax-checkpoint in /usr/local/lib/python3.10/dist-packages (from flax) (0.6.4)\n",
            "Requirement already satisfied: tensorstore in /usr/local/lib/python3.10/dist-packages (from flax) (0.1.68)\n",
            "Requirement already satisfied: rich>=11.1 in /usr/local/lib/python3.10/dist-packages (from flax) (13.9.4)\n",
            "Requirement already satisfied: typing-extensions>=4.2 in /usr/local/lib/python3.10/dist-packages (from flax) (4.12.2)\n",
            "Requirement already satisfied: PyYAML>=5.4.1 in /usr/local/lib/python3.10/dist-packages (from flax) (6.0.2)\n",
            "Collecting jaxlib<=0.4.35,>=0.4.34 (from jax)\n",
            "  Downloading jaxlib-0.4.35-cp310-cp310-manylinux2014_x86_64.whl.metadata (983 bytes)\n",
            "Requirement already satisfied: ml-dtypes>=0.4.0 in /usr/local/lib/python3.10/dist-packages (from jax) (0.4.1)\n",
            "Requirement already satisfied: numpy>=1.24 in /usr/local/lib/python3.10/dist-packages (from jax) (1.26.4)\n",
            "Requirement already satisfied: opt-einsum in /usr/local/lib/python3.10/dist-packages (from jax) (3.4.0)\n",
            "Requirement already satisfied: scipy>=1.10 in /usr/local/lib/python3.10/dist-packages (from jax) (1.13.1)\n",
            "Requirement already satisfied: absl-py in /usr/local/lib/python3.10/dist-packages (from orbax-checkpoint->flax) (1.4.0)\n",
            "Requirement already satisfied: etils[epath,epy] in /usr/local/lib/python3.10/dist-packages (from orbax-checkpoint->flax) (1.10.0)\n",
            "Requirement already satisfied: nest_asyncio in /usr/local/lib/python3.10/dist-packages (from orbax-checkpoint->flax) (1.6.0)\n",
            "Requirement already satisfied: protobuf in /usr/local/lib/python3.10/dist-packages (from orbax-checkpoint->flax) (4.25.5)\n",
            "Requirement already satisfied: humanize in /usr/local/lib/python3.10/dist-packages (from orbax-checkpoint->flax) (4.11.0)\n",
            "Requirement already satisfied: markdown-it-py>=2.2.0 in /usr/local/lib/python3.10/dist-packages (from rich>=11.1->flax) (3.0.0)\n",
            "Requirement already satisfied: pygments<3.0.0,>=2.13.0 in /usr/local/lib/python3.10/dist-packages (from rich>=11.1->flax) (2.18.0)\n",
            "Requirement already satisfied: chex>=0.1.87 in /usr/local/lib/python3.10/dist-packages (from optax->flax) (0.1.87)\n",
            "Requirement already satisfied: toolz>=0.9.0 in /usr/local/lib/python3.10/dist-packages (from chex>=0.1.87->optax->flax) (0.12.1)\n",
            "Requirement already satisfied: mdurl~=0.1 in /usr/local/lib/python3.10/dist-packages (from markdown-it-py>=2.2.0->rich>=11.1->flax) (0.1.2)\n",
            "Requirement already satisfied: fsspec in /usr/local/lib/python3.10/dist-packages (from etils[epath,epy]->orbax-checkpoint->flax) (2024.10.0)\n",
            "Requirement already satisfied: importlib_resources in /usr/local/lib/python3.10/dist-packages (from etils[epath,epy]->orbax-checkpoint->flax) (6.4.5)\n",
            "Requirement already satisfied: zipp in /usr/local/lib/python3.10/dist-packages (from etils[epath,epy]->orbax-checkpoint->flax) (3.21.0)\n",
            "Downloading flax-0.10.2-py3-none-any.whl (424 kB)\n",
            "\u001b[2K   \u001b[90m━━━━━━━━━━━━━━━━━━━━━━━━━━━━━━━━━━━━━━━━\u001b[0m \u001b[32m424.2/424.2 kB\u001b[0m \u001b[31m7.9 MB/s\u001b[0m eta \u001b[36m0:00:00\u001b[0m\n",
            "\u001b[?25hDownloading jax-0.4.35-py3-none-any.whl (2.2 MB)\n",
            "\u001b[2K   \u001b[90m━━━━━━━━━━━━━━━━━━━━━━━━━━━━━━━━━━━━━━━━\u001b[0m \u001b[32m2.2/2.2 MB\u001b[0m \u001b[31m27.5 MB/s\u001b[0m eta \u001b[36m0:00:00\u001b[0m\n",
            "\u001b[?25hDownloading treescope-0.1.6-py3-none-any.whl (174 kB)\n",
            "\u001b[2K   \u001b[90m━━━━━━━━━━━━━━━━━━━━━━━━━━━━━━━━━━━━━━━━\u001b[0m \u001b[32m174.8/174.8 kB\u001b[0m \u001b[31m8.5 MB/s\u001b[0m eta \u001b[36m0:00:00\u001b[0m\n",
            "\u001b[?25hDownloading jaxlib-0.4.35-cp310-cp310-manylinux2014_x86_64.whl (87.3 MB)\n",
            "\u001b[2K   \u001b[90m━━━━━━━━━━━━━━━━━━━━━━━━━━━━━━━━━━━━━━━━\u001b[0m \u001b[32m87.3/87.3 MB\u001b[0m \u001b[31m7.1 MB/s\u001b[0m eta \u001b[36m0:00:00\u001b[0m\n",
            "\u001b[?25hBuilding wheels for collected packages: orbax\n",
            "  Building wheel for orbax (setup.py) ... \u001b[?25l\u001b[?25hdone\n",
            "  Created wheel for orbax: filename=orbax-0.1.9-py3-none-any.whl size=1493 sha256=1650aefed1b55d3d18c5cc6ac23006d9bea9bc276602362dabf1bb01caf424a1\n",
            "  Stored in directory: /root/.cache/pip/wheels/14/7a/98/b955a4db98b54317c311ee32367994ca530721c62a87ec56a7\n",
            "Successfully built orbax\n",
            "Installing collected packages: treescope, jaxlib, jax, orbax, flax\n",
            "  Attempting uninstall: jaxlib\n",
            "    Found existing installation: jaxlib 0.4.33\n",
            "    Uninstalling jaxlib-0.4.33:\n",
            "      Successfully uninstalled jaxlib-0.4.33\n",
            "  Attempting uninstall: jax\n",
            "    Found existing installation: jax 0.4.33\n",
            "    Uninstalling jax-0.4.33:\n",
            "      Successfully uninstalled jax-0.4.33\n",
            "  Attempting uninstall: flax\n",
            "    Found existing installation: flax 0.8.5\n",
            "    Uninstalling flax-0.8.5:\n",
            "      Successfully uninstalled flax-0.8.5\n",
            "Successfully installed flax-0.10.2 jax-0.4.35 jaxlib-0.4.35 orbax-0.1.9 treescope-0.1.6\n"
          ]
        }
      ],
      "source": [
        "! pip install --upgrade flax orbax jax treescope"
      ]
    },
    {
      "cell_type": "code",
      "source": [
        "import os\n",
        "import jax\n",
        "import jax.numpy as jnp\n",
        "from jax.sharding import PartitionSpec as P, Mesh\n",
        "from jax.experimental.shard_map import shard_map\n",
        "from jax.experimental import mesh_utils\n",
        "\n",
        "import optax\n",
        "from flax import nnx\n",
        "import matplotlib.pyplot as plt\n",
        "\n",
        "from functools import partial\n",
        "import numpy as np"
      ],
      "metadata": {
        "id": "ZxaAm7ssAkxl"
      },
      "execution_count": 2,
      "outputs": []
    },
    {
      "cell_type": "code",
      "source": [
        "USE_CPU_ONLY = True\n",
        "\n",
        "flags = os.environ.get(\"XLA_FLAGS\", \"\")\n",
        "if USE_CPU_ONLY:\n",
        "    flags += \" --xla_force_host_platform_device_count=8\"  # Simulate 8 devices\n",
        "    # Enforce CPU-only execution\n",
        "    os.environ[\"CUDA_VISIBLE_DEVICES\"] = \"\"\n",
        "else:\n",
        "    # GPU flags\n",
        "    flags += (\n",
        "        \"--xla_gpu_enable_triton_softmax_fusion=true \"\n",
        "        \"--xla_gpu_triton_gemm_any=false \"\n",
        "        \"--xla_gpu_enable_async_collectives=true \"\n",
        "        \"--xla_gpu_enable_latency_hiding_scheduler=true \"\n",
        "        \"--xla_gpu_enable_highest_priority_async_stream=true \"\n",
        "    )\n",
        "os.environ[\"XLA_FLAGS\"] = flags\n",
        "\n",
        "print(f'You have 8 “fake” JAX devices now: {jax.devices()}')"
      ],
      "metadata": {
        "colab": {
          "base_uri": "https://localhost:8080/"
        },
        "id": "tF3hCgFaAoJs",
        "outputId": "445a3f2f-4a7e-4369-aef3-defb2cf91ddd"
      },
      "execution_count": 3,
      "outputs": [
        {
          "output_type": "stream",
          "name": "stdout",
          "text": [
            "You have 8 “fake” JAX devices now: [CpuDevice(id=0), CpuDevice(id=1), CpuDevice(id=2), CpuDevice(id=3), CpuDevice(id=4), CpuDevice(id=5), CpuDevice(id=6), CpuDevice(id=7)]\n"
          ]
        }
      ]
    },
    {
      "cell_type": "code",
      "source": [
        "from flax.nnx.nn import dtypes, initializers\n",
        "class MLP(nnx.Module):\n",
        "  def __init__(self, din, dmid, dout, *, rngs: nnx.Rngs):\n",
        "    self.linear1 = nnx.Linear(din, dmid,\n",
        "                              kernel_init=nnx.with_partitioning(initializers.lecun_normal(),(None, 'model')),\n",
        "                              bias_init=nnx.with_partitioning(initializers.zeros_init(),('model',)),\n",
        "                              #use_bias=False,\n",
        "                              rngs=rngs)\n",
        "    self.linear2 = nnx.Linear(dmid, dout,\n",
        "                              kernel_init=nnx.with_partitioning(initializers.lecun_normal(),(None, 'model')),\n",
        "                              bias_init=nnx.with_partitioning(initializers.zeros_init(),('model',)),\n",
        "                              #use_bias=False,\n",
        "                              rngs=rngs)\n",
        "  def __call__(self, x):\n",
        "    return self.linear2(nnx.relu(self.linear1(x)))\n",
        "# Instantiate the MLP model\n",
        "model = MLP(1, 64, 1, rngs=nnx.Rngs(0))\n"
      ],
      "metadata": {
        "id": "22dV3PrGAsjJ"
      },
      "execution_count": 53,
      "outputs": []
    },
    {
      "cell_type": "code",
      "source": [
        "mesh = Mesh(devices=np.array(jax.devices()).reshape(2, 4),\n",
        "            axis_names=('data', 'model'))\n",
        "print(mesh)"
      ],
      "metadata": {
        "colab": {
          "base_uri": "https://localhost:8080/"
        },
        "id": "XJ9DwlUVBkKj",
        "outputId": "26bf58a5-ca81-4746-9e22-2c33e5f4d084"
      },
      "execution_count": 51,
      "outputs": [
        {
          "output_type": "stream",
          "name": "stdout",
          "text": [
            "Mesh('data': 2, 'model': 4)\n"
          ]
        }
      ]
    },
    {
      "cell_type": "code",
      "source": [
        "@nnx.jit\n",
        "def create_sharded_model(model):\n",
        "  state = nnx.state(model)                   # The model's state, a pure pytree.\n",
        "  pspecs = nnx.get_partition_spec(state)     # Strip out the annotations from state.\n",
        "  #print(state)\n",
        "  sharded_state = jax.lax.with_sharding_constraint(state, pspecs)\n",
        "  nnx.update(model, sharded_state)           # The model is sharded now!\n",
        "  return model\n",
        "with mesh:\n",
        "  sharded_model = create_sharded_model(model)"
      ],
      "metadata": {
        "id": "2DAcw465Bnek"
      },
      "execution_count": 54,
      "outputs": []
    },
    {
      "cell_type": "code",
      "source": [
        "# Learning rate and momentum for the optimizer\n",
        "learning_rate = 0.005\n",
        "momentum = 0.9\n",
        "\n",
        "\n",
        "# Set up the optimizer using Adam with the specified learning rate\n",
        "optimizer = nnx.Optimizer(sharded_model, optax.adam(learning_rate))\n",
        "\n",
        "# Initialize metrics for tracking training performance\n",
        "metrics = nnx.MultiMetric(\n",
        "    loss=nnx.metrics.Average('loss'),  # Tracks the average loss\n",
        ")"
      ],
      "metadata": {
        "id": "dDU2yddxA07v"
      },
      "execution_count": 55,
      "outputs": []
    },
    {
      "cell_type": "code",
      "source": [
        "print(\"sharded_model.linear1.kernel (None, 'model') :\")\n",
        "jax.debug.visualize_array_sharding(sharded_model.linear1.kernel.value)"
      ],
      "metadata": {
        "colab": {
          "base_uri": "https://localhost:8080/",
          "height": 199
        },
        "id": "OteymbYMEOpo",
        "outputId": "3abb5cb0-f083-41a6-adea-e045ea701bac"
      },
      "execution_count": 56,
      "outputs": [
        {
          "output_type": "stream",
          "name": "stdout",
          "text": [
            "sharded_model.linear1.kernel (None, 'model') :\n"
          ]
        },
        {
          "output_type": "display_data",
          "data": {
            "text/plain": [
              "\u001b[38;2;255;255;255;48;2;57;59;121m                    \u001b[0m\u001b[38;2;255;255;255;48;2;222;158;214m                    \u001b[0m\u001b[38;2;255;255;255;48;2;173;73;74m                    \u001b[0m\u001b[38;2;0;0;0;48;2;181;207;107m                    \u001b[0m\n",
              "\u001b[38;2;255;255;255;48;2;57;59;121m                    \u001b[0m\u001b[38;2;255;255;255;48;2;222;158;214m                    \u001b[0m\u001b[38;2;255;255;255;48;2;173;73;74m                    \u001b[0m\u001b[38;2;0;0;0;48;2;181;207;107m                    \u001b[0m\n",
              "\u001b[38;2;255;255;255;48;2;57;59;121m                    \u001b[0m\u001b[38;2;255;255;255;48;2;222;158;214m                    \u001b[0m\u001b[38;2;255;255;255;48;2;173;73;74m                    \u001b[0m\u001b[38;2;0;0;0;48;2;181;207;107m                    \u001b[0m\n",
              "\u001b[38;2;255;255;255;48;2;57;59;121m                    \u001b[0m\u001b[38;2;255;255;255;48;2;222;158;214m                    \u001b[0m\u001b[38;2;255;255;255;48;2;173;73;74m                    \u001b[0m\u001b[38;2;0;0;0;48;2;181;207;107m                    \u001b[0m\n",
              "\u001b[38;2;255;255;255;48;2;57;59;121m                    \u001b[0m\u001b[38;2;255;255;255;48;2;222;158;214m                    \u001b[0m\u001b[38;2;255;255;255;48;2;173;73;74m                    \u001b[0m\u001b[38;2;0;0;0;48;2;181;207;107m                    \u001b[0m\n",
              "\u001b[38;2;255;255;255;48;2;57;59;121m                    \u001b[0m\u001b[38;2;255;255;255;48;2;222;158;214m                    \u001b[0m\u001b[38;2;255;255;255;48;2;173;73;74m                    \u001b[0m\u001b[38;2;0;0;0;48;2;181;207;107m                    \u001b[0m\n",
              "\u001b[38;2;255;255;255;48;2;57;59;121m                    \u001b[0m\u001b[38;2;255;255;255;48;2;222;158;214m                    \u001b[0m\u001b[38;2;255;255;255;48;2;173;73;74m                    \u001b[0m\u001b[38;2;0;0;0;48;2;181;207;107m                    \u001b[0m\n",
              "\u001b[38;2;255;255;255;48;2;57;59;121m                    \u001b[0m\u001b[38;2;255;255;255;48;2;222;158;214m                    \u001b[0m\u001b[38;2;255;255;255;48;2;173;73;74m                    \u001b[0m\u001b[38;2;0;0;0;48;2;181;207;107m                    \u001b[0m\n",
              "\u001b[38;2;255;255;255;48;2;57;59;121m                    \u001b[0m\u001b[38;2;255;255;255;48;2;222;158;214m                    \u001b[0m\u001b[38;2;255;255;255;48;2;173;73;74m                    \u001b[0m\u001b[38;2;0;0;0;48;2;181;207;107m                    \u001b[0m\n",
              "\u001b[38;2;255;255;255;48;2;57;59;121m                    \u001b[0m\u001b[38;2;255;255;255;48;2;222;158;214m                    \u001b[0m\u001b[38;2;255;255;255;48;2;173;73;74m                    \u001b[0m\u001b[38;2;0;0;0;48;2;181;207;107m                    \u001b[0m\n"
            ],
            "text/html": [
              "<pre style=\"white-space:pre;overflow-x:auto;line-height:normal;font-family:Menlo,'DejaVu Sans Mono',consolas,'Courier New',monospace\"><span style=\"color: #ffffff; text-decoration-color: #ffffff; background-color: #393b79\">                    </span><span style=\"color: #ffffff; text-decoration-color: #ffffff; background-color: #de9ed6\">                    </span><span style=\"color: #ffffff; text-decoration-color: #ffffff; background-color: #ad494a\">                    </span><span style=\"color: #000000; text-decoration-color: #000000; background-color: #b5cf6b\">                    </span>\n",
              "<span style=\"color: #ffffff; text-decoration-color: #ffffff; background-color: #393b79\">                    </span><span style=\"color: #ffffff; text-decoration-color: #ffffff; background-color: #de9ed6\">                    </span><span style=\"color: #ffffff; text-decoration-color: #ffffff; background-color: #ad494a\">                    </span><span style=\"color: #000000; text-decoration-color: #000000; background-color: #b5cf6b\">                    </span>\n",
              "<span style=\"color: #ffffff; text-decoration-color: #ffffff; background-color: #393b79\">                    </span><span style=\"color: #ffffff; text-decoration-color: #ffffff; background-color: #de9ed6\">                    </span><span style=\"color: #ffffff; text-decoration-color: #ffffff; background-color: #ad494a\">                    </span><span style=\"color: #000000; text-decoration-color: #000000; background-color: #b5cf6b\">                    </span>\n",
              "<span style=\"color: #ffffff; text-decoration-color: #ffffff; background-color: #393b79\">                    </span><span style=\"color: #ffffff; text-decoration-color: #ffffff; background-color: #de9ed6\">                    </span><span style=\"color: #ffffff; text-decoration-color: #ffffff; background-color: #ad494a\">                    </span><span style=\"color: #000000; text-decoration-color: #000000; background-color: #b5cf6b\">                    </span>\n",
              "<span style=\"color: #ffffff; text-decoration-color: #ffffff; background-color: #393b79\">                    </span><span style=\"color: #ffffff; text-decoration-color: #ffffff; background-color: #de9ed6\">                    </span><span style=\"color: #ffffff; text-decoration-color: #ffffff; background-color: #ad494a\">                    </span><span style=\"color: #000000; text-decoration-color: #000000; background-color: #b5cf6b\">                    </span>\n",
              "<span style=\"color: #ffffff; text-decoration-color: #ffffff; background-color: #393b79\">                    </span><span style=\"color: #ffffff; text-decoration-color: #ffffff; background-color: #de9ed6\">                    </span><span style=\"color: #ffffff; text-decoration-color: #ffffff; background-color: #ad494a\">                    </span><span style=\"color: #000000; text-decoration-color: #000000; background-color: #b5cf6b\">                    </span>\n",
              "<span style=\"color: #ffffff; text-decoration-color: #ffffff; background-color: #393b79\">                    </span><span style=\"color: #ffffff; text-decoration-color: #ffffff; background-color: #de9ed6\">                    </span><span style=\"color: #ffffff; text-decoration-color: #ffffff; background-color: #ad494a\">                    </span><span style=\"color: #000000; text-decoration-color: #000000; background-color: #b5cf6b\">                    </span>\n",
              "<span style=\"color: #ffffff; text-decoration-color: #ffffff; background-color: #393b79\">                    </span><span style=\"color: #ffffff; text-decoration-color: #ffffff; background-color: #de9ed6\">                    </span><span style=\"color: #ffffff; text-decoration-color: #ffffff; background-color: #ad494a\">                    </span><span style=\"color: #000000; text-decoration-color: #000000; background-color: #b5cf6b\">                    </span>\n",
              "<span style=\"color: #ffffff; text-decoration-color: #ffffff; background-color: #393b79\">                    </span><span style=\"color: #ffffff; text-decoration-color: #ffffff; background-color: #de9ed6\">                    </span><span style=\"color: #ffffff; text-decoration-color: #ffffff; background-color: #ad494a\">                    </span><span style=\"color: #000000; text-decoration-color: #000000; background-color: #b5cf6b\">                    </span>\n",
              "<span style=\"color: #ffffff; text-decoration-color: #ffffff; background-color: #393b79\">                    </span><span style=\"color: #ffffff; text-decoration-color: #ffffff; background-color: #de9ed6\">                    </span><span style=\"color: #ffffff; text-decoration-color: #ffffff; background-color: #ad494a\">                    </span><span style=\"color: #000000; text-decoration-color: #000000; background-color: #b5cf6b\">                    </span>\n",
              "</pre>\n"
            ]
          },
          "metadata": {}
        }
      ]
    },
    {
      "cell_type": "code",
      "source": [
        "@nnx.jit\n",
        "def train_step(model: MLP, optimizer: nnx.Optimizer, x, y):\n",
        "  def loss_fn(model: MLP):\n",
        "    y_pred = model(x)\n",
        "    return jnp.mean((y - y_pred) ** 2)\n",
        "\n",
        "  loss, grads = nnx.value_and_grad(loss_fn)(model)\n",
        "  optimizer.update(grads)\n",
        "  return loss\n",
        "\n",
        "\n",
        "def dataset(steps, batch_size):\n",
        "  for _ in range(steps):\n",
        "    x = np.random.uniform(-2, 2, size=(batch_size, 1))\n",
        "    y = 0.8 * x**2 + 0.1 + np.random.normal(0, 0.1, size=x.shape)\n",
        "    yield x, y\n",
        "\n",
        "\n",
        "for step, (x, y) in enumerate(dataset(1000, 16)):\n",
        "  # shard data\n",
        "  x, y = jax.device_put((x, y), jax.NamedSharding(mesh, jax.sharding.PartitionSpec('data')))\n",
        "  # train\n",
        "  loss = train_step(sharded_model, optimizer, x, y)\n",
        "\n",
        "  if step == 0:\n",
        "    print('data sharding')\n",
        "    jax.debug.visualize_array_sharding(jnp.array(x))\n",
        "\n",
        "  if step % 100 == 0:\n",
        "    print(f'step={step}, loss={loss}')\n",
        "\n",
        "# dereplicate state\n",
        "state = nnx.state((sharded_model, optimizer))\n",
        "state = jax.device_get(state)\n",
        "nnx.update((sharded_model, optimizer), state)\n",
        "\n",
        "X, Y = next(dataset(1, 1000))\n",
        "x_range = np.linspace(X.min(), X.max(), 100)[:, None]\n",
        "y_pred = sharded_model(x_range)\n",
        "\n",
        "# plot\n",
        "plt.scatter(X, Y, label='data')\n",
        "plt.plot(x_range, y_pred, color='black', label='sharded_model')\n",
        "plt.legend()\n",
        "plt.show()"
      ],
      "metadata": {
        "colab": {
          "base_uri": "https://localhost:8080/",
          "height": 822
        },
        "id": "L-wqezf8BAmK",
        "outputId": "2f2242eb-871d-4ac1-9813-830cf7a8c3de"
      },
      "execution_count": 57,
      "outputs": [
        {
          "output_type": "stream",
          "name": "stdout",
          "text": [
            "data sharding\n"
          ]
        },
        {
          "output_type": "display_data",
          "data": {
            "text/plain": [
              "\u001b[38;2;255;255;255;48;2;57;59;121m           \u001b[0m\n",
              "\u001b[38;2;255;255;255;48;2;57;59;121m           \u001b[0m\n",
              "\u001b[38;2;255;255;255;48;2;57;59;121mCPU 0,1,2,3\u001b[0m\n",
              "\u001b[38;2;255;255;255;48;2;57;59;121m           \u001b[0m\n",
              "\u001b[38;2;255;255;255;48;2;57;59;121m           \u001b[0m\n",
              "\u001b[38;2;255;255;255;48;2;57;59;121m           \u001b[0m\n",
              "\u001b[38;2;255;255;255;48;2;57;59;121m           \u001b[0m\n",
              "\u001b[38;2;255;255;255;48;2;57;59;121m           \u001b[0m\n",
              "\u001b[38;2;255;255;255;48;2;57;59;121mCPU 4,5,6,7\u001b[0m\n",
              "\u001b[38;2;255;255;255;48;2;57;59;121m           \u001b[0m\n",
              "\u001b[38;2;255;255;255;48;2;57;59;121m           \u001b[0m\n",
              "\u001b[38;2;255;255;255;48;2;57;59;121m           \u001b[0m\n"
            ],
            "text/html": [
              "<pre style=\"white-space:pre;overflow-x:auto;line-height:normal;font-family:Menlo,'DejaVu Sans Mono',consolas,'Courier New',monospace\"><span style=\"color: #ffffff; text-decoration-color: #ffffff; background-color: #393b79\">           </span>\n",
              "<span style=\"color: #ffffff; text-decoration-color: #ffffff; background-color: #393b79\">           </span>\n",
              "<span style=\"color: #ffffff; text-decoration-color: #ffffff; background-color: #393b79\">CPU 0,1,2,3</span>\n",
              "<span style=\"color: #ffffff; text-decoration-color: #ffffff; background-color: #393b79\">           </span>\n",
              "<span style=\"color: #ffffff; text-decoration-color: #ffffff; background-color: #393b79\">           </span>\n",
              "<span style=\"color: #ffffff; text-decoration-color: #ffffff; background-color: #393b79\">           </span>\n",
              "<span style=\"color: #ffffff; text-decoration-color: #ffffff; background-color: #393b79\">           </span>\n",
              "<span style=\"color: #ffffff; text-decoration-color: #ffffff; background-color: #393b79\">           </span>\n",
              "<span style=\"color: #ffffff; text-decoration-color: #ffffff; background-color: #393b79\">CPU 4,5,6,7</span>\n",
              "<span style=\"color: #ffffff; text-decoration-color: #ffffff; background-color: #393b79\">           </span>\n",
              "<span style=\"color: #ffffff; text-decoration-color: #ffffff; background-color: #393b79\">           </span>\n",
              "<span style=\"color: #ffffff; text-decoration-color: #ffffff; background-color: #393b79\">           </span>\n",
              "</pre>\n"
            ]
          },
          "metadata": {}
        },
        {
          "output_type": "stream",
          "name": "stdout",
          "text": [
            "step=0, loss=4.9042510986328125\n",
            "step=100, loss=0.06768321245908737\n",
            "step=200, loss=0.04404439404606819\n",
            "step=300, loss=0.027956079691648483\n",
            "step=400, loss=0.025344233959913254\n",
            "step=500, loss=0.011276581324636936\n",
            "step=600, loss=0.0075743477791547775\n",
            "step=700, loss=0.010263665579259396\n",
            "step=800, loss=0.00773665402084589\n",
            "step=900, loss=0.007701881695538759\n"
          ]
        },
        {
          "output_type": "display_data",
          "data": {
            "text/plain": [
              "<Figure size 640x480 with 1 Axes>"
            ],
            "image/png": "[encoded data removed]"
          },
          "metadata": {}
        }
      ]
    }
  ]
}