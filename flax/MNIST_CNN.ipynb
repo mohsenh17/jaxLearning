{
  "nbformat": 4,
  "nbformat_minor": 0,
  "metadata": {
    "colab": {
      "provenance": [],
      "authorship_tag": "ABX9TyP6+bqgPVsJGy4vtXwaofzt",
      "include_colab_link": true
    },
    "kernelspec": {
      "name": "python3",
      "display_name": "Python 3"
    },
    "language_info": {
      "name": "python"
    }
  },
  "cells": [
    {
      "cell_type": "markdown",
      "metadata": {
        "id": "view-in-github",
        "colab_type": "text"
      },
      "source": [
        "<a href=\"https://colab.research.google.com/github/mohsenh17/jaxLearning/blob/main/flax/MNIST_CNN.ipynb\" target=\"_parent\"><img src=\"https://colab.research.google.com/assets/colab-badge.svg\" alt=\"Open In Colab\"/></a>"
      ]
    },
    {
      "cell_type": "markdown",
      "source": [
        "# Train and test set (TensorFlow)"
      ],
      "metadata": {
        "id": "AQ-Ybb3IgJaY"
      }
    },
    {
      "cell_type": "code",
      "execution_count": 30,
      "metadata": {
        "id": "hVX_LVs1gDSs"
      },
      "outputs": [],
      "source": [
        "import tensorflow_datasets as tfds\n",
        "import tensorflow as tf\n",
        "\n",
        "from flax import nnx\n",
        "from functools import partial\n",
        "\n",
        "import jax.numpy as jnp\n"
      ]
    },
    {
      "cell_type": "code",
      "source": [
        "tf.random.set_seed(42)\n",
        "\n",
        "train_steps = 1400\n",
        "eval_every = 200\n",
        "batch_size = 32\n",
        "\n",
        "mnist_train: tf.data.Dataset = tfds.load('mnist', split='train')\n",
        "mnist_test: tf.data.Dataset = tfds.load('mnist', split='test')\n",
        "\n",
        "mnist_train = mnist_train.map(lambda sample: {'image': tf.cast(sample['image'], tf.float32) / 255., 'label': sample['label']})\n",
        "mnist_test = mnist_test.map(lambda sample: {'image': tf.cast(sample['image'], tf.float32) / 255., 'label': sample['label']})\n",
        "\n",
        "# the current setting won't cover all images -> (1875, 32)\n",
        "mnist_train = mnist_train.repeat().shuffle(1024)\n",
        "mnist_train = mnist_train.batch(batch_size, drop_remainder=True).take(train_steps).prefetch(1)\n",
        "\n",
        "mnist_test = mnist_test.batch(batch_size, drop_remainder=True).prefetch(1)\n",
        "\n",
        "\n",
        "\n",
        "\n"
      ],
      "metadata": {
        "id": "xtO6PIn2gWMP"
      },
      "execution_count": 22,
      "outputs": []
    },
    {
      "cell_type": "code",
      "source": [
        "class CNN(nnx.Module):\n",
        "  def __init__(self, *, num_classes: int, rngs:nnx.Rngs):\n",
        "    self.num_classes = num_classes\n",
        "    self.conv1 = nnx.Conv(in_features=1, out_features=32, kernel_size=(3, 3), rngs=rngs)\n",
        "    self.conv2 = nnx.Conv(in_features=32, out_features=64, kernel_size=(3, 3), rngs=rngs)\n",
        "    self.avg_pool = partial(nnx.avg_pool, window_shape=(2, 2), strides=(2, 2))\n",
        "    self.linear1 = nnx.Linear(3136, 256, rngs=rngs)\n",
        "    self.linear2 = nnx.Linear(256, num_classes, rngs=rngs)\n",
        "  def __call__(self, x):\n",
        "    x = self.avg_pool(nnx.gelu(self.conv1(x)))\n",
        "    x = self.avg_pool(nnx.gelu(self.conv2(x)))\n",
        "    x = x.reshape(x.shape[0], -1)  # flatten\n",
        "    x = nnx.gelu(self.linear1(x))\n",
        "    x = self.linear2(x)\n",
        "    return x\n",
        "\n",
        "# Instantiate the model.\n",
        "model = CNN(num_classes=10, rngs=nnx.Rngs(0))\n",
        "# Visualize it.\n",
        "nnx.display(model)"
      ],
      "metadata": {
        "colab": {
          "base_uri": "https://localhost:8080/"
        },
        "id": "PZLFYXLLovr0",
        "outputId": "4b769589-b8be-4eb6-e90d-4e332e758654"
      },
      "execution_count": 28,
      "outputs": [
        {
          "output_type": "stream",
          "name": "stdout",
          "text": [
            "CNN(\n",
            "  num_classes=10,\n",
            "  conv1=Conv(\n",
            "    kernel_shape=(3, 3, 1, 32),\n",
            "    kernel=Param(\n",
            "      value=Array(shape=(3, 3, 1, 32), dtype=float32)\n",
            "    ),\n",
            "    bias=Param(\n",
            "      value=Array(shape=(32,), dtype=float32)\n",
            "    ),\n",
            "    in_features=1,\n",
            "    out_features=32,\n",
            "    kernel_size=(3, 3),\n",
            "    strides=1,\n",
            "    padding='SAME',\n",
            "    input_dilation=1,\n",
            "    kernel_dilation=1,\n",
            "    feature_group_count=1,\n",
            "    use_bias=True,\n",
            "    mask=None,\n",
            "    dtype=None,\n",
            "    param_dtype=<class 'jax.numpy.float32'>,\n",
            "    precision=None,\n",
            "    kernel_init=<function variance_scaling.<locals>.init at 0x797f231a68c0>,\n",
            "    bias_init=<function zeros at 0x797f3e206b00>,\n",
            "    conv_general_dilated=<function conv_general_dilated at 0x797f3ea2b760>\n",
            "  ),\n",
            "  conv2=Conv(\n",
            "    kernel_shape=(3, 3, 32, 64),\n",
            "    kernel=Param(\n",
            "      value=Array(shape=(3, 3, 32, 64), dtype=float32)\n",
            "    ),\n",
            "    bias=Param(\n",
            "      value=Array(shape=(64,), dtype=float32)\n",
            "    ),\n",
            "    in_features=32,\n",
            "    out_features=64,\n",
            "    kernel_size=(3, 3),\n",
            "    strides=1,\n",
            "    padding='SAME',\n",
            "    input_dilation=1,\n",
            "    kernel_dilation=1,\n",
            "    feature_group_count=1,\n",
            "    use_bias=True,\n",
            "    mask=None,\n",
            "    dtype=None,\n",
            "    param_dtype=<class 'jax.numpy.float32'>,\n",
            "    precision=None,\n",
            "    kernel_init=<function variance_scaling.<locals>.init at 0x797f231a68c0>,\n",
            "    bias_init=<function zeros at 0x797f3e206b00>,\n",
            "    conv_general_dilated=<function conv_general_dilated at 0x797f3ea2b760>\n",
            "  ),\n",
            "  avg_pool=functools.partial(<function avg_pool at 0x797f234d95a0>, window_shape=(2, 2), strides=(2, 2)),\n",
            "  linear1=Linear(\n",
            "    kernel=Param(\n",
            "      value=Array(shape=(3136, 256), dtype=float32)\n",
            "    ),\n",
            "    bias=Param(\n",
            "      value=Array(shape=(256,), dtype=float32)\n",
            "    ),\n",
            "    in_features=3136,\n",
            "    out_features=256,\n",
            "    use_bias=True,\n",
            "    dtype=None,\n",
            "    param_dtype=<class 'jax.numpy.float32'>,\n",
            "    precision=None,\n",
            "    kernel_init=<function variance_scaling.<locals>.init at 0x797f231a68c0>,\n",
            "    bias_init=<function zeros at 0x797f3e206b00>,\n",
            "    dot_general=<function dot_general at 0x797f3e9ceef0>\n",
            "  ),\n",
            "  linear2=Linear(\n",
            "    kernel=Param(\n",
            "      value=Array(shape=(256, 10), dtype=float32)\n",
            "    ),\n",
            "    bias=Param(\n",
            "      value=Array(shape=(10,), dtype=float32)\n",
            "    ),\n",
            "    in_features=256,\n",
            "    out_features=10,\n",
            "    use_bias=True,\n",
            "    dtype=None,\n",
            "    param_dtype=<class 'jax.numpy.float32'>,\n",
            "    precision=None,\n",
            "    kernel_init=<function variance_scaling.<locals>.init at 0x797f231a68c0>,\n",
            "    bias_init=<function zeros at 0x797f3e206b00>,\n",
            "    dot_general=<function dot_general at 0x797f3e9ceef0>\n",
            "  )\n",
            ")\n"
          ]
        }
      ]
    },
    {
      "cell_type": "code",
      "source": [
        "y = model(jnp.ones((1, 28, 28, 1)))\n",
        "nnx.display(y)"
      ],
      "metadata": {
        "colab": {
          "base_uri": "https://localhost:8080/"
        },
        "id": "Fa_aDbNku8GX",
        "outputId": "6b649e2c-966d-4457-e63f-2b4d513cd9ed"
      },
      "execution_count": 31,
      "outputs": [
        {
          "output_type": "stream",
          "name": "stdout",
          "text": [
            "[[-0.0380987  -0.1663384   0.04239376 -0.1821506   0.05388633  0.03874649\n",
            "  -0.03934722  0.05054386  0.17043065 -0.06008959]]\n"
          ]
        }
      ]
    }
  ]
}