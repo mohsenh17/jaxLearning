{
  "nbformat": 4,
  "nbformat_minor": 0,
  "metadata": {
    "colab": {
      "provenance": [],
      "authorship_tag": "ABX9TyNbVxmDM86+BCVe3fM7O7+p",
      "include_colab_link": true
    },
    "kernelspec": {
      "name": "python3",
      "display_name": "Python 3"
    },
    "language_info": {
      "name": "python"
    }
  },
  "cells": [
    {
      "cell_type": "markdown",
      "metadata": {
        "id": "view-in-github",
        "colab_type": "text"
      },
      "source": [
        "<a href=\"https://colab.research.google.com/github/mohsenh17/jaxLearning/blob/main/flax/Model.ipynb\" target=\"_parent\"><img src=\"https://colab.research.google.com/assets/colab-badge.svg\" alt=\"Open In Colab\"/></a>"
      ]
    },
    {
      "cell_type": "code",
      "execution_count": 1,
      "metadata": {
        "colab": {
          "base_uri": "https://localhost:8080/"
        },
        "id": "UUAfhJeb-vgD",
        "outputId": "719beb08-33d9-4dd0-ccef-d426272e4364",
        "collapsed": true
      },
      "outputs": [
        {
          "output_type": "stream",
          "name": "stdout",
          "text": [
            "Requirement already satisfied: flax in /usr/local/lib/python3.10/dist-packages (0.10.2)\n",
            "Requirement already satisfied: orbax in /usr/local/lib/python3.10/dist-packages (0.1.9)\n",
            "Requirement already satisfied: jax in /usr/local/lib/python3.10/dist-packages (0.4.35)\n",
            "Requirement already satisfied: treescope in /usr/local/lib/python3.10/dist-packages (0.1.6)\n",
            "Requirement already satisfied: msgpack in /usr/local/lib/python3.10/dist-packages (from flax) (1.1.0)\n",
            "Requirement already satisfied: optax in /usr/local/lib/python3.10/dist-packages (from flax) (0.2.4)\n",
            "Requirement already satisfied: orbax-checkpoint in /usr/local/lib/python3.10/dist-packages (from flax) (0.6.4)\n",
            "Requirement already satisfied: tensorstore in /usr/local/lib/python3.10/dist-packages (from flax) (0.1.68)\n",
            "Requirement already satisfied: rich>=11.1 in /usr/local/lib/python3.10/dist-packages (from flax) (13.9.4)\n",
            "Requirement already satisfied: typing-extensions>=4.2 in /usr/local/lib/python3.10/dist-packages (from flax) (4.12.2)\n",
            "Requirement already satisfied: PyYAML>=5.4.1 in /usr/local/lib/python3.10/dist-packages (from flax) (6.0.2)\n",
            "Requirement already satisfied: jaxlib<=0.4.35,>=0.4.34 in /usr/local/lib/python3.10/dist-packages (from jax) (0.4.35)\n",
            "Requirement already satisfied: ml-dtypes>=0.4.0 in /usr/local/lib/python3.10/dist-packages (from jax) (0.4.1)\n",
            "Requirement already satisfied: numpy>=1.24 in /usr/local/lib/python3.10/dist-packages (from jax) (1.26.4)\n",
            "Requirement already satisfied: opt-einsum in /usr/local/lib/python3.10/dist-packages (from jax) (3.4.0)\n",
            "Requirement already satisfied: scipy>=1.10 in /usr/local/lib/python3.10/dist-packages (from jax) (1.13.1)\n",
            "Requirement already satisfied: absl-py in /usr/local/lib/python3.10/dist-packages (from orbax-checkpoint->flax) (1.4.0)\n",
            "Requirement already satisfied: etils[epath,epy] in /usr/local/lib/python3.10/dist-packages (from orbax-checkpoint->flax) (1.10.0)\n",
            "Requirement already satisfied: nest_asyncio in /usr/local/lib/python3.10/dist-packages (from orbax-checkpoint->flax) (1.6.0)\n",
            "Requirement already satisfied: protobuf in /usr/local/lib/python3.10/dist-packages (from orbax-checkpoint->flax) (4.25.5)\n",
            "Requirement already satisfied: humanize in /usr/local/lib/python3.10/dist-packages (from orbax-checkpoint->flax) (4.11.0)\n",
            "Requirement already satisfied: markdown-it-py>=2.2.0 in /usr/local/lib/python3.10/dist-packages (from rich>=11.1->flax) (3.0.0)\n",
            "Requirement already satisfied: pygments<3.0.0,>=2.13.0 in /usr/local/lib/python3.10/dist-packages (from rich>=11.1->flax) (2.18.0)\n",
            "Requirement already satisfied: chex>=0.1.87 in /usr/local/lib/python3.10/dist-packages (from optax->flax) (0.1.87)\n",
            "Requirement already satisfied: toolz>=0.9.0 in /usr/local/lib/python3.10/dist-packages (from chex>=0.1.87->optax->flax) (0.12.1)\n",
            "Requirement already satisfied: mdurl~=0.1 in /usr/local/lib/python3.10/dist-packages (from markdown-it-py>=2.2.0->rich>=11.1->flax) (0.1.2)\n",
            "Requirement already satisfied: fsspec in /usr/local/lib/python3.10/dist-packages (from etils[epath,epy]->orbax-checkpoint->flax) (2024.10.0)\n",
            "Requirement already satisfied: importlib_resources in /usr/local/lib/python3.10/dist-packages (from etils[epath,epy]->orbax-checkpoint->flax) (6.4.5)\n",
            "Requirement already satisfied: zipp in /usr/local/lib/python3.10/dist-packages (from etils[epath,epy]->orbax-checkpoint->flax) (3.21.0)\n"
          ]
        }
      ],
      "source": [
        "! pip install --upgrade flax orbax jax treescope"
      ]
    },
    {
      "cell_type": "code",
      "source": [
        "import os\n",
        "import pandas as pd\n",
        "import torch\n",
        "from torch.utils.data import Dataset\n",
        "from torch.utils.data import DataLoader\n",
        "import numpy as np\n",
        "\n",
        "from flax import nnx\n",
        "import jax\n",
        "import jax.numpy as jnp\n",
        "\n",
        "\n",
        "from sklearn.preprocessing import MinMaxScaler\n",
        "\n",
        "import orbax.checkpoint as ocp\n",
        "\n",
        "import pandas as pd\n",
        "from sklearn.datasets import make_classification\n",
        "from sklearn.model_selection import train_test_split\n",
        "\n",
        "\n",
        "import torch\n",
        "from torch.utils.data import Dataset\n",
        "from torch.utils.data import DataLoader\n",
        "\n",
        "import io\n",
        "\n"
      ],
      "metadata": {
        "id": "JFO7NNqQ_Dtc"
      },
      "execution_count": 2,
      "outputs": []
    },
    {
      "cell_type": "markdown",
      "source": [
        "# Dataset Class for Custom  Data\n",
        "This section defines a CustomDataset class, which inherits from torch.utils.data.Dataset. It is designed to load and preprocess data from a CSV file for machine learning tasks.\n",
        "\n",
        "python\n",
        "Copy code\n"
      ],
      "metadata": {
        "id": "UJReXJOQliDH"
      }
    },
    {
      "cell_type": "code",
      "source": [
        "class CustomDataset(Dataset):\n",
        "    # Initialize the dataset by loading, scaling, and organizing features and labels\n",
        "    def __init__(self, dataset, transform=None, target_transform=None):\n",
        "        # Load the CSV file into a DataFrame, using the first column as the index\n",
        "        completeDF = pd.read_csv(dataset, index_col=0)\n",
        "\n",
        "        # Extract the 'Class' column as labels\n",
        "        self.labels = pd.DataFrame(completeDF['Class'])\n",
        "\n",
        "        # Extract all other columns as features, excluding 'Class'\n",
        "        features_raw = pd.DataFrame(completeDF.drop('Class', axis=1))\n",
        "\n",
        "        # Scale the feature values to the range [0, 1] using Min-Max Scaling\n",
        "        scaler = MinMaxScaler()\n",
        "        self.features = pd.DataFrame(scaler.fit_transform(features_raw))\n",
        "\n",
        "        # Assign optional transformations for features and labels\n",
        "        self.transform = transform\n",
        "        self.target_transform = target_transform\n",
        "\n",
        "    # Return the total number of data samples in the dataset\n",
        "    def __len__(self):\n",
        "        return len(self.labels)\n",
        "\n",
        "    # Retrieve a specific sample by index and apply transformations if needed\n",
        "    def __getitem__(self, idx):\n",
        "        # Extract feature values as a NumPy array for the given index\n",
        "        features = np.array(self.features.iloc[idx, :])\n",
        "\n",
        "        # Extract the corresponding label for the given index\n",
        "        label = self.labels.iloc[idx, 0]\n",
        "\n",
        "        # Apply transformation to the features, if provided\n",
        "        if self.transform:\n",
        "            features = self.transform(features)\n",
        "\n",
        "        # Apply transformation to the label, if provided\n",
        "        if self.target_transform:\n",
        "            label = self.target_transform(label)\n",
        "\n",
        "        # Return the processed features and label\n",
        "        return features, label\n"
      ],
      "metadata": {
        "id": "ZBPFELboo4e1"
      },
      "execution_count": 3,
      "outputs": []
    },
    {
      "cell_type": "code",
      "source": [
        "import kagglehub\n",
        "path = kagglehub.dataset_download(\"mssmartypants/rice-type-classification\")\n",
        "print(path)"
      ],
      "metadata": {
        "colab": {
          "base_uri": "https://localhost:8080/"
        },
        "id": "tWv5r05xBvNk",
        "outputId": "8e501d50-b355-4b6b-9bc7-a9f91041fb6d"
      },
      "execution_count": 4,
      "outputs": [
        {
          "output_type": "stream",
          "name": "stdout",
          "text": [
            "/root/.cache/kagglehub/datasets/mssmartypants/rice-type-classification/versions/2\n"
          ]
        }
      ]
    },
    {
      "cell_type": "code",
      "source": [
        "! ls /root/.cache/kagglehub/datasets/mssmartypants/rice-type-classification/versions/2/\n",
        "! mv /root/.cache/kagglehub/datasets/mssmartypants/rice-type-classification/versions/2/riceClassification.csv riceClassification.csv"
      ],
      "metadata": {
        "colab": {
          "base_uri": "https://localhost:8080/"
        },
        "id": "pXec3_GJByPc",
        "outputId": "fca7e7b1-2225-4076-ab5a-38988cd6b633"
      },
      "execution_count": 5,
      "outputs": [
        {
          "output_type": "stream",
          "name": "stdout",
          "text": [
            "mv: cannot stat '/root/.cache/kagglehub/datasets/mssmartypants/rice-type-classification/versions/2/riceClassification.csv': No such file or directory\n"
          ]
        }
      ]
    },
    {
      "cell_type": "code",
      "source": [
        "dataset = CustomDataset(dataset=\"riceClassification.csv\")\n",
        "train_set, val_set, test_set = torch.utils.data.random_split(dataset, [.9, 0.05,0.05])\n",
        "data_loader = DataLoader(train_set, batch_size=4, shuffle=True)\n",
        "\n",
        "for features, labels in data_loader:\n",
        "    print(\"Batch of features has shape: \",features.shape)\n",
        "    print(\"Batch of labels has shape: \", labels.shape)\n",
        "    print(features)\n",
        "    print(labels)\n",
        "    break"
      ],
      "metadata": {
        "colab": {
          "base_uri": "https://localhost:8080/"
        },
        "id": "4s3fFrv-otNR",
        "outputId": "1b19a6e9-16ad-4384-e434-cba9e880e000"
      },
      "execution_count": 6,
      "outputs": [
        {
          "output_type": "stream",
          "name": "stdout",
          "text": [
            "Batch of features has shape:  torch.Size([4, 10])\n",
            "Batch of labels has shape:  torch.Size([4])\n",
            "tensor([[0.7227, 0.7519, 0.6698, 0.7848, 0.6703, 0.7803, 0.4570, 0.5472, 0.7905,\n",
            "         0.3856],\n",
            "        [0.6951, 0.7011, 0.6827, 0.7515, 0.6480, 0.7569, 0.7587, 0.5097, 0.8304,\n",
            "         0.3448],\n",
            "        [0.8252, 0.7812, 0.7760, 0.7451, 0.7741, 0.8645, 0.4369, 0.5966, 0.8019,\n",
            "         0.3376],\n",
            "        [0.7967, 0.7569, 0.7604, 0.7402, 0.7485, 0.8415, 0.3559, 0.5847, 0.7961,\n",
            "         0.3322]], dtype=torch.float64)\n",
            "tensor([0, 0, 0, 0])\n"
          ]
        }
      ]
    },
    {
      "cell_type": "markdown",
      "source": [
        "# MLP Implementation\n",
        "This section implements a customizable MLP model with dropout and batch normalization at each layer. The architecture is parameterized by input dimensions, hidden dimensions, and the number of classes"
      ],
      "metadata": {
        "id": "ZpJhAZGomiBl"
      }
    },
    {
      "cell_type": "code",
      "source": [
        "class MLP(nnx.Module):\n",
        "    def __init__(self, din, dm1, dm2, dm3, num_classes: int,*, rngs: nnx.Rngs):\n",
        "        # Define dropout, linear, and batch normalization layers for each stage\n",
        "        init_fn = nnx.initializers.lecun_normal()\n",
        "\n",
        "        self.dp1 = nnx.Dropout(rate=0.4, rngs=rngs)\n",
        "        self.linear1 = nnx.Linear(din, dm1,kernel_init=nnx.with_partitioning(init_fn, (None, 'model')), rngs=rngs)\n",
        "        self.bn1 = nnx.BatchNorm(dm1, rngs=rngs)\n",
        "\n",
        "        self.dp2 = nnx.Dropout(rate=0.2, rngs=rngs)\n",
        "        self.linear2 = nnx.Linear(dm1, dm2, rngs=rngs)\n",
        "        self.bn2 = nnx.BatchNorm(dm2, rngs=rngs)\n",
        "\n",
        "        self.dp3 = nnx.Dropout(rate=0.1, rngs=rngs)\n",
        "        self.linear3 = nnx.Linear(dm2, dm3, rngs=rngs)\n",
        "        self.bn3 = nnx.BatchNorm(dm3, rngs=rngs)\n",
        "\n",
        "        # Output layer without batch normalization\n",
        "        self.linear4 = nnx.Linear(dm3, num_classes, rngs=rngs)\n",
        "\n",
        "    def __call__(self, x):\n",
        "        # Apply dropout, linear transformation, activation, and batch normalization for each layer\n",
        "        x = self.dp1(x)\n",
        "        x = self.linear1(x)\n",
        "        x = nnx.gelu(x)\n",
        "        x = self.bn1(x)\n",
        "\n",
        "        x = self.dp2(x)\n",
        "        x = self.linear2(x)\n",
        "        x = nnx.gelu(x)\n",
        "        x = self.bn2(x)\n",
        "\n",
        "        x = self.dp3(x)\n",
        "        x = self.linear3(x)\n",
        "        x = nnx.gelu(x)\n",
        "        x = self.bn3(x)\n",
        "\n",
        "        # Final linear transformation\n",
        "        x = self.linear4(x)\n",
        "\n",
        "        # Sigmoid activation for binary classification (uncomment if needed)\n",
        "        # return nnx.sigmoid(x)\n",
        "        return x\n",
        "# Instantiate the model with given dimensions\n",
        "model = MLP(din=10, dm1=16, dm2=32, dm3=16, num_classes=1, rngs=nnx.Rngs(0))\n",
        "\n",
        "# Test the model with a sample input tensor of shape (3, 10)\n",
        "y = model(x=jnp.ones((3, 10)))\n",
        "\n",
        "# Display the model architecture and output\n",
        "nnx.display(model)\n",
        "nnx.display(y)\n",
        "\n",
        "# Output the predictions\n",
        "print(y)\n"
      ],
      "metadata": {
        "colab": {
          "base_uri": "https://localhost:8080/",
          "height": 362
        },
        "id": "2C2PTOR3_Abz",
        "outputId": "b0b72e4f-59ba-4bd9-f736-cbe6be8eea60",
        "collapsed": true
      },
      "execution_count": 7,
      "outputs": [
        {
          "output_type": "display_data",
          "data": {
            "text/plain": [
              "<IPython.core.display.HTML object>"
            ],
            "text/html": [
              "<script> (()=>{ if (customElements.get('treescope-container') === undefined) { class TreescopeContainer extends HTMLElement { constructor() { super(); this.attachShadow({mode: \"open\"}); this.defns = {}; this.state = {}; } } customElements.define(\"treescope-container\", TreescopeContainer); } if (customElements.get('treescope-run-here') === undefined) { class RunHere extends HTMLElement { constructor() { super() } connectedCallback() { const run = child => { const fn = new Function(child.textContent); child.textContent = \"\"; fn.call(this); this.remove(); }; const child = this.querySelector(\"script\"); if (child) { run(child); } else { new MutationObserver(()=>{ run(this.querySelector(\"script\")); }).observe(this, {childList: true}); } } } customElements.define(\"treescope-run-here\", RunHere); } })(); </script> <treescope-container class=\"treescope_out_3f1b13a3f7df4f9e84a5b92eb515da3c\" ></treescope-container> <treescope-run-here><script type=\"application/octet-stream\"> const root = ( Array.from(document.getElementsByClassName( \"treescope_out_3f1b13a3f7df4f9e84a5b92eb515da3c\")) .filter((elt) => !elt.dataset.setup) )[0]; root.dataset.setup = 1; const msg = document.createElement(\"span\"); msg.style = \"color: #cccccc; font-family: monospace;\"; msg.textContent = \"(Loading...)\"; root.state.loadingMsg = msg; root.shadowRoot.appendChild(msg); root.state.chain = new Promise((resolve, reject) => { const observer = new IntersectionObserver((entries) => { for (const entry of entries) { if (entry.isIntersecting) { resolve(); observer.disconnect(); return; } } }, {rootMargin: \"1000px\"}); window.setTimeout(() => { observer.observe(root); }, 0); }); root.state.deferring = false; const _insertNode = (node) => { for (let oldScript of node.querySelectorAll(\"script\")) { let newScript = document.createElement(\"script\"); newScript.type = oldScript.type; newScript.textContent = oldScript.textContent; oldScript.parentNode.replaceChild(newScript, oldScript); } if (root.state.loadingMsg) { root.state.loadingMsg.remove(); root.state.loadingMsg = null; } root.shadowRoot.appendChild(node); }; root.defns.insertContent = ((contentNode, compressed) => { if (compressed) { root.state.deferring = true; } if (root.state.deferring) { root.state.chain = (async () => { await root.state.chain; if (compressed) { const encoded = contentNode.textContent; const blob = new Blob([ Uint8Array.from(atob(encoded), (m) => m.codePointAt(0)) ]); const reader = blob.stream().pipeThrough( new DecompressionStream(\"deflate\") ).pipeThrough( new TextDecoderStream(\"utf-8\") ).getReader(); const parts = []; while (true) { const step = await reader.read(); if (step.done) { break; } parts.push(step.value); } const tpl = document.createElement('template'); tpl.innerHTML = parts.join(\"\"); _insertNode(tpl.content); } else { _insertNode(contentNode.content); } })(); } else { _insertNode(contentNode.content); } }); </script></treescope-run-here><div style=\"display:none\"> <script type=\"application/octet-stream\" >eNrtPQt3mziXf4XPPWfjbBsHgXilk5510rymj5k2nenM7H7HKyRh09jgAs6je/rfVwJsg+2AncQGHNoz0wQuoPvQfUn36hc/uOvTN63Ao9TH7pB2PNcNhP8Thq5vB7brHAge7aPAvqavBct1gj0LDez+3YEwcB3XHyLMrt/07IDuhb8cCEOPXenbfrAXvnovuBuyq47rsMsmwlddzx05ZA+7fdc7iB59LcS/mX0GwN5nk6B3IFh2wMCcgDrBa2GICLGd7l6fWsGBIOEe/4hD93rU7vbYFdBS+GucANlszJPH4h/2rm3fNu2+HbCRo1HgTmD3bCfwbMe38Z5v/6DR3Xi4P3/Zj8jzy4Q8e97IYd/02DUfe/YwEDh+hztoOOzbGHGK7bs4oBx7j6LBzptmc/fwDSMo+54fCIRaji8cCkHP9ltdGnxm1P7oEtrcbfVcP2iF9xlqNBA6Q+pwlNuYv5U/9N//XnTnHDmkT9ltZ9Tvv46+0GLDvHRdh11t3rje1a6QHIP7lV3it1KXAxvzi0PqWa43QA6mLce9ae6G/GUfaM7dEfaih34RZGmXvce2hObMqFt96nSDnnB4KIgcJHPoHg1GnsPoLtC+T6cD640cPrLZV/s92wr4+EIA/sNP9veeLzSZVDnEvWl59PuI+kHbsQchu049NKDNiCa7/B2v5z40HPm9iIyvF+A4/sRhhEYGlsuPgY8iYmTgdrv9aFZ2wpnDpHXI38Wv0H7wSqDXTMBjTvLRhb+3rugdJ3rDa/ABxcAt3Ee+/55Nzvi9zcbknZ0BE8PG+OM/dxk9mfiHMv7ml/1FE4DY10L4wsNGWn00hACZDFN6e9gQG2zqesE8iOuwITJiOOxW1mRYTIEmf2aMe4NNxkiNmW4QuAOuGA4cN2i2LLdPkMmedthrD3rIb77pI5P236TvdKJvhM8c4B7FV5Ts7gr/yUk3VjyBOzwQxBZQ6GBe9fBrP/ZClNnvrxdqz5+tUMt1kGl69DqU7lDpvVB1CYniFAC7gwFDKwGBwj+cNTMgKBpyz72m3u4C+DR456ZHnQ69HTKBpOTJKHTfVxl/2aQhCQiR/bGsKYQzGpjUSwIYOlDUKYDPdXM3+Q0ZKECZAFDS4ayYAsQWZN7QXCOvubdn9l18FV1ikm6y0VEv4iwY3gq+27dJFmQkXnnAP7ngUo8PbsiGQ3uMkCkskcb/xvY0lNwDwQ4QMyD84RTd77HETBAWsYdBE9tnH70bW9xZQOGNELL34MCkTJknKPcCh38Wy25kdfcAN7uxdWYCO/mW7YQTIiRDxjdDMZ3/MkHelU9RlykIZ/7pJxLTyRj4o4sfGsOnRhi6DwfCzv9Iiol3ihxe+qF7B6luYJCcj/zDI8/nDBy6zImi3oLv2v7TfTacCuGH9kK1798n40/z1Sl6Ab0N5r/Ssv2OZXt+0HGdSAnNT62sqdSSFD6bFrJKePTwI47PDpFjNUBel7m90TDCCf3zkV9jqnh4Z46YanQWKqDp7UVC2xAaM1CMkCyWWAz8PxRA0pgJRXY+ICYVNuoLl3cD0+37wm+jgONLhOPoSfbv8I5NjL0bal6xsCLSvAPmUvSYfWFOvxOwx23kUzIJRl5Qkf99PS/m0dNhtCC2DG7701hG82MBFovV3fTJ1g3yO5jZAUbYyfPIClLWY6yns74580z6k0nSxwaMoADtIYcxNvRHd5OX+Ue4k+0hZyzN4WsF4AuUUYy5PXvuKFgNlckIGGNsSv6VHkn4SeFf9mDoegFy5t5teu4V82T4lakyyqdu4rEEPcds/tnq4V4njGI7fHYkfL9osoitaMYm4DzuASYAvcgjnEByj5ChSjqYhVDEo06MfDpIZaNMAz6ZazaZjLFpTk1+jPq4ySJpFsYxhyb0/Ft+gPjzk/GubSSxRxWNhDC/iokJd6sS7Pg+Qn2HBUadoUct+5a9JDXx9HDisSgQcU/rBnkO40BnbCrG3LUshIG8AHDIwqg5xoX6MCZSfGkvZubUpTwI3X/k7XU9RGzGtqYAZIXQ7ivBZZOkSwWRDU/FvVfRpGHxD1dB4SUhJvPcWOZ09dMYAmFO5e9NhHOW1/fJ5izcxPWOeMhmdxpk49IrtiDu7S4z1s2IcxQahKNaGCCkQsoQD8aTfo9xqwkYOslH4vf6DIru8tRATIPpo3vLPzv+7jiMCZ+cvHJ8dS++vEFqTgOxkIJ7fF6N/BhBQAcMu/sRW+BDrezB5In4/6VixYi/XFstEStmA/9ssTeuJV8xZfJjUhZhxoANto+GzDfKjy9XJ/39X4iiyvAbqcTFPTBPMY5Fn4gRTQN0XC+RjltElvvBn4bVr4SZpH0rncoTlhzwLJUnrOiw59gQgkc/tlF8lxx+iqnZjFzmq0uRaBlaLvOxPKSeYtWCJ5KFf7U9D921LM8dNImLRzyH2OI+mN+6Rv0R9Zu7uy3fHdBm6JnxFDT/txXFZTz9vGRk1thhfsruJOHv9ygN+KoAvRGOLy8vOTaX/BrP8Yc3Wx4NU2uXdw5u/u9/xdEgpmMfcfXIMJmLc/gqRz++dhOrTMhTtL6HD4SR12/yMOWA39+/cS1Lem2yQEiFr4honH3oto/a4Z+LT+22G/509PmG/f/8tN0+aWf9ORq0290r9x25ODk6vvm73f7y9/Gv7Q8XR8ft0+7txfn7XuAffbBpVz59+5f0/kL9+/pyOLJ//6B8Ab/+dfH5zw/XXz/8CH6/Oz09fvm1e/XFPnor9uy3n0a/npCzb+K5uW9dX5Dh93dq7/tX2/40+uCc9c6tP4L2H+rRRw+2Ty+cqxMV/zEaOS8/K9+xf3VzbZ3297/fdk9cvWv+enOmg/P2vtP+rLz3vF/B55fdH+JnIrZ/tUD3o3Z8c/ZN6oru3eizpg1OgHpz/pfxW7c7pF+u7iC9MH8o2PR+OwtQu/vp4uPNW+Tf+Z9GFxd/fT05vWn//ml48Tf5Y3//ZVf7ov0lB6L17vfv7WuFvfN9+6PW/nDTHnR/fL58Ofrnkp78dStZKv7xEX4+v1NGR+13P46+DU+Hsn3+6fhE/Gf0O7zUHOvo/cn56YdB236pX59IPQf0tJfmnzd/fbs5967fnv1x7HyzTk66wcvf8D/9vqYYx7/eHOk9A374cHYpn/3T7g4ulG9Hn4zgyxk9N06Oji7O5Ldd+Hn/b3xnts8YT/98t9/+dIba9MNxv33+4+S37j9BVz36vfvbbxdvj67sTwo9Pfrr+OgU2+Kw57lDh8nG8J+Tt+AHuLq0jq2gd/fOOSfo1D+3xI+Ds5OP6hFpf//zzyEK/Mt/BoQg25CsHwb8w/72XR0OPPU39+/jS9s7G1z/eiZffr2UT08kfPTJ+vLyvO8Oz+Cpf6Og7ndVt/+hlx/7w6/O0fkFJR88Ovr6/ex4AL6eeleXl7eKpH796t+02Yh2hXCFL2juhGK9wz2U/2X/m8x+RNwhC9WmUzJcl2y1WhkQr6I5+2/2ruyVnl64UBbG51HqgL2biYeDhWYUwaeXMdkU/OLy6cvA4gifX/OZeuCv4CkLHuejG2QHgoOu7S4KXK/F3jw0XeSR1o1nB/QLvQ2a03dxBy5613StjHlUzUYin8FXydhXvtgD6o6C5ngZde45jw7cazr36M9XgiSKYui4MuXLgoRmmJlb/N1E0qIxHRzPSY41GF9YbAgvhFNk95liC1yBA/8r1GzMuXdYGM20sc1oRhHhOZeXSdrFK345a308fyOE6vGwkfJhDwT3qo97LILRdIU7m6IsyJLW0iAEUFQlRdhn3iZDdpHzzlcRGvHL45XE9MrBbFDMgCOn4RfbGY5iM9YI3QTTvW0sfEnsUbCbkTfBMAwfTn83tZwU++RCOiE0M9K04W+8+Y9+wKnIILLhUjdnchzsbvyG6J8P739vTq7EmCcfnwvh03FLIwN6DpQMweFqfIYtRRNlkMdjkMnj7Wep1Ue3Lcfh/7FA08XM9w1s3Epz+i2zCVyZZHB7Z5rK3BFc55hrlMOdFVVquHC+uyNM8qyHjRbjfGPK9Mkd5j7xWzxtPpsgZrdC5cGMU4/9HFNgRnjXJqkec+oO51kdLyc33ogtGA/h1TzbJgFC441wL2/HUVNjYwxocaQyuBDefzgrlmTMHKmZ9UEEM4HtEHvgHzZ3K0TR9NizaJuG3DyVCWVRysB2bK4YFkl2vJWi8eYU9X1aPeFOIZjFiRTg5hnhOd2QhjTcuLWIE9GOFGYaXtxK2msSae3olwrqnBS6mdonBVkIY/wUO3bml1B2Fr53Q87Gml0Hhn/fNmd8hs+MKM1Newp8KH6OqPhP4zPMrZ42su5zNWqhUT8oWE5KJR+XYT6vGCFpxfzIE5YxXDFCw0xrLTBTgXlH74qVFr5zeVmJ4bDFSE2Y/47lxiaHjcmOT9XQiaJQU7UogRLUTU2TFQvohmEAExnazHsX7RRtvPnGmBTm3gWGIGe85d39Rzd43dxNo1AtVyPFtmgFYRVGR0+sw/WYZW6Auku4ftHIUq5fFqVflZobDOWVeMHgn4oT0T+72cqvO1V+6xD9xqJdROw1L4TPdEgR35w0vAt6riO45jcBBYJ4q+nYMDWARSKLC762hfpy+QmEGedqNyxhVY85QQq2qyFTlpaUELpktpVCw9QlIGqqSKAuGTqmhJqAWDoxmXFVVrStI9sJZGlbbGrIsBWtauKZ2q6uiSOrWNbJE8Xa1qck92MsK1KLtawb1ZhbwjisQoposS7R+hMO28MsXQbFMGt9KcRcu5RaGJ6WDAszdR2N1VlaUU9iLau/D031R8UVq+5FYG5hSzOgqmmaDGWtsC0J1dmKENF5JlZ5H14sZBdCzPf7ZDG+Xb7dCFfUc2j/cIui2Gvk2Xwk86Hs78jb9GpCzPdWROYc6Yihio9bMxmQThib2ERE0Sm2TIgRNCAxRShbkiaLlozNFYNaq+8iHtUC8ZUA1N18ZTy/pXzhMHVNkmSsUIpY7G0ZEMkS0aCum0QXDYWg9evTRfvfFlODT4d7KbJZq505BTc0Z7KTAotgn2b+pHqPMNIxb/RP22dax/4RvlHo2YTNIMF2hGk5A69zeJC0bi1JV06z8FiAl4Ct2yQVaQdaYySX5MEYvBjLkLWj66PrVGxD1z2k/W/x3ysygz2xibRjbsqR65x+9RKO91EVrMwH8O+nToVsg0BvTLUsL8oD6vcOl9QmVZRhjt+SZOeg27QEvSUB1IM3mtvIr2PoNYsAJ3KeAHCYKsXPpmIhWUOyKGENapZkslBaRVCWdYVqOpQeGj+rr54ueCYKsKAIsWoCGSJCTWpgDVuKQkSkqVCrQPDMyJEXOT/pgkahcTOfA8uFeFPIOmYuCTmfr4Vfv3p/qHW3nY5FUTDyqJ9VuAfEahI+gV4e/ROgm2eDOwqW44NaTT4k8ctjRBJ285wY+bQz7/LOBHNfvFFFU0Nj9PKYMIYroOQy9KO2MzEX4pZH+hBo83Qf8uins4D6m1iBX9wIvZHJuRcL2TsX+HGXmanP4d042os956zuDVmjeIIUc9RoPvLowxtClOOcDjUeY3Q56f6URZIT0pInzwnQtfiO1VQFxRJwBbXgUWz799Rcb4FKnuCXy4Ux4OZ5EKX+OrZjB4c56sQaOWEhuBCmuRxMO3xjle10W/xu32W/+FyftPjLUrt6iQhlMaFqKplEDWm0XCY1BF1bbuAtMz68mR2jcLilzFAlwbWE/ZHv7Ydc2O/b5n609VNuAXGf8IOZhkwKUJf6+zxbue84t/vJbOXw7ilyuQvEqFoW/v7umY1lXAEnFH3eVP4H9fyZFDC75Pol8QwmUzkc1HSuEklm45LEMroFEwFbJtux2RmoqKtMQCYq+x3fw2wS7qfk5b5JuAUuySaZ9+Do0A06XepQD/W3LkrhK1QxcALNsmmjxNCSOglRA5il1EmJAeeG3lPQjeklIELwIM3EXQQuMqtopEptPdg04+rylFKVBTzYyXVWLVEBstSSgaxDqa5RWbJGJerEHa99zjjRR7x17kcGUEi1CmP/fSLJbpWvSmVAkfM89teEcnHJaN7ctEC0OJEzpCK8X6W9NVSGUEIWILpEoWTqpqVZKhF12USabMwVfRSyt0a1JFGUCMQyNiCCkkEtjfmJkBKFisRA9d6acuytGct/9kaQNFS9p6ZgMj6/vTTrV+MPdTiZxasN+Jo5zwaVxXh2u0rmG1EINCRaIu9EqFkWItBQRFVSTQ3KliqWwXyzwAioVIMapCbEimZAXZZNi4iijkRsyLX5Lo/5ZuKfb3YmQLXxLpSIz9N0r1OBP9Rwh/mcurZljVwPKZzF9xCgUl0hiCFRSzUVC5pQUTRdMommK0DVZdWQVLkUVS0WM9QSUYmOmHthEqRDAxoaEVUsS1CGtekuj+kOJ0C+3UmA1ea7cEI+TxO+bmVeV6iW1IpnFQyM71fJhosaUCWKZR0SBC1d0QEEIoC6qRILqhiUwYaLpohlZACkyTI0gYyQjE0RyZICoGnMpQhqG16gDc8vo0xD1Ra8YDI+T/u9XjX+UOvtjAZbWfrIKZrELYvySbhiSh69kRP2J0bX1ENdum1HHXIiL0AziycLwDfPGnRrZ06KPVA9PnCcsgjP72+e0gOXm9HRIPv4WsOo4KJpjFnmwmkMs3m606Fv9xdXl000P90TlerRPcYsi+wxSF1k/VQ0z6ynnADUxdV1cXUZi6u5gC5RFzwDVhdVF0y4Z99cZOwu5wWYxTUV4V9esNq7NZTPTc1PgIpJz9dFx3XR8dpyWpk1qymgutj4WTHtUfuCapWVobJYcFg6jcXHlFJYWBRh6RTWVLZyV9I3q7I0UKusMrDtManiDp/GW5jWmeCWlzcOgQqiPddbt50u07JDf1t5kMQxlxdJ4GJCPgv5QWfcCWvZ0K8SPRLGMV0Kw7wAMAVc90loVLsg/cG5/6G0Yn8E2FI0UQZS3Rchty+CH7i4x6aZjWc85reeO3RHQSEtERjH7z9IVipfSwQPBTR7HVaq2km+UosjlcGF8H4ByTnPRQRzu0DsgX/Y3K0QRdNjz6JtGrIAlUsD6g1YXMAVw7btreEETiGYxYkU4OYZ4TndkIY0TBkc5h5ARyKtnTqCrko6J4VupvZJQRbCmHTQtMNPb2MAN8gLt2AN7eHOwvdWe68/w3t+m/9nRozmpj0EPhQ/R0QK2uXPEEGjflCwfAghGCWlkpPLwKObLgkZC0Mr5kue0IzhihEeZlprxTIVmHf0rlhpaTGGLCsxHLb4wqL0qXaigQ2daJRACC1dNTSRqIplQAtYMkSrtu5gCIaLGN4dz3Y0dyuZ4VjEtuxCjvuf2MRhrQHqLuH6RSOr3unDC2nLUF6JFwx+m85wbcwo/VD/sde8ED7TIWWRNxGipS7BNb+ljkXAIpHFBV/bQn25/ATCjHNBbVWnVvWYE6RguxoyZWlJCaFLZltlUSVQJsDQNQixIpsiRbIEoahRaokr99YY2Q6vQ90SmxoybEWrmnimtqtr4sgqlnXyRLG29Umrrh9hWZFarGXdqMbcEsZhFVJEi3WJ1p9w2B5m6TIohlnrSyXW+w9Ksfr70FR/dDDEqnsQJMB+M6Cq1Uc0LLkVIaLzTKzyPrxYyC6EmO/Z54WUcDdCdFxg3WBqvWIRn8qYIx0xVKUaRkIgG4oKKFQVCHTRMAiSNGAaRLJUC5KHN5sSZOnp+k1RmYgAySowKGDBt6TLlsW8KFU3EDKMOX+knP2mOEW2v+VUei5kpwQWwdbtp0pE0ufXimqzCr9uKllim59VMJ6EqZK9x7ppicBApqVRqKuaoTPzCWRmRy0DEPTQBtGy9ITNJSULSEhXEUBQgoqhIlMTqURN0ySQKqZVfmPPyfF8LH1+Z8R5yNrKl4Scz9fCr1+9P9S6285W9pwcEzWBXh79E6CbZ4M7CpbigyxVkw9J/PIYkYStOxM9MSPyuhPNwtUd+Z6S+plNuVJAdWe+ujNfGTvzjYV0iSZzC0DrDn0lIeAKasGj2PbvqRHbApU8wS+XC2PAzfMgSv0t6MOU0QRo3N0gbHZnO90Wvxv2s/G5Pgl7GiWaBAGkUg0kmwRVMoma2ZhmAejGmgrJQFtrV6G6C2HdhbBEyY6l5mHdjbCcmapNMe/BEaIbdLrUoR7qb12kwlepYuAEmmXTRomhJXUSogYwS6mTEgPODb+noBvTS0CED2s6yMSF/7eSRqpEjUFRjKu31JZqK+ODnVxn1W21QJZaMpB1KNX7apfcV+u43mCy/jnjRB+hAPc+MoBCdtgy9t/faa6EO2sHFDnPY49NKBeXjOabPrxVanEiZ0hFeL9K+2s0QxEhISLCOuB7V3QEMTIUIomyTCFEZdhfI1NVhcCwdF01oU5EU5PYAA2qA02xVKzU+2vKcnhrJP95p44moep9NQWT8Tke3rpuNf5Qh5NZvNqAr5nzbFBZjGe3q2S+FUkyICZAxcCECqDIhNRCmqhQWTd0AspgvkVqAqKYBOkyhECHuqpiydRNCWKFqADV5rs85puJf77ZmQDVxrtQIj5P071OBf6oI47q+pY1cj3nSL4YoEqmGwFRVixTJJZuQGpaiFLFgiqSMSLsd1KKyFvXNVVUiQR1EWLVMqkiSthAkqzLuqKatekuj+kOJ0C+3UmA1ea7cEI+TxO+bmVeV6mW1IpnH2lcvepUS1GQomqqbmk6FJGGLEINaCKoa5YmaUoZbDjCOiTMtdBVRYPEBCbQlDDDL+mibJh19rxENjy/lDINVVvwgsn4PO33etX4Q623MxpsZfkjp2gStyzKJ+GKKXv0Rk7YUxFdUw916bYdz8SJvADNLJ4sAC/mTNWsSbEHqscHjlMW4fn9zVN64HIzOhpkH7lnGBVcNI0xy1w4jWE2T3c69O3+4gqzSQMCuicq1aN7jFkW2WOQutD6qWieWVM5AagLrOsC6zIWWHMBXaI2eAasLqwumHDPvsHI2F3OCzCLayzCv7xgtXdrKJ+bmp8AFZOer4uO66LjteW0MmtWU0B1sfGzYtqj9gXVKitDZbHgsHQai48ppbCwKMLSKaypbOWupG9WZWmgVlllYNtjUsUdPo23MK0zwS0vbxwCFUR7rrduO12mZYf+tvIgiWMuL5LAxYR8FvKDzrgb1rKhXyV6JIxjuhSGeQFgCrjuk9CodkH6g3P/Q3nF/giwpWiiDKS6L0JuXwQ/cHGPTTMbz3jMbz136I6CQloiMI7ff/idXL6WCB4KaPY6LKja6YNyiyOVwYXwfgHJOc9FBHO7QOyBf9jcrRBF02PPom0asgCVSwPqDVhcwBXDtu2t4QROIZjFiRTg5hnhOd2QhjRMGSxxTnektVPndFdJ56TQzdQ+KchCGJMOmnZmDvsd2sOdhe+t9l5/hvf8Nv/PjBjNTXsIOecVy488r/gxGcD4JOuC5UMIwSgplZxcBh7ddEnIWBjyTyKXn+gk8scIDzOttWKZCsw7elestLQYQ5aVGA5bfGFR+tQ4JIqaJmpIpiKUsIksE1uGTDBVTdUEeMXaIYZguIjh3fFsR3O3ooerz7Mtu5Dj/ifW4XrMMjdA3SVcv2hkKdevEqnBhbRlKK/ECwb/tAnCYutqGjNKP9R/7DUvhM90SFnkTYRoqUtwzW/TRURTA1gksrjga1uoL5efQJhxLqit6tSqHnOCFGxXQ6YsLSkhdMlsqyVrmkF1ncpIg0DVTRlhpLK7mm6pFoAr2taR7fA61C2xqSHDVrSqiWdqu7omjqxiWSdPFGtbn7Tq+hGWFanFWtaNaswtYRxWIUW0WJdo/QmH7WGWLoNimLW+VGK9/6AUq78PTfVHB0OsugdBAuw3A6pafUTDklsRIjrPxCrvw4uF7EKI+Z59XkgJdyNERwbWDabWKxbxyYw50hFDVanZFCUyURVADAMw9aVIpmwpLJbVDRlBxSSPaDYlAPXp+k2ZlmZohoIJtAyIkGnIBlaAxseuQxUaleg3xSmy/S2n0nMhOyWwCLZuP1Uikj6/VlSbVfh1U8kS2/ysgvEkTJXsvSmaWJEkirFJoKhQxEy+SAkzr9TAumU+0N4D9SkbREtItAzmhEAiQcUwTKIhXcaIatA0oWSV39hzcjwfS5/fGXEesrbyJSHn87Xw61fvD7XutrOVPSfHRE2gl0f/BOjm2eCOgqX4ANRq8iGJXx4jkrB1Z6InZkRed6JZuLoj31NSP7MpVwqo7sxXd+YrY2e+sZAu0WRuAWjdoa8kBFxBLXgU2/49NWJboJIn+OVyYQy4eR5Eqb8FfZgymgCNuxuEze5sp9vid8N+Nj7XJ2FPo0STIIBUqoFkk6BKJlEzG9MsAN1YUyEZaGvtKlR3Iay7EJYo2bHUPKy7EZYzU7Up5j04QnSDTpc61EP9rYtU+CpVDJxAs2zaKDG0pE5C1ABmKXVSYsC54fcUdGN6CYjwYU0Hmbjw/1bSSJWoMSiKcfWW2lJtZXywk+usuq0WyFJLBrIOpXpf7ZL7ah3XG0zWP2ec6CMU4N5HBlDIDlvG/vs7zZVwZ+2AIud57LEJ5eKS0XzTh7fKLU7kDKkI71dpf40sE0WmVKYSBVDVsS4rSIdAg8hAWMJyGfbXWFSRINGAiiGCiqIbUFEhVSiBbPCQ1PtrSnN4ayT/eaeOJqHqfTUFk/E5Ht66bjX+UIeTWbzagK+Z82xQWYxnt6tkviXJ0kwkSbokMZNINNMCoqJjAGULmooOymC+JQNDbBALW8xss38QEVVRxRq1ZF3SZbU23+Ux30z8883OBKg23oUS8Xma7nUq8EcdcVTXt6yR6zlH8sUAVTLdoiUpEBoSD72hinXTsFgcLhMJiBRBzSiF6eaBt6VJoiIBKCHZhAgRWZFFCmXFVHBtustjusMJkG93EmC1+S6ckM/ThK9bmddVqiW14tlHGlevOpVaEGACTKoQEHajsExVVwwRQUuiIiFlsOFE10yomRKEogI1nSIqypZq6QaSESYKqG14eWx4fillGqq24AWT8Xna7/Wq8Ydab2c02MryR07RJG5ZlE/CFVP26I2csKciuqYe6tJtO56JE3kBmlk8WQBezJmqWZNiD1SPDxynLMLz+5un9MDlZnQ0yD5yzzAquGgaY5a5cBrDbJ7udOjb/cUVZhPNT/dEpXp0jzHLInsMUhdaPxXNM2sqJwB1gXVdYF3GAmsuoEvUBs+A1YXVBRPu2TcYGbvLeQFmcY1F+JcXrPZuDeVzU/MToGLS83XRcV10vLacVmbNagqoLjZ+Vkx71L6gWmVlqCwWHJZOY/ExpRQWFkVYOoU1la3clfTNqiwN1CqrDGx7TKq4w6fxFqZ1Jrjl5Y1DoIJoz/XWbafLtOzQ31YeJHHM5UUSuJiQz0J+0Bl3w1o29KtEj4RxTJfCMC8ATAHXfRIa1S5If9zRY7A+euxZHj0Gs/t1wProsWd5DAlc6iQaWMGjx9gPBkGKiWRZhBJWDcuSqQiRbhKZyPQRtZYCeLrtnoYEMRAVoFJDhYpomZBqigUloEMEsKJXYrsnI8hzOY4ErnBKFqwPHisrSZ/rsSSbUvd1SUeJLX7+WRCwJKUdKVOJdY0iCg1s6RhipLIfTMOEUDWJKBHy4N5Hc8Ub1emVCJc+zQmubf/8luvL9U+WNR/jVM3jg+DyxzjBihzjVE02LH+KE6xPcVonI5Y7xQnWpzithfpLHNoC603G9Sbjsp/iBJc/hAjWm41LSMD6FKcJcZc7xQnWpzhVISO1xAEksD7Fqd5QXW+oXm+uY6l5WG+sLmeialPMq09xqk9x2lTgvexhQLA+xelZM64suxOrxKS17QmrAjMmkMS+fvP/9teWBA==</script> <treescope-run-here><script type=\"application/octet-stream\"> const root = ( Array.from(document.getElementsByClassName( \"treescope_out_3f1b13a3f7df4f9e84a5b92eb515da3c\")) .filter((elt) => !elt.dataset['step0']) )[0]; root.dataset['step0'] = 1; root.defns.insertContent( this.parentNode.querySelector('script[type=\"application/octet-stream\"]'), true ); this.parentNode.remove(); </script></treescope-run-here> </div>"
            ]
          },
          "metadata": {}
        },
        {
          "output_type": "display_data",
          "data": {
            "text/plain": [
              "<IPython.core.display.HTML object>"
            ],
            "text/html": [
              "<div style=\"display:none\"> <script type=\"application/octet-stream\" >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</script> <treescope-run-here><script type=\"application/octet-stream\"> const root = ( Array.from(document.getElementsByClassName( \"treescope_out_3f1b13a3f7df4f9e84a5b92eb515da3c\")) .filter((elt) => !elt.dataset['step1']) )[0]; root.dataset['step1'] = 1; root.defns.insertContent( this.parentNode.querySelector('script[type=\"application/octet-stream\"]'), true ); this.parentNode.remove(); </script></treescope-run-here> </div>"
            ]
          },
          "metadata": {}
        },
        {
          "output_type": "display_data",
          "data": {
            "text/plain": [
              "<IPython.core.display.HTML object>"
            ],
            "text/html": [
              "<script> (()=>{ if (customElements.get('treescope-container') === undefined) { class TreescopeContainer extends HTMLElement { constructor() { super(); this.attachShadow({mode: \"open\"}); this.defns = {}; this.state = {}; } } customElements.define(\"treescope-container\", TreescopeContainer); } if (customElements.get('treescope-run-here') === undefined) { class RunHere extends HTMLElement { constructor() { super() } connectedCallback() { const run = child => { const fn = new Function(child.textContent); child.textContent = \"\"; fn.call(this); this.remove(); }; const child = this.querySelector(\"script\"); if (child) { run(child); } else { new MutationObserver(()=>{ run(this.querySelector(\"script\")); }).observe(this, {childList: true}); } } } customElements.define(\"treescope-run-here\", RunHere); } })(); </script> <treescope-container class=\"treescope_out_88c6d8adc01a4d4a87ee1c8a9993cf9e\" ></treescope-container> <treescope-run-here><script type=\"application/octet-stream\"> const root = ( Array.from(document.getElementsByClassName( \"treescope_out_88c6d8adc01a4d4a87ee1c8a9993cf9e\")) .filter((elt) => !elt.dataset.setup) )[0]; root.dataset.setup = 1; const msg = document.createElement(\"span\"); msg.style = \"color: #cccccc; font-family: monospace;\"; msg.textContent = \"(Loading...)\"; root.state.loadingMsg = msg; root.shadowRoot.appendChild(msg); root.state.chain = new Promise((resolve, reject) => { const observer = new IntersectionObserver((entries) => { for (const entry of entries) { if (entry.isIntersecting) { resolve(); observer.disconnect(); return; } } }, {rootMargin: \"1000px\"}); window.setTimeout(() => { observer.observe(root); }, 0); }); root.state.deferring = false; const _insertNode = (node) => { for (let oldScript of node.querySelectorAll(\"script\")) { let newScript = document.createElement(\"script\"); newScript.type = oldScript.type; newScript.textContent = oldScript.textContent; oldScript.parentNode.replaceChild(newScript, oldScript); } if (root.state.loadingMsg) { root.state.loadingMsg.remove(); root.state.loadingMsg = null; } root.shadowRoot.appendChild(node); }; root.defns.insertContent = ((contentNode, compressed) => { if (compressed) { root.state.deferring = true; } if (root.state.deferring) { root.state.chain = (async () => { await root.state.chain; if (compressed) { const encoded = contentNode.textContent; const blob = new Blob([ Uint8Array.from(atob(encoded), (m) => m.codePointAt(0)) ]); const reader = blob.stream().pipeThrough( new DecompressionStream(\"deflate\") ).pipeThrough( new TextDecoderStream(\"utf-8\") ).getReader(); const parts = []; while (true) { const step = await reader.read(); if (step.done) { break; } parts.push(step.value); } const tpl = document.createElement('template'); tpl.innerHTML = parts.join(\"\"); _insertNode(tpl.content); } else { _insertNode(contentNode.content); } })(); } else { _insertNode(contentNode.content); } }); </script></treescope-run-here><div style=\"display:none\"> <script type=\"application/octet-stream\" >eNrFVlFv4zYM/iuCD7jaw9lNnKTtOYmBvgx7GPawAdvDNgSyTcdaFcmT5Da5of99lOw0deLkOqzYnAfHFMnvI0VSWmiz45BGRgHoXNawUlIa8heppWaGSZEQBZwa9ghzUkphwpJuGN8lZCOF1DXNUf5UMQOh+0hIrVDCmTahcx2aXY1SIQWKM5o/rJVsRBHmkkuVtKZz0n1lHBXQHytMlZCSGVQTBoSZk5oWBRPrkENpEhLnlQUREFbA1hVKxtHMuhGGMuT8Ytb9CR+ZZhnjzCBz2hj5ohsyYRQTmuWhZl+gXe3oPi+u2/QsXtITqkYgpkKZzhWrDbHxLa9oXXOWU5uxa5kbsNEroJur1PeDZYoJRTxtSAGl0GRJTMV0tAbzI2b7B1mAH0SV1CZy6xgaGLKqQdiQ73Pr1Rr9+vvQyndUFBxwWTScz1uECGn+JKVAqf8k1UNAXnOQv6DILvXEhuVWWIMqpdpQkUMk5JMfuP1FAP9khYSt0YJM4gD9sJL4R6wjDmJtKrJckpFVuUhdgWmUwLwT4BoOxKpGWGbHrnXFSmP5OQX75xl/ZxB8rCpRyKdIwZ8NaHMv2MZt17eKbsBvcxJYH/MToLrRVZvG+UCMe4hlG8aFKN/OwbJoN9LI9Zq3XblynYPVWltfVgLcfCLwiAXe7aRl576jB9jZpHvKs4Q65SjnVOvvsTk7v7734nO1wTL09uDPAeYTy9/VeLq4HmqAgj0S53Dp9ceHRwzNMFLYLr2Rh62rzKmKFEgRkyFw6VIzDGfAtzb72D1sxnaMuTmyyuVmg3JXQG6ufKDusbEdqdBESOMnlXwEFQzoWw6gFBSrGmcTVJIXoF47vrW/bjQ6EglhhuIssMYlqtMMyQuM6sxQRUo9tVUbL2oXTCPobj88jxVJSjjNgCdJBtiX8IpV7p75IF47QMOxnaDdoB3ND1hMuLGacWkn8VlMl7BT5IKqBw10jXstTq1dro9EFdV+6nymg3lo9yevIH+AIgjIN8GBgzUdNtrr9xi6kyAhV7/Fsyy/+j/p9Y3Okrz5D0jafbTAjdJ2A2uJ5yGoAVym3w/WtYIDCl0H63M1/j6oh/AMbM0pSsT0qmRKm5UUK1v+A611qZWieGa7aXCryL+m3+74MUUb1YaqNd5gWhquoZ+jpwoETjfOaa2h+PoU+ceELiC0s8NhOCXY1nj0ndV5Dx5DEF2grcLhzBxKRf9QivqHIbng4ThU0TuehxXfAnbWz/GNFG/bYn/69ml63SIrlt7L6XUXT8a3MLnLSjqdxuPibgSfb2bxDGafY5iNCq/vcejU89I/6Da6V4ruSMklNZPYn3wi4wA5oWl69Doh2AttkCQdw+14RGGUj6bTcQnZ9KaA25vpJJ7Eo7syPiLZP5mOGwSV22paMFE33T3dc/WTya036KQrNVxsywyDccb47nx9PUkfuZmfSdTHtZkPJ+tczvbl7b1lw7vF3gXHSwn5QH5musE7yRd32SQVKwrA1AtyqDRbgmeo4TUv/RuY0Afs</script> <treescope-run-here><script type=\"application/octet-stream\"> const root = ( Array.from(document.getElementsByClassName( \"treescope_out_88c6d8adc01a4d4a87ee1c8a9993cf9e\")) .filter((elt) => !elt.dataset['step0']) )[0]; root.dataset['step0'] = 1; root.defns.insertContent( this.parentNode.querySelector('script[type=\"application/octet-stream\"]'), true ); this.parentNode.remove(); </script></treescope-run-here> </div>"
            ]
          },
          "metadata": {}
        },
        {
          "output_type": "display_data",
          "data": {
            "text/plain": [
              "<IPython.core.display.HTML object>"
            ],
            "text/html": [
              "<div style=\"display:none\"> <script type=\"application/octet-stream\" >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</script> <treescope-run-here><script type=\"application/octet-stream\"> const root = ( Array.from(document.getElementsByClassName( \"treescope_out_88c6d8adc01a4d4a87ee1c8a9993cf9e\")) .filter((elt) => !elt.dataset['step1']) )[0]; root.dataset['step1'] = 1; root.defns.insertContent( this.parentNode.querySelector('script[type=\"application/octet-stream\"]'), true ); this.parentNode.remove(); </script></treescope-run-here> </div>"
            ]
          },
          "metadata": {}
        },
        {
          "output_type": "stream",
          "name": "stdout",
          "text": [
            "[[-0.46538347]\n",
            " [-0.11259228]\n",
            " [ 0.57797575]]\n"
          ]
        }
      ]
    },
    {
      "cell_type": "markdown",
      "source": [
        "# Custom Metrics"
      ],
      "metadata": {
        "id": "1Mxqo-0MoVSI"
      }
    },
    {
      "cell_type": "code",
      "source": [
        "\n",
        "class CustomMetrics(nnx.metrics.Metric):\n",
        "    def __init__(self):\n",
        "        # Initialize counters for true positives, false positives, and false negatives\n",
        "        self.true_positives = nnx.metrics.MetricState(jnp.array(0, dtype=jnp.int32))\n",
        "        self.false_positives = nnx.metrics.MetricState(jnp.array(0, dtype=jnp.int32))\n",
        "        self.false_negatives = nnx.metrics.MetricState(jnp.array(0, dtype=jnp.int32))\n",
        "\n",
        "    def update(self, loss, logits, labels):\n",
        "        \"\"\"\n",
        "        Update the metric counters based on the predictions and labels.\n",
        "        Assumes logits are probabilities (e.g., from a sigmoid activation).\n",
        "        \"\"\"\n",
        "        # Convert logits to binary predictions\n",
        "        predictions = jnp.where(jnp.array(logits) > 0.5, 1, 0)\n",
        "\n",
        "        predictions = predictions.ravel()\n",
        "        labels = jnp.array(labels).ravel()\n",
        "\n",
        "\n",
        "        # Compute metrics\n",
        "        tp = jnp.sum((labels == 1) & (predictions == 1))\n",
        "        fp = jnp.sum((labels == 0) & (predictions == 1))\n",
        "        fn = jnp.sum((labels == 1) & (predictions == 0))\n",
        "\n",
        "        # Update counters\n",
        "        self.true_positives += tp\n",
        "        self.false_positives += fp\n",
        "        self.false_negatives += fn\n",
        "\n",
        "    def compute(self):\n",
        "        \"\"\"\n",
        "        Compute precision, recall, and F1-score from the accumulated counters.\n",
        "        \"\"\"\n",
        "        precision = self.true_positives / (self.true_positives + self.false_positives + 1e-7)\n",
        "        recall = self.true_positives / (self.true_positives + self.false_negatives + 1e-7)\n",
        "        f1_score = 2 * (precision * recall) / (precision + recall + 1e-7)\n",
        "        return {\"f1_score\": f1_score, \"precision\": precision, \"recall\": recall}\n",
        "\n",
        "    def reset(self):\n",
        "        \"\"\"\n",
        "        Reset the metric counters.\n",
        "        \"\"\"\n",
        "        self.true_positives = nnx.metrics.MetricState(jnp.array(0, dtype=jnp.int32))\n",
        "        self.false_positives = nnx.metrics.MetricState(jnp.array(0, dtype=jnp.int32))\n",
        "        self.false_negatives = nnx.metrics.MetricState(jnp.array(0, dtype=jnp.int32))\n"
      ],
      "metadata": {
        "id": "mLuplI5goY_D"
      },
      "execution_count": 8,
      "outputs": []
    },
    {
      "cell_type": "code",
      "source": [
        "class CustomAccuracy(nnx.metrics.Metric):\n",
        "    def __init__(self):\n",
        "        self.correct_count= nnx.metrics.MetricState(jnp.array(0, dtype=jnp.int32))\n",
        "        self.total_count= nnx.metrics.MetricState(jnp.array(0, dtype=jnp.int32))\n",
        "\n",
        "    def update(self, loss, logits, labels):\n",
        "        # Convert logits to binary predictions (0 or 1) based on a 0.5 threshold\n",
        "        predictions = jnp.where(jnp.array(logits) > 0.5, 1, 0)\n",
        "        # Flatten if necessary\n",
        "        predictions = predictions.ravel()\n",
        "        labels = jnp.array(labels).ravel()\n",
        "\n",
        "        # Calculate number of correct predictions in the current batch\n",
        "        self.correct_count += jnp.sum(predictions == labels)\n",
        "        self.total_count += len(labels)\n",
        "\n",
        "    def compute(self):\n",
        "        # Calculate accuracy over all batches seen so far\n",
        "        if self.total_count == 0:\n",
        "            return 0  # Avoid division by zero if no samples are seen\n",
        "        return self.correct_count / self.total_count\n",
        "    def reset(self):\n",
        "        # Reset counters\n",
        "        self.correct_count = nnx.metrics.MetricState(jnp.array(0, dtype=jnp.int32))\n",
        "        self.total_count = nnx.metrics.MetricState(jnp.array(0, dtype=jnp.int32))"
      ],
      "metadata": {
        "id": "B1kVQ_DFIQQh"
      },
      "execution_count": 9,
      "outputs": []
    },
    {
      "cell_type": "markdown",
      "source": [
        "## test class"
      ],
      "metadata": {
        "id": "nlXFKOWbps1Y"
      }
    },
    {
      "cell_type": "code",
      "source": [
        "metric = CustomMetrics()\n",
        "logits = jnp.array([0.9, 0.7, 0.2, 0.4, 0.8, 0.1])\n",
        "labels = jnp.array([1, 1, 0, 0, 1, 0])\n",
        "\n",
        "metric.update(None, logits, labels)\n",
        "metrics = metric.compute()\n",
        "\n",
        "print(metrics[\"precision\"], 1)\n",
        "print(metrics[\"recall\"], 1)\n",
        "print(metrics[\"f1_score\"], 1)\n",
        "\n",
        "metric.reset()\n",
        "\n",
        "logits = jnp.array([0.9, 0.7, 0.2, 0.8, 0.1, 0.3])\n",
        "labels = jnp.array([1, 0, 1, 1, 0, 0])\n",
        "\n",
        "# Expected binary predictions: [1, 1, 0, 1, 0, 0]\n",
        "# TP = 2 (Correct positive predictions: [1, 1])\n",
        "# FP = 1 (False positive prediction: [1])\n",
        "# FN = 1 (False negative prediction: [1])\n",
        "metric.update(None, logits, labels)\n",
        "metrics = metric.compute()\n",
        "\n",
        "expected_precision = 2 / (2 + 1)  # TP / (TP + FP)\n",
        "expected_recall = 2 / (2 + 1)     # TP / (TP + FN)\n",
        "expected_f1 = 2 * (expected_precision * expected_recall) / (expected_precision + expected_recall)\n",
        "\n",
        "print(metrics[\"precision\"], expected_precision)\n",
        "print(metrics[\"recall\"], expected_recall)\n",
        "print(metrics[\"f1_score\"], expected_f1)\n"
      ],
      "metadata": {
        "colab": {
          "base_uri": "https://localhost:8080/"
        },
        "id": "vlUoD37jprj3",
        "outputId": "88442134-5605-498b-be71-8d0d3f6a128e"
      },
      "execution_count": 10,
      "outputs": [
        {
          "output_type": "stream",
          "name": "stdout",
          "text": [
            "1.0 1\n",
            "1.0 1\n",
            "1.0 1\n",
            "0.6666667 0.6666666666666666\n",
            "0.6666667 0.6666666666666666\n",
            "0.6666666 0.6666666666666666\n"
          ]
        }
      ]
    },
    {
      "cell_type": "markdown",
      "source": [
        "# Setting Up an Optimizer and Metrics"
      ],
      "metadata": {
        "id": "BFME6UD3m88I"
      }
    },
    {
      "cell_type": "code",
      "source": [
        "# Import Optax for optimizer configuration\n",
        "import optax\n",
        "\n",
        "# Learning rate and momentum for the optimizer\n",
        "learning_rate = 0.005\n",
        "momentum = 0.9\n",
        "\n",
        "# Instantiate the MLP model\n",
        "model = MLP(10, 16, 32, 16, 1, rngs=nnx.Rngs(0))\n",
        "\n",
        "# Set up the optimizer using Adam with the specified learning rate\n",
        "optimizer = nnx.Optimizer(model, optax.adam(learning_rate))\n",
        "\n",
        "# Initialize metrics for tracking training performance\n",
        "metrics = nnx.MultiMetric(\n",
        "    accuracy=CustomAccuracy(),\n",
        "    f1_precision_recall=CustomMetrics(),\n",
        "    loss=nnx.metrics.Average('loss'),  # Tracks the average loss\n",
        ")\n"
      ],
      "metadata": {
        "id": "ASj5AcVZqpXN"
      },
      "execution_count": 11,
      "outputs": []
    },
    {
      "cell_type": "markdown",
      "source": [
        "#  Defining Loss, Training, and Evaluation Functions"
      ],
      "metadata": {
        "id": "thvdNah4nV8p"
      }
    },
    {
      "cell_type": "code",
      "source": [
        "class ModelOperations:\n",
        "    @staticmethod\n",
        "    def loss_fn(model, batch):\n",
        "        \"\"\"\n",
        "        Compute the binary cross-entropy loss for a given model and batch.\n",
        "\n",
        "        Args:\n",
        "            model (MLP): The model used to compute predictions.\n",
        "            batch (dict): A batch of input data containing 'features' and 'labels'.\n",
        "\n",
        "        Returns:\n",
        "            tuple: The computed loss and logits.\n",
        "        \"\"\"\n",
        "        # Forward pass: Compute logits (raw predictions) using the model\n",
        "        logits = model(batch['features'])\n",
        "\n",
        "        # Compute binary cross-entropy loss for classification\n",
        "        loss = optax.sigmoid_binary_cross_entropy(\n",
        "            logits=logits, labels=batch['labels'].reshape(-1, 1)\n",
        "        ).mean()\n",
        "\n",
        "        # Return the computed loss and logits\n",
        "        return loss, logits\n",
        "\n",
        "    @staticmethod\n",
        "    @nnx.jit\n",
        "    def train_step(model, optimizer, metrics, batch):\n",
        "        \"\"\"\n",
        "        Perform a single training step.\n",
        "\n",
        "        Args:\n",
        "            model (MLP): The neural network model.\n",
        "            optimizer (nnx.Optimizer): The optimizer for updating model parameters.\n",
        "            metrics (nnx.MultiMetric): The metric tracker for performance monitoring.\n",
        "            batch (dict): A batch of input data containing 'features' and 'labels'.\n",
        "\n",
        "        Returns:\n",
        "            tuple: The computed loss and the sigmoid-transformed logits.\n",
        "        \"\"\"\n",
        "        # Compute loss and gradients using a differentiable function\n",
        "        grad_fn = nnx.value_and_grad(ModelOperations.loss_fn, has_aux=True)\n",
        "        (loss, logits), grads = grad_fn(model, batch)\n",
        "\n",
        "        # Update metrics in-place with loss and logits\n",
        "        metrics.update(loss=loss, logits=logits, labels=batch['labels'])\n",
        "\n",
        "        # Apply the computed gradients to update model parameters\n",
        "        optimizer.update(grads)\n",
        "\n",
        "        # Return the loss and logits after applying sigmoid for interpretation\n",
        "        return loss, nnx.sigmoid(logits)\n",
        "\n",
        "    @staticmethod\n",
        "    @nnx.jit\n",
        "    def eval_step(model, metrics, batch):\n",
        "        \"\"\"\n",
        "        Perform a single evaluation step.\n",
        "\n",
        "        Args:\n",
        "            model (MLP): The neural network model.\n",
        "            metrics (nnx.MultiMetric): The metric tracker for performance monitoring.\n",
        "            batch (dict): A batch of input data containing 'features' and 'labels'.\n",
        "\n",
        "        Returns:\n",
        "            float: The computed loss for the batch.\n",
        "        \"\"\"\n",
        "        # Compute loss and logits for the batch\n",
        "        loss, logits = ModelOperations.loss_fn(model, batch)\n",
        "\n",
        "        # Update metrics in-place with evaluation results\n",
        "        metrics.update(loss=loss, logits=logits, labels=batch['labels'])\n",
        "\n",
        "        # Return the loss for further aggregation or monitoring\n",
        "        return loss\n",
        "\n",
        "    @staticmethod\n",
        "    @nnx.jit\n",
        "    def pred_step(model, batch):\n",
        "        \"\"\"\n",
        "        Perform a prediction step to compute sigmoid-transformed logits.\n",
        "\n",
        "        Args:\n",
        "            model (MLP): The model used to compute predictions.\n",
        "            batch (dict): A batch of input data containing 'features'.\n",
        "\n",
        "        Returns:\n",
        "            jax.numpy.ndarray: The sigmoid-transformed logits.\n",
        "        \"\"\"\n",
        "        logits = model(batch['features'])\n",
        "        return nnx.sigmoid(logits)\n"
      ],
      "metadata": {
        "id": "q50eLXSGGlSZ"
      },
      "execution_count": 13,
      "outputs": []
    },
    {
      "cell_type": "code",
      "source": [
        "import jax\n",
        "from orbax.checkpoint.type_handlers import TypeHandler\n",
        "from orbax.checkpoint.type_handlers import register_type_handler\n",
        "\n",
        "\n",
        "class ModelCheckpointManager:\n",
        "    def __init__(self, model_class, model_args, ckpt_dir, learning_rate):\n",
        "        \"\"\"\n",
        "        Initialize the checkpoint manager with the model class, arguments, checkpoint directory, and learning rate.\n",
        "\n",
        "        Args:\n",
        "            model_class: The model class to instantiate (e.g., MLP).\n",
        "            model_args (tuple): Arguments for the model class initialization.\n",
        "            ckpt_dir (str): Directory of the checkpoint files.\n",
        "            learning_rate (float): Learning rate for the optimizer.\n",
        "        \"\"\"\n",
        "        self.model_class = model_class\n",
        "        self.model_args = model_args\n",
        "        self.ckpt_dir = ckpt_dir\n",
        "        self.learning_rate = learning_rate\n",
        "\n",
        "    def process_and_save_model_state(self, model):\n",
        "        \"\"\"\n",
        "        Processes the model state, modifies the PRNG key, and saves the state to a checkpoint directory.\n",
        "\n",
        "        Args:\n",
        "            model: The model whose state is being processed.\n",
        "\n",
        "        Returns:\n",
        "            prng_key_value: The processed PRNG key value before modification.\n",
        "        \"\"\"\n",
        "        # Retrieve and split the model's state\n",
        "        _, state = nnx.split(model)\n",
        "\n",
        "        # Modify the PRNG key for 'dp1'\n",
        "        prng_key_value = state[\"dp1\"][\"rngs\"][\"default\"][\"key\"].value\n",
        "        state[\"dp1\"][\"rngs\"][\"default\"][\"key\"] = nnx.VariableState(\n",
        "            type=nnx.Param,\n",
        "            value=jax.random.key_data(prng_key_value),\n",
        "            tag='default'\n",
        "        )\n",
        "\n",
        "        # Create a new empty checkpoint directory\n",
        "        self.ckpt_dir = ocp.test_utils.erase_and_create_empty(self.ckpt_dir)\n",
        "\n",
        "        # Initialize the checkpointing system and save the state\n",
        "        checkpointer = ocp.PyTreeCheckpointer()\n",
        "        checkpointer.save(f'{self.ckpt_dir}/state', state)\n",
        "\n",
        "        return prng_key_value\n",
        "\n",
        "    def restore_model_and_initialize_optimizer(self):\n",
        "        \"\"\"\n",
        "        Restores a model's state from a checkpoint and initializes the optimizer and metrics.\n",
        "\n",
        "        Returns:\n",
        "            tuple: The restored model, optimizer, and metrics object.\n",
        "        \"\"\"\n",
        "        # Step 1: Re-initialize the model\n",
        "        new_model = self.model_class(*self.model_args, rngs=nnx.Rngs(0))\n",
        "\n",
        "        # Step 2: Evaluate the abstract shape of the model and split into graph/state\n",
        "        abstract_model = nnx.eval_shape(lambda: new_model)\n",
        "        graph_def, abstract_state = nnx.split(abstract_model)\n",
        "\n",
        "        # Step 3: Restore the state from checkpoint\n",
        "        checkpointer = ocp.PyTreeCheckpointer()\n",
        "        state_restored = checkpointer.restore(f\"{self.ckpt_dir}/state\", abstract_state)\n",
        "\n",
        "        # Step 4: Modify the PRNG key value and ensure correct type\n",
        "        prng_key_value = state_restored[\"dp1\"][\"rngs\"][\"default\"][\"key\"].value\n",
        "        state_restored[\"dp1\"][\"rngs\"][\"default\"][\"key\"].value = jax.random.wrap_key_data(prng_key_value)\n",
        "\n",
        "        # Step 5: Merge the graph definition with the restored state\n",
        "        restored_model = nnx.merge(graph_def, state_restored)\n",
        "\n",
        "        # Step 6: Initialize the optimizer\n",
        "        optimizer = nnx.Optimizer(restored_model, optax.adam(self.learning_rate))\n",
        "\n",
        "        # Step 7: Initialize metrics\n",
        "        metrics = nnx.MultiMetric(\n",
        "            loss=nnx.metrics.Average('loss')\n",
        "        )\n",
        "\n",
        "        return restored_model, optimizer, metrics\n",
        "\n",
        "# Example usage\n",
        "\"\"\"\n",
        "model_args = (10, 16, 32, 16, 1)\n",
        "ckpt_dir = '/content/my-checkpoints/'  # Specify your checkpoint directory\n",
        "manager = ModelCheckpointManager(MLP, model_args, ckpt_dir, learning_rate)\n",
        "model = MLP(*model_args, rngs=nnx.Rngs(0))\n",
        "\n",
        "# Process and save model state\n",
        "prng_key_value = manager.process_and_save_model_state(model)\n",
        "\n",
        "# Restore model and initialize optimizer\n",
        "restored_model, new_optimizer, new_metrics = manager.restore_model_and_initialize_optimizer()\n",
        "\"\"\"\n"
      ],
      "metadata": {
        "colab": {
          "base_uri": "https://localhost:8080/",
          "height": 70
        },
        "collapsed": true,
        "id": "jeAzhDPJYSIp",
        "outputId": "2c2af3bc-c048-4281-be90-24af0d727586"
      },
      "execution_count": 14,
      "outputs": [
        {
          "output_type": "execute_result",
          "data": {
            "text/plain": [
              "\"\\nmodel_args = (10, 16, 32, 16, 1)\\nckpt_dir = '/content/my-checkpoints/'  # Specify your checkpoint directory\\nmanager = ModelCheckpointManager(MLP, model_args, ckpt_dir, learning_rate)\\nmodel = MLP(*model_args, rngs=nnx.Rngs(0))\\n\\n# Process and save model state\\nprng_key_value = manager.process_and_save_model_state(model)\\n\\n# Restore model and initialize optimizer\\nrestored_model, new_optimizer, new_metrics = manager.restore_model_and_initialize_optimizer()\\n\""
            ],
            "application/vnd.google.colaboratory.intrinsic+json": {
              "type": "string"
            }
          },
          "metadata": {},
          "execution_count": 14
        }
      ]
    },
    {
      "cell_type": "markdown",
      "source": [
        "# Dataset Preparation and DataLoader Creation"
      ],
      "metadata": {
        "id": "p6jJmprenxrn"
      }
    },
    {
      "cell_type": "code",
      "source": [
        "def custom_collate_fn(batch):\n",
        "    # Transpose batch to group features and labels separately\n",
        "    transposed_data = list(zip(*batch))\n",
        "\n",
        "    # Convert labels and features into NumPy arrays\n",
        "    labels = np.array(transposed_data[1])\n",
        "    features = np.array(transposed_data[0])\n",
        "\n",
        "    # Return a dictionary with features and labels\n",
        "    return {\"features\": features, \"labels\": labels}\n",
        "\n",
        "train_set, val_set, test_set = torch.utils.data.random_split(dataset, [0.7, 0.1, 0.2])\n",
        "\n",
        "train_ds = DataLoader(train_set, batch_size=64, shuffle=True, drop_last=True, collate_fn=custom_collate_fn)\n",
        "val_ds = DataLoader(val_set, batch_size=64, shuffle=False, drop_last=True, collate_fn=custom_collate_fn)\n",
        "test_ds = DataLoader(test_set, batch_size=64, shuffle=False, drop_last=True, collate_fn=custom_collate_fn)\n",
        "\n",
        "# Fetch a single batch from the training DataLoader\n",
        "batch_data = next(iter(train_ds))\n",
        "imgs = batch_data['features']\n",
        "lbls = batch_data['labels']\n",
        "\n",
        "# Print shapes and data types for verification\n",
        "print(imgs.shape, imgs[0].dtype, lbls.shape, lbls[0].dtype)\n",
        "print(lbls)\n",
        "\n"
      ],
      "metadata": {
        "colab": {
          "base_uri": "https://localhost:8080/"
        },
        "id": "fioF1mHarC8_",
        "outputId": "872ba8f0-8234-47f4-9dbd-d6faefad0db4"
      },
      "execution_count": 15,
      "outputs": [
        {
          "output_type": "stream",
          "name": "stdout",
          "text": [
            "(64, 10) float64 (64,) int64\n",
            "[0 1 1 1 0 0 1 0 0 1 1 1 1 0 1 0 0 1 0 0 0 1 0 1 1 0 1 1 1 1 1 1 1 1 0 1 1\n",
            " 1 0 0 0 1 0 0 0 1 0 0 0 1 1 1 0 1 1 0 0 1 1 0 1 0 1 1]\n"
          ]
        }
      ]
    },
    {
      "cell_type": "markdown",
      "source": [
        "# Checkpoint! save model"
      ],
      "metadata": {
        "id": "U4eF72y2q150"
      }
    },
    {
      "cell_type": "markdown",
      "source": [
        "# Training Loop for Neural Network with Metrics Tracking"
      ],
      "metadata": {
        "id": "HN4uqJhHok23"
      }
    },
    {
      "cell_type": "code",
      "source": [
        "import jax\n",
        "\n",
        "import numpy as np\n",
        "\n",
        "class TrainerWithEarlyStopping:\n",
        "    def __init__(self, model, optimizer, train_ds, val_ds, metrics, num_epochs, tracking_metric, patience, manager, mode='min'):\n",
        "        \"\"\"\n",
        "        Initializes the trainer with necessary parameters.\n",
        "\n",
        "        Args:\n",
        "            model: The model to train and evaluate.\n",
        "            optimizer: Optimizer for training the model.\n",
        "            train_ds: Training dataset.\n",
        "            val_ds: Validation dataset.\n",
        "            metrics: Metrics object for tracking performance.\n",
        "            num_epochs (int): Maximum number of epochs to train.\n",
        "            tracking_metric (str): Metric to track for early stopping.\n",
        "            patience (int): Number of epochs to wait without improvement before stopping.\n",
        "            manager: Object managing checkpointing and state saving.\n",
        "            mode (str): 'min' for metrics to minimize, 'max' for metrics to maximize.\n",
        "        \"\"\"\n",
        "        self.model = model\n",
        "        self.optimizer = optimizer\n",
        "        self.train_ds = train_ds\n",
        "        self.val_ds = val_ds\n",
        "        self.metrics = metrics\n",
        "        self.num_epochs = num_epochs\n",
        "        self.tracking_metric = tracking_metric\n",
        "        self.patience = patience\n",
        "        self.manager = manager\n",
        "        self.mode = mode\n",
        "        self.metrics_history = {\n",
        "            'train_loss': [], 'train_accuracy': [], 'train_precision': [],\n",
        "            'train_recall': [], 'train_f1_score': [], 'val_loss': [],\n",
        "            'val_accuracy': [], 'val_precision': [], 'val_recall': [],\n",
        "            'val_f1_score': []\n",
        "        }\n",
        "        self.best_value = float('inf') if mode == 'min' else float('-inf')\n",
        "        self.best_epoch = 0\n",
        "        self.prng_key_value = None\n",
        "\n",
        "    def update_metrics_history(self, prefix):\n",
        "        \"\"\"\n",
        "        Updates the metrics history with current metrics.\n",
        "\n",
        "        Args:\n",
        "            prefix (str): Prefix for metric keys (e.g., 'train', 'val').\n",
        "        \"\"\"\n",
        "        for metric, value in self.metrics.compute().items():\n",
        "            if metric == 'f1_precision_recall':\n",
        "                self.metrics_history[f'{prefix}_f1_score'].append(value['f1_score'])\n",
        "                self.metrics_history[f'{prefix}_precision'].append(value['precision'])\n",
        "                self.metrics_history[f'{prefix}_recall'].append(value['recall'])\n",
        "            else:\n",
        "                self.metrics_history[f'{prefix}_{metric}'].append(value)\n",
        "\n",
        "    def log_metrics(self, epoch, prefix):\n",
        "        \"\"\"\n",
        "        Logs metrics for the specified phase (train, val).\n",
        "\n",
        "        Args:\n",
        "            epoch (int): Current epoch number.\n",
        "            prefix (str): Prefix for metric keys (e.g., 'train', 'val').\n",
        "        \"\"\"\n",
        "        print(\n",
        "            f\"[{prefix}] epoch: {epoch + 1}/{self.num_epochs}, \"\n",
        "            f\"loss: {self.metrics_history[f'{prefix}_loss'][-1]:.4f}, \"\n",
        "            f\"accuracy: {self.metrics_history[f'{prefix}_accuracy'][-1]:.4f}, \"\n",
        "            f\"precision: {self.metrics_history[f'{prefix}_precision'][-1]:.4f}, \"\n",
        "            f\"recall: {self.metrics_history[f'{prefix}_recall'][-1]:.4f}, \"\n",
        "            f\"f1_score: {self.metrics_history[f'{prefix}_f1_score'][-1]:.4f}\"\n",
        "        )\n",
        "\n",
        "    def train_and_evaluate(self, trainer):\n",
        "        \"\"\"\n",
        "        Trains and evaluates the model, implementing early stopping and model saving.\n",
        "\n",
        "        Args:\n",
        "            trainer: Trainer object with `train_step` and `eval_step` methods.\n",
        "\n",
        "        Returns:\n",
        "            dict: Metrics history.\n",
        "            float: Best value for the tracking metric.\n",
        "            any: Final PRNG key value after training.\n",
        "        \"\"\"\n",
        "        for epoch in range(self.num_epochs):\n",
        "            # Training phase\n",
        "            for batch in self.train_ds:\n",
        "                trainer.train_step(self.model, self.optimizer, self.metrics, batch)\n",
        "            self.update_metrics_history('train')\n",
        "            self.metrics.reset()\n",
        "            self.log_metrics(epoch, 'train')\n",
        "\n",
        "            # Validation phase\n",
        "            for batch in self.val_ds:\n",
        "                trainer.eval_step(self.model, self.metrics, batch)\n",
        "            self.update_metrics_history('val')\n",
        "            self.metrics.reset()\n",
        "            self.log_metrics(epoch, 'val')\n",
        "\n",
        "            # Early stopping and model saving\n",
        "            current_value = self.metrics_history[f'val_{self.tracking_metric}'][-1]\n",
        "            if (self.mode == 'min' and current_value < self.best_value) or (self.mode == 'max' and current_value > self.best_value):\n",
        "                self.best_value = current_value\n",
        "                self.best_epoch = epoch\n",
        "                print(f\"Epoch {epoch + 1}: Best {self.tracking_metric} {self.best_value:.4f}. Saving model...\")\n",
        "                self.prng_key_value = self.manager.process_and_save_model_state(self.model)\n",
        "            elif epoch - self.best_epoch >= self.patience:\n",
        "                print(\"Early stopping triggered.\")\n",
        "                break\n",
        "\n",
        "        return self.metrics_history, self.best_value, self.prng_key_value\n",
        "\n",
        "# Example usage\n",
        "num_epochs = 50\n",
        "tracking_metric = 'val_accuracy'\n",
        "patience = 3\n",
        "mode = 'max'\n",
        "ModelOperations = ModelOperations()\n",
        "\n",
        "\n",
        "model_args = (10, 16, 32, 16, 1)\n",
        "ckpt_dir = '/content/my-checkpoints/'  # Specify your checkpoint directory\n",
        "\n",
        "manager = ModelCheckpointManager(MLP, model_args, ckpt_dir, learning_rate)\n",
        "\n",
        "trainer = TrainerWithEarlyStopping(\n",
        "    model=model,\n",
        "    optimizer=optimizer,\n",
        "    train_ds=train_ds,\n",
        "    val_ds=val_ds,\n",
        "    metrics=metrics,\n",
        "    num_epochs=50,\n",
        "    tracking_metric='loss',\n",
        "    patience=5,\n",
        "    manager=manager,\n",
        "    mode='min'\n",
        ")\n",
        "metrics_history, best_value, prng_key_value = trainer.train_and_evaluate(ModelOperations)\n",
        "#metrics_history, state_org, prng_key_value = train_and_evaluate(model, optimizer, train_ds, val_ds, metrics, num_epochs, tracking_metric, patience, trainer, mode=mode)\n"
      ],
      "metadata": {
        "colab": {
          "base_uri": "https://localhost:8080/"
        },
        "id": "g_cxxkNtrH0O",
        "outputId": "1c02c10f-0209-4d32-aa60-236a8c3ba51c"
      },
      "execution_count": 17,
      "outputs": [
        {
          "output_type": "stream",
          "name": "stdout",
          "text": [
            "[train] epoch: 1/50, loss: 0.3698, accuracy: 0.8116, precision: 0.8583, recall: 0.7865, f1_score: 0.8208\n",
            "[val] epoch: 1/50, loss: 0.2205, accuracy: 0.9029, precision: 0.9352, recall: 0.8862, f1_score: 0.9100\n",
            "Epoch 1: Best loss 0.2205. Saving model...\n",
            "[train] epoch: 2/50, loss: 0.1840, accuracy: 0.9233, precision: 0.9406, recall: 0.9184, f1_score: 0.9294\n",
            "[val] epoch: 2/50, loss: 0.1418, accuracy: 0.9375, precision: 0.9593, recall: 0.9265, f1_score: 0.9426\n",
            "Epoch 2: Best loss 0.1418. Saving model...\n",
            "[train] epoch: 3/50, loss: 0.1547, accuracy: 0.9350, precision: 0.9494, recall: 0.9311, f1_score: 0.9402\n",
            "[val] epoch: 3/50, loss: 0.1300, accuracy: 0.9481, precision: 0.9527, recall: 0.9537, f1_score: 0.9532\n",
            "Epoch 3: Best loss 0.1300. Saving model...\n",
            "[train] epoch: 4/50, loss: 0.1371, accuracy: 0.9455, precision: 0.9560, recall: 0.9442, f1_score: 0.9501\n",
            "[val] epoch: 4/50, loss: 0.1212, accuracy: 0.9425, precision: 0.9744, recall: 0.9204, f1_score: 0.9467\n",
            "Epoch 4: Best loss 0.1212. Saving model...\n",
            "[train] epoch: 5/50, loss: 0.1226, accuracy: 0.9510, precision: 0.9613, recall: 0.9490, f1_score: 0.9551\n",
            "[val] epoch: 5/50, loss: 0.0964, accuracy: 0.9581, precision: 0.9722, recall: 0.9517, f1_score: 0.9618\n",
            "Epoch 5: Best loss 0.0964. Saving model...\n",
            "[train] epoch: 6/50, loss: 0.1315, accuracy: 0.9459, precision: 0.9586, recall: 0.9421, f1_score: 0.9503\n",
            "[val] epoch: 6/50, loss: 0.0982, accuracy: 0.9654, precision: 0.9736, recall: 0.9637, f1_score: 0.9686\n",
            "[train] epoch: 7/50, loss: 0.1120, accuracy: 0.9553, precision: 0.9632, recall: 0.9550, f1_score: 0.9590\n",
            "[val] epoch: 7/50, loss: 0.1172, accuracy: 0.9475, precision: 0.9677, recall: 0.9366, f1_score: 0.9519\n",
            "[train] epoch: 8/50, loss: 0.1135, accuracy: 0.9526, precision: 0.9632, recall: 0.9498, f1_score: 0.9564\n",
            "[val] epoch: 8/50, loss: 0.1102, accuracy: 0.9548, precision: 0.9653, recall: 0.9527, f1_score: 0.9589\n",
            "[train] epoch: 9/50, loss: 0.1130, accuracy: 0.9546, precision: 0.9650, recall: 0.9518, f1_score: 0.9584\n",
            "[val] epoch: 9/50, loss: 0.0956, accuracy: 0.9660, precision: 0.9651, recall: 0.9738, f1_score: 0.9694\n",
            "Epoch 9: Best loss 0.0956. Saving model...\n",
            "[train] epoch: 10/50, loss: 0.1063, accuracy: 0.9588, precision: 0.9669, recall: 0.9577, f1_score: 0.9623\n",
            "[val] epoch: 10/50, loss: 0.1096, accuracy: 0.9554, precision: 0.9597, recall: 0.9597, f1_score: 0.9597\n",
            "[train] epoch: 11/50, loss: 0.1055, accuracy: 0.9586, precision: 0.9666, recall: 0.9577, f1_score: 0.9622\n",
            "[val] epoch: 11/50, loss: 0.0982, accuracy: 0.9548, precision: 0.9653, recall: 0.9527, f1_score: 0.9589\n",
            "[train] epoch: 12/50, loss: 0.1081, accuracy: 0.9566, precision: 0.9668, recall: 0.9537, f1_score: 0.9602\n",
            "[val] epoch: 12/50, loss: 0.1024, accuracy: 0.9576, precision: 0.9627, recall: 0.9607, f1_score: 0.9617\n",
            "[train] epoch: 13/50, loss: 0.1084, accuracy: 0.9582, precision: 0.9678, recall: 0.9556, f1_score: 0.9617\n",
            "[val] epoch: 13/50, loss: 0.0895, accuracy: 0.9688, precision: 0.9662, recall: 0.9778, f1_score: 0.9720\n",
            "Epoch 13: Best loss 0.0895. Saving model...\n",
            "[train] epoch: 14/50, loss: 0.1049, accuracy: 0.9584, precision: 0.9662, recall: 0.9578, f1_score: 0.9620\n",
            "[val] epoch: 14/50, loss: 0.0949, accuracy: 0.9688, precision: 0.9737, recall: 0.9698, f1_score: 0.9717\n",
            "[train] epoch: 15/50, loss: 0.1038, accuracy: 0.9603, precision: 0.9690, recall: 0.9583, f1_score: 0.9636\n",
            "[val] epoch: 15/50, loss: 0.0949, accuracy: 0.9665, precision: 0.9717, recall: 0.9678, f1_score: 0.9697\n",
            "[train] epoch: 16/50, loss: 0.1041, accuracy: 0.9598, precision: 0.9678, recall: 0.9587, f1_score: 0.9632\n",
            "[val] epoch: 16/50, loss: 0.0924, accuracy: 0.9660, precision: 0.9688, recall: 0.9698, f1_score: 0.9693\n",
            "[train] epoch: 17/50, loss: 0.0984, accuracy: 0.9621, precision: 0.9712, recall: 0.9594, f1_score: 0.9653\n",
            "[val] epoch: 17/50, loss: 0.0842, accuracy: 0.9715, precision: 0.9738, recall: 0.9748, f1_score: 0.9743\n",
            "Epoch 17: Best loss 0.0842. Saving model...\n",
            "[train] epoch: 18/50, loss: 0.0986, accuracy: 0.9616, precision: 0.9683, recall: 0.9616, f1_score: 0.9649\n",
            "[val] epoch: 18/50, loss: 0.0909, accuracy: 0.9615, precision: 0.9686, recall: 0.9617, f1_score: 0.9651\n",
            "[train] epoch: 19/50, loss: 0.0929, accuracy: 0.9653, precision: 0.9703, recall: 0.9664, f1_score: 0.9683\n",
            "[val] epoch: 19/50, loss: 0.1019, accuracy: 0.9576, precision: 0.9693, recall: 0.9537, f1_score: 0.9614\n",
            "[train] epoch: 20/50, loss: 0.0988, accuracy: 0.9605, precision: 0.9669, recall: 0.9609, f1_score: 0.9639\n",
            "[val] epoch: 20/50, loss: 0.0994, accuracy: 0.9581, precision: 0.9771, recall: 0.9466, f1_score: 0.9616\n",
            "[train] epoch: 21/50, loss: 0.0921, accuracy: 0.9631, precision: 0.9711, recall: 0.9615, f1_score: 0.9663\n",
            "[val] epoch: 21/50, loss: 0.0921, accuracy: 0.9626, precision: 0.9602, recall: 0.9728, f1_score: 0.9665\n",
            "[train] epoch: 22/50, loss: 0.0962, accuracy: 0.9637, precision: 0.9707, recall: 0.9629, f1_score: 0.9668\n",
            "[val] epoch: 22/50, loss: 0.0768, accuracy: 0.9660, precision: 0.9745, recall: 0.9637, f1_score: 0.9691\n",
            "Epoch 22: Best loss 0.0768. Saving model...\n",
            "[train] epoch: 23/50, loss: 0.0977, accuracy: 0.9645, precision: 0.9711, recall: 0.9641, f1_score: 0.9676\n",
            "[val] epoch: 23/50, loss: 0.0936, accuracy: 0.9587, precision: 0.9873, recall: 0.9376, f1_score: 0.9618\n",
            "[train] epoch: 24/50, loss: 0.0936, accuracy: 0.9634, precision: 0.9707, recall: 0.9624, f1_score: 0.9665\n",
            "[val] epoch: 24/50, loss: 0.0857, accuracy: 0.9598, precision: 0.9723, recall: 0.9547, f1_score: 0.9634\n",
            "[train] epoch: 25/50, loss: 0.0965, accuracy: 0.9616, precision: 0.9706, recall: 0.9592, f1_score: 0.9648\n",
            "[val] epoch: 25/50, loss: 0.0846, accuracy: 0.9682, precision: 0.9727, recall: 0.9698, f1_score: 0.9713\n",
            "[train] epoch: 26/50, loss: 0.0951, accuracy: 0.9638, precision: 0.9704, recall: 0.9633, f1_score: 0.9669\n",
            "[val] epoch: 26/50, loss: 0.0800, accuracy: 0.9682, precision: 0.9785, recall: 0.9637, f1_score: 0.9711\n",
            "[train] epoch: 27/50, loss: 0.0950, accuracy: 0.9639, precision: 0.9699, recall: 0.9641, f1_score: 0.9670\n",
            "[val] epoch: 27/50, loss: 0.0722, accuracy: 0.9732, precision: 0.9720, recall: 0.9799, f1_score: 0.9759\n",
            "Epoch 27: Best loss 0.0722. Saving model...\n",
            "[train] epoch: 28/50, loss: 0.0921, accuracy: 0.9636, precision: 0.9703, recall: 0.9632, f1_score: 0.9668\n",
            "[val] epoch: 28/50, loss: 0.0910, accuracy: 0.9660, precision: 0.9641, recall: 0.9748, f1_score: 0.9695\n",
            "[train] epoch: 29/50, loss: 0.0944, accuracy: 0.9638, precision: 0.9721, recall: 0.9616, f1_score: 0.9669\n",
            "[val] epoch: 29/50, loss: 0.0857, accuracy: 0.9660, precision: 0.9874, recall: 0.9507, f1_score: 0.9687\n",
            "[train] epoch: 30/50, loss: 0.0909, accuracy: 0.9650, precision: 0.9720, recall: 0.9639, f1_score: 0.9680\n",
            "[val] epoch: 30/50, loss: 0.0867, accuracy: 0.9593, precision: 0.9772, recall: 0.9486, f1_score: 0.9627\n",
            "[train] epoch: 31/50, loss: 0.0916, accuracy: 0.9644, precision: 0.9712, recall: 0.9638, f1_score: 0.9675\n",
            "[val] epoch: 31/50, loss: 0.0844, accuracy: 0.9637, precision: 0.9833, recall: 0.9507, f1_score: 0.9667\n",
            "[train] epoch: 32/50, loss: 0.1002, accuracy: 0.9595, precision: 0.9697, recall: 0.9562, f1_score: 0.9629\n",
            "[val] epoch: 32/50, loss: 0.0727, accuracy: 0.9760, precision: 0.9741, recall: 0.9829, f1_score: 0.9784\n",
            "Early stopping triggered.\n"
          ]
        }
      ]
    },
    {
      "cell_type": "markdown",
      "source": [
        "# Prediction and Evaluation Pipeline"
      ],
      "metadata": {
        "id": "L0iX4KVcqTfz"
      }
    },
    {
      "cell_type": "code",
      "source": [
        "model.eval()\n",
        "\n",
        "test_ds = DataLoader(test_set, batch_size=32, shuffle=False, drop_last=True, collate_fn=custom_collate_fn)\n",
        "\n",
        "ypred = []  # List to store predicted probabilities\n",
        "label = []  # List to store true labels\n",
        "\n",
        "for test_batch in test_ds:\n",
        "    logits = ModelOperations.pred_step(model, test_batch)\n",
        "    ypred.extend(np.ravel(logits))  # Flatten and collect predictions\n",
        "    label.extend(np.ravel(test_batch[\"labels\"]))  # Flatten and collect true labels\n",
        "\n",
        "binary_ypred = np.where(np.array(ypred) > 0.5, 1, 0)\n",
        "\n",
        "accuracy = sum([1 for pred, true in zip(binary_ypred, label) if pred == true]) / len(label)\n",
        "print(f\"Accuracy: {accuracy:.4f}\")\n"
      ],
      "metadata": {
        "colab": {
          "base_uri": "https://localhost:8080/"
        },
        "id": "4JdDFipvrj4L",
        "outputId": "a2417656-f8ca-49de-d3e7-e8298904816b"
      },
      "execution_count": 19,
      "outputs": [
        {
          "output_type": "stream",
          "name": "stdout",
          "text": [
            "Accuracy: 0.7848\n"
          ]
        }
      ]
    }
  ]
}