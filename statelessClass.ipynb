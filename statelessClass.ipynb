{
  "nbformat": 4,
  "nbformat_minor": 0,
  "metadata": {
    "colab": {
      "provenance": [],
      "authorship_tag": "ABX9TyOdM1Ru0ttnpzpeHPXgJ3Cb",
      "include_colab_link": true
    },
    "kernelspec": {
      "name": "python3",
      "display_name": "Python 3"
    },
    "language_info": {
      "name": "python"
    }
  },
  "cells": [
    {
      "cell_type": "markdown",
      "metadata": {
        "id": "view-in-github",
        "colab_type": "text"
      },
      "source": [
        "<a href=\"https://colab.research.google.com/github/mohsenh17/jaxLearning/blob/main/statelessClass.ipynb\" target=\"_parent\"><img src=\"https://colab.research.google.com/assets/colab-badge.svg\" alt=\"Open In Colab\"/></a>"
      ]
    },
    {
      "cell_type": "code",
      "execution_count": 4,
      "metadata": {
        "id": "QRYdy3MZ093J"
      },
      "outputs": [],
      "source": [
        "import jax\n",
        "import jax.numpy as jnp\n",
        "import numpy as np\n",
        "\n",
        "from jax import grad, jit, vmap, pmap\n",
        "\n",
        "from jax import random\n",
        "import matplotlib.pyplot as plt\n",
        "\n",
        "import functools"
      ]
    },
    {
      "cell_type": "code",
      "source": [
        "class Counter:\n",
        "  def __init__(self):\n",
        "    self.count = 0\n",
        "\n",
        "  def increment(self):\n",
        "    self.count += 1\n",
        "    return self.count\n",
        "\n",
        "  def reset(self):\n",
        "    self.count = 0\n",
        "    return self.count\n",
        "counter = Counter()\n",
        "\n",
        "for _ in range(3):\n",
        "    print(counter.increment())"
      ],
      "metadata": {
        "colab": {
          "base_uri": "https://localhost:8080/"
        },
        "id": "hEgQcXQr28cL",
        "outputId": "440f2593-23b8-4ac6-e64c-efae1006a479"
      },
      "execution_count": 1,
      "outputs": [
        {
          "output_type": "stream",
          "name": "stdout",
          "text": [
            "1\n",
            "2\n",
            "3\n"
          ]
        }
      ]
    },
    {
      "cell_type": "code",
      "source": [
        "counter.reset()\n",
        "fast_counter = jit(counter.increment)\n",
        "for _ in range(3):\n",
        "    print(fast_counter())"
      ],
      "metadata": {
        "colab": {
          "base_uri": "https://localhost:8080/"
        },
        "id": "IH1orc4u3S2I",
        "outputId": "d07176c2-5574-4dec-9049-d71396b3d152"
      },
      "execution_count": 6,
      "outputs": [
        {
          "output_type": "stream",
          "name": "stdout",
          "text": [
            "1\n",
            "1\n",
            "1\n"
          ]
        }
      ]
    },
    {
      "cell_type": "code",
      "source": [
        "counterState = int\n",
        "class StatelessCounter:\n",
        "  def increment(self, state: counterState) -> tuple[counterState, int]:\n",
        "    return state + 1, state + 1\n",
        "  def reset(self) -> counterState:\n",
        "    return 0\n",
        "\n",
        "counter = StatelessCounter()\n",
        "state = counter.reset()\n",
        "for _ in range(3):\n",
        "    value, state = counter.increment(state)\n",
        "    print(value)"
      ],
      "metadata": {
        "colab": {
          "base_uri": "https://localhost:8080/"
        },
        "id": "Sk1Y01gs3vGc",
        "outputId": "13320e87-3db3-4899-d6c7-f50a2bcc9096"
      },
      "execution_count": 11,
      "outputs": [
        {
          "output_type": "stream",
          "name": "stdout",
          "text": [
            "1\n",
            "2\n",
            "3\n"
          ]
        }
      ]
    },
    {
      "cell_type": "code",
      "source": [
        "fast_counter = jit(counter.increment)\n",
        "state = counter.reset()\n",
        "for _ in range(3):\n",
        "    value, state = fast_counter(state)\n",
        "    print(value)\n"
      ],
      "metadata": {
        "colab": {
          "base_uri": "https://localhost:8080/"
        },
        "id": "cvgxX1hF43AA",
        "outputId": "beca43bd-61cd-4dcc-dff0-031c6877a5ed"
      },
      "execution_count": 12,
      "outputs": [
        {
          "output_type": "stream",
          "name": "stdout",
          "text": [
            "1\n",
            "2\n",
            "3\n"
          ]
        }
      ]
    }
  ]
}